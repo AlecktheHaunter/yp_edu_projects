{
 "cells": [
  {
   "cell_type": "markdown",
   "id": "5cc38cca",
   "metadata": {
    "id": "5cc38cca"
   },
   "source": [
    "# Игра \"Космические братья\". Анализ рекламных источников"
   ]
  },
  {
   "cell_type": "markdown",
   "id": "-m-u3kP6b4Ue",
   "metadata": {
    "id": "-m-u3kP6b4Ue"
   },
   "source": [
    "Ссылка на презентацию: https://docs.google.com/presentation/d/1DLPsrkiOtK5LgfbUmmniBA3z6dO8SJ9sxX0EHmkBYfE/edit?usp=sharing"
   ]
  },
  {
   "cell_type": "markdown",
   "id": "b82c8b2d",
   "metadata": {
    "id": "b82c8b2d"
   },
   "source": [
    "## Цели и задачи проекта"
   ]
  },
  {
   "cell_type": "markdown",
   "id": "264f9cae",
   "metadata": {
    "id": "264f9cae"
   },
   "source": [
    "**Описание игры**: мобильная игра по строительству пользователями космических программ для колонизации галактики. Монетизация игры - просмотр рекламных роликов перед возможностью постройки игровых объектов.\n",
    "\n",
    "**Цель проекта** - исследовать влияние источника перехода в игру на поведение пользователя (количество просмотренных рекламных роликов).\n",
    "\n",
    "**Задачи проекта:**\n",
    "- провести исследовательский анализ данных;\n",
    "- исследовать влияние источника перехода в игру на поведение пользователя (количество просмотренных рекламных роликов);\n",
    "- сформулировать статистические гипотезы и проверить статистическими тестами:\n",
    "    1. *Гипотеза 1: время завершения уровня различается в зависимости способа прохождения:*\n",
    "        - *через реализацию проекта,*\n",
    "        - *через победу над первым игроком.*\n",
    "    2. *Гипотеза 2: количество построенных объектов (или, что то же самое, просмотренных рекламных роликов) различается в зависимости от выбранной игроком стратегии: воители, строители.*\n",
    "\n",
    "**Бизнес-задача**: увеличить доход от игры, увеличив среднее количество просмотренных рекламных роликов."
   ]
  },
  {
   "cell_type": "markdown",
   "id": "8f15bd5c",
   "metadata": {
    "id": "8f15bd5c"
   },
   "source": [
    "## Описание исходных данных"
   ]
  },
  {
   "cell_type": "markdown",
   "id": "d526b83c",
   "metadata": {
    "id": "d526b83c"
   },
   "source": [
    "**Описание анализируемых данных**:\n",
    "- данные пользователей;\n",
    "- данные только по `уровню 1`;\n",
    "- результат завершения уровня 1 (один из):\n",
    "    - `победа над (первым) врагом`;\n",
    "    - реализация проекта - `разработка орбитальной сборки спутников`."
   ]
  },
  {
   "cell_type": "markdown",
   "id": "d43ceb63",
   "metadata": {
    "id": "d43ceb63"
   },
   "source": [
    "## Получение и обзор данных"
   ]
  },
  {
   "cell_type": "markdown",
   "id": "4f97ea8a",
   "metadata": {
    "id": "4f97ea8a"
   },
   "source": [
    "### Импорт библиотек"
   ]
  },
  {
   "cell_type": "code",
   "execution_count": 1,
   "id": "e3afbf98",
   "metadata": {
    "id": "e3afbf98"
   },
   "outputs": [],
   "source": [
    "import pandas as pd\n",
    "import numpy as np\n",
    "import matplotlib.pyplot as plt\n",
    "import seaborn as sns\n",
    "from datetime import datetime, timedelta\n",
    "import scipy.stats as st\n",
    "import warnings\n",
    "import sys"
   ]
  },
  {
   "cell_type": "markdown",
   "id": "6501476b",
   "metadata": {
    "id": "6501476b"
   },
   "source": [
    "### Чтение файлов"
   ]
  },
  {
   "cell_type": "code",
   "execution_count": 2,
   "id": "74fadbe7",
   "metadata": {
    "id": "74fadbe7"
   },
   "outputs": [],
   "source": [
    "# файлы ad_costs.csv, game_actions.csv, user_sourse.csv размещены по ссылкам соответственно:\n",
    "yandex_disc_links = ['under NDA', \n",
    "                      'under NDA', \n",
    "                      'under NDA']"
   ]
  },
  {
   "cell_type": "code",
   "execution_count": 3,
   "id": "5b3a4acf",
   "metadata": {
    "id": "5b3a4acf"
   },
   "outputs": [],
   "source": [
    "# также файлы размещены в google-облаке (доступ по ссылке открыт):\n",
    "google_disc_links = ['under NDA',\n",
    "                     'under NDA',\n",
    "                     'under NDA']"
   ]
  },
  {
   "cell_type": "code",
   "execution_count": 4,
   "id": "4f1c5a3b",
   "metadata": {
    "colab": {
     "base_uri": "https://localhost:8080/",
     "height": 584
    },
    "id": "4f1c5a3b",
    "outputId": "c0e0a952-c874-4211-d815-e597b1ca626a",
    "scrolled": false
   },
   "outputs": [
    {
     "data": {
      "text/html": [
       "<div>\n",
       "<style scoped>\n",
       "    .dataframe tbody tr th:only-of-type {\n",
       "        vertical-align: middle;\n",
       "    }\n",
       "\n",
       "    .dataframe tbody tr th {\n",
       "        vertical-align: top;\n",
       "    }\n",
       "\n",
       "    .dataframe thead th {\n",
       "        text-align: right;\n",
       "    }\n",
       "</style>\n",
       "<table border=\"1\" class=\"dataframe\">\n",
       "  <thead>\n",
       "    <tr style=\"text-align: right;\">\n",
       "      <th></th>\n",
       "      <th>source</th>\n",
       "      <th>day</th>\n",
       "      <th>cost</th>\n",
       "    </tr>\n",
       "  </thead>\n",
       "  <tbody>\n",
       "    <tr>\n",
       "      <th>0</th>\n",
       "      <td>facebook_ads</td>\n",
       "      <td>2020-05-03</td>\n",
       "      <td>935.882786</td>\n",
       "    </tr>\n",
       "    <tr>\n",
       "      <th>1</th>\n",
       "      <td>facebook_ads</td>\n",
       "      <td>2020-05-04</td>\n",
       "      <td>548.354480</td>\n",
       "    </tr>\n",
       "    <tr>\n",
       "      <th>2</th>\n",
       "      <td>facebook_ads</td>\n",
       "      <td>2020-05-05</td>\n",
       "      <td>260.185754</td>\n",
       "    </tr>\n",
       "    <tr>\n",
       "      <th>3</th>\n",
       "      <td>facebook_ads</td>\n",
       "      <td>2020-05-06</td>\n",
       "      <td>177.982200</td>\n",
       "    </tr>\n",
       "    <tr>\n",
       "      <th>4</th>\n",
       "      <td>facebook_ads</td>\n",
       "      <td>2020-05-07</td>\n",
       "      <td>111.766796</td>\n",
       "    </tr>\n",
       "  </tbody>\n",
       "</table>\n",
       "</div>"
      ],
      "text/plain": [
       "         source         day        cost\n",
       "0  facebook_ads  2020-05-03  935.882786\n",
       "1  facebook_ads  2020-05-04  548.354480\n",
       "2  facebook_ads  2020-05-05  260.185754\n",
       "3  facebook_ads  2020-05-06  177.982200\n",
       "4  facebook_ads  2020-05-07  111.766796"
      ]
     },
     "metadata": {},
     "output_type": "display_data"
    },
    {
     "data": {
      "text/html": [
       "<div>\n",
       "<style scoped>\n",
       "    .dataframe tbody tr th:only-of-type {\n",
       "        vertical-align: middle;\n",
       "    }\n",
       "\n",
       "    .dataframe tbody tr th {\n",
       "        vertical-align: top;\n",
       "    }\n",
       "\n",
       "    .dataframe thead th {\n",
       "        text-align: right;\n",
       "    }\n",
       "</style>\n",
       "<table border=\"1\" class=\"dataframe\">\n",
       "  <thead>\n",
       "    <tr style=\"text-align: right;\">\n",
       "      <th></th>\n",
       "      <th>event_datetime</th>\n",
       "      <th>event</th>\n",
       "      <th>building_type</th>\n",
       "      <th>user_id</th>\n",
       "      <th>project_type</th>\n",
       "    </tr>\n",
       "  </thead>\n",
       "  <tbody>\n",
       "    <tr>\n",
       "      <th>0</th>\n",
       "      <td>2020-05-04 00:00:01</td>\n",
       "      <td>building</td>\n",
       "      <td>assembly_shop</td>\n",
       "      <td>55e92310-cb8e-4754-b622-597e124b03de</td>\n",
       "      <td>NaN</td>\n",
       "    </tr>\n",
       "    <tr>\n",
       "      <th>1</th>\n",
       "      <td>2020-05-04 00:00:03</td>\n",
       "      <td>building</td>\n",
       "      <td>assembly_shop</td>\n",
       "      <td>c07b1c10-f477-44dc-81dc-ec82254b1347</td>\n",
       "      <td>NaN</td>\n",
       "    </tr>\n",
       "    <tr>\n",
       "      <th>2</th>\n",
       "      <td>2020-05-04 00:00:16</td>\n",
       "      <td>building</td>\n",
       "      <td>assembly_shop</td>\n",
       "      <td>6edd42cc-e753-4ff6-a947-2107cd560710</td>\n",
       "      <td>NaN</td>\n",
       "    </tr>\n",
       "    <tr>\n",
       "      <th>3</th>\n",
       "      <td>2020-05-04 00:00:16</td>\n",
       "      <td>building</td>\n",
       "      <td>assembly_shop</td>\n",
       "      <td>92c69003-d60a-444a-827f-8cc51bf6bf4c</td>\n",
       "      <td>NaN</td>\n",
       "    </tr>\n",
       "    <tr>\n",
       "      <th>4</th>\n",
       "      <td>2020-05-04 00:00:35</td>\n",
       "      <td>building</td>\n",
       "      <td>assembly_shop</td>\n",
       "      <td>cdc6bb92-0ccb-4490-9866-ef142f09139d</td>\n",
       "      <td>NaN</td>\n",
       "    </tr>\n",
       "  </tbody>\n",
       "</table>\n",
       "</div>"
      ],
      "text/plain": [
       "        event_datetime     event  building_type  \\\n",
       "0  2020-05-04 00:00:01  building  assembly_shop   \n",
       "1  2020-05-04 00:00:03  building  assembly_shop   \n",
       "2  2020-05-04 00:00:16  building  assembly_shop   \n",
       "3  2020-05-04 00:00:16  building  assembly_shop   \n",
       "4  2020-05-04 00:00:35  building  assembly_shop   \n",
       "\n",
       "                                user_id project_type  \n",
       "0  55e92310-cb8e-4754-b622-597e124b03de          NaN  \n",
       "1  c07b1c10-f477-44dc-81dc-ec82254b1347          NaN  \n",
       "2  6edd42cc-e753-4ff6-a947-2107cd560710          NaN  \n",
       "3  92c69003-d60a-444a-827f-8cc51bf6bf4c          NaN  \n",
       "4  cdc6bb92-0ccb-4490-9866-ef142f09139d          NaN  "
      ]
     },
     "metadata": {},
     "output_type": "display_data"
    },
    {
     "data": {
      "text/html": [
       "<div>\n",
       "<style scoped>\n",
       "    .dataframe tbody tr th:only-of-type {\n",
       "        vertical-align: middle;\n",
       "    }\n",
       "\n",
       "    .dataframe tbody tr th {\n",
       "        vertical-align: top;\n",
       "    }\n",
       "\n",
       "    .dataframe thead th {\n",
       "        text-align: right;\n",
       "    }\n",
       "</style>\n",
       "<table border=\"1\" class=\"dataframe\">\n",
       "  <thead>\n",
       "    <tr style=\"text-align: right;\">\n",
       "      <th></th>\n",
       "      <th>user_id</th>\n",
       "      <th>source</th>\n",
       "    </tr>\n",
       "  </thead>\n",
       "  <tbody>\n",
       "    <tr>\n",
       "      <th>0</th>\n",
       "      <td>0001f83c-c6ac-4621-b7f0-8a28b283ac30</td>\n",
       "      <td>facebook_ads</td>\n",
       "    </tr>\n",
       "    <tr>\n",
       "      <th>1</th>\n",
       "      <td>00151b4f-ba38-44a8-a650-d7cf130a0105</td>\n",
       "      <td>yandex_direct</td>\n",
       "    </tr>\n",
       "    <tr>\n",
       "      <th>2</th>\n",
       "      <td>001aaea6-3d14-43f1-8ca8-7f48820f17aa</td>\n",
       "      <td>youtube_channel_reklama</td>\n",
       "    </tr>\n",
       "    <tr>\n",
       "      <th>3</th>\n",
       "      <td>001d39dc-366c-4021-9604-6a3b9ff01e25</td>\n",
       "      <td>instagram_new_adverts</td>\n",
       "    </tr>\n",
       "    <tr>\n",
       "      <th>4</th>\n",
       "      <td>002f508f-67b6-479f-814b-b05f00d4e995</td>\n",
       "      <td>facebook_ads</td>\n",
       "    </tr>\n",
       "  </tbody>\n",
       "</table>\n",
       "</div>"
      ],
      "text/plain": [
       "                                user_id                   source\n",
       "0  0001f83c-c6ac-4621-b7f0-8a28b283ac30             facebook_ads\n",
       "1  00151b4f-ba38-44a8-a650-d7cf130a0105            yandex_direct\n",
       "2  001aaea6-3d14-43f1-8ca8-7f48820f17aa  youtube_channel_reklama\n",
       "3  001d39dc-366c-4021-9604-6a3b9ff01e25    instagram_new_adverts\n",
       "4  002f508f-67b6-479f-814b-b05f00d4e995             facebook_ads"
      ]
     },
     "metadata": {},
     "output_type": "display_data"
    }
   ],
   "source": [
    "# чтение данных датасетов в DataFrame-таблицы\n",
    "ad_costs_df, game_actions_df, user_source_df = pd.DataFrame(), pd.DataFrame(), pd.DataFrame()\n",
    "df_list = [ad_costs_df, game_actions_df, user_source_df]\n",
    "\n",
    "for i in range(len(df_list)):\n",
    "    try:\n",
    "        df_list[i] = pd.read_csv(yandex_disc_links[i])\n",
    "    except:\n",
    "        url = google_disc_links[i]\n",
    "        url = 'https://drive.google.com/uc?id=' + url.split('/')[-2]\n",
    "        df_list[i] = pd.read_csv(url)\n",
    "    display(df_list[i].head())\n",
    "        \n",
    "ad_costs_df, game_actions_df, user_source_df = df_list"
   ]
  },
  {
   "cell_type": "markdown",
   "id": "7599a9e7",
   "metadata": {
    "id": "7599a9e7"
   },
   "source": [
    "### Обзор данных, формирование задач для предобработки данных"
   ]
  },
  {
   "cell_type": "code",
   "execution_count": 5,
   "id": "55bd2de3",
   "metadata": {},
   "outputs": [],
   "source": [
    "def bold_text(*agrs):\n",
    "    w = ' '.join(*agrs)\n",
    "    return '\\033[1m' + w + '\\033[0m'"
   ]
  },
  {
   "cell_type": "code",
   "execution_count": 6,
   "id": "1a403bfc",
   "metadata": {},
   "outputs": [],
   "source": [
    "def get_primal_info(df_list, df_names):\n",
    "    for i, df in enumerate(df_list):\n",
    "        print(bold_text(['Общий обзор таблицы', df_names[i]]), end='\\n\\n')\n",
    "        print('\\t', bold_text(['Общий обзор методом info']))\n",
    "        print(df_list[i].info(), end='\\n\\n')\n",
    "        print('\\t', bold_text(['Общий обзор методом describe']))\n",
    "        print(df_list[i].describe(datetime_is_numeric=True), end='\\n\\n')\n",
    "        print('\\t', bold_text(['Общий обзор методом value_counts']))\n",
    "        print(df_list[i].value_counts(), end='\\n\\n')\n",
    "        print('\\t', bold_text(['Процент пропущенных значений']))\n",
    "        print(df_list[i].isna().mean()*100, end='\\n\\n')\n",
    "        print('\\t', bold_text(['Количество явных дубликатов']))\n",
    "        print(df_list[i].duplicated().sum(), end='\\n\\n')\n",
    "        "
   ]
  },
  {
   "cell_type": "code",
   "execution_count": 7,
   "id": "a13d4407",
   "metadata": {
    "scrolled": false
   },
   "outputs": [
    {
     "name": "stdout",
     "output_type": "stream",
     "text": [
      "\u001b[1mОбщий обзор таблицы ad costs\u001b[0m\n",
      "\n",
      "\t \u001b[1mОбщий обзор методом info\u001b[0m\n",
      "<class 'pandas.core.frame.DataFrame'>\n",
      "RangeIndex: 28 entries, 0 to 27\n",
      "Data columns (total 3 columns):\n",
      " #   Column  Non-Null Count  Dtype  \n",
      "---  ------  --------------  -----  \n",
      " 0   source  28 non-null     object \n",
      " 1   day     28 non-null     object \n",
      " 2   cost    28 non-null     float64\n",
      "dtypes: float64(1), object(2)\n",
      "memory usage: 800.0+ bytes\n",
      "None\n",
      "\n",
      "\t \u001b[1mОбщий обзор методом describe\u001b[0m\n",
      "             cost\n",
      "count   28.000000\n",
      "mean   271.556321\n",
      "std    286.867650\n",
      "min     23.314669\n",
      "25%     66.747365\n",
      "50%    160.056443\n",
      "75%    349.034473\n",
      "max    969.139394\n",
      "\n",
      "\t \u001b[1mОбщий обзор методом value_counts\u001b[0m\n",
      "source                   day         cost      \n",
      "facebook_ads             2020-05-03  935.882786    1\n",
      "                         2020-05-04  548.354480    1\n",
      "youtube_channel_reklama  2020-05-08  40.217907     1\n",
      "                         2020-05-07  55.740645     1\n",
      "                         2020-05-06  88.506074     1\n",
      "                         2020-05-05  147.041741    1\n",
      "                         2020-05-04  259.073224    1\n",
      "                         2020-05-03  454.224943    1\n",
      "yandex_direct            2020-05-09  42.779505     1\n",
      "                         2020-05-08  62.961630     1\n",
      "                         2020-05-07  114.429338    1\n",
      "                         2020-05-06  180.917099    1\n",
      "                         2020-05-05  308.232990    1\n",
      "                         2020-05-04  554.651494    1\n",
      "                         2020-05-03  969.139394    1\n",
      "instagram_new_adverts    2020-05-09  46.775400     1\n",
      "                         2020-05-08  71.578739     1\n",
      "                         2020-05-07  109.915254    1\n",
      "                         2020-05-06  173.071145    1\n",
      "                         2020-05-05  313.970984    1\n",
      "                         2020-05-04  502.925451    1\n",
      "                         2020-05-03  943.204717    1\n",
      "facebook_ads             2020-05-09  38.723350     1\n",
      "                         2020-05-08  68.009276     1\n",
      "                         2020-05-07  111.766796    1\n",
      "                         2020-05-06  177.982200    1\n",
      "                         2020-05-05  260.185754    1\n",
      "youtube_channel_reklama  2020-05-09  23.314669     1\n",
      "dtype: int64\n",
      "\n",
      "\t \u001b[1mПроцент пропущенных значений\u001b[0m\n",
      "source    0.0\n",
      "day       0.0\n",
      "cost      0.0\n",
      "dtype: float64\n",
      "\n",
      "\t \u001b[1mКоличество явных дубликатов\u001b[0m\n",
      "0\n",
      "\n",
      "\u001b[1mОбщий обзор таблицы game actions\u001b[0m\n",
      "\n",
      "\t \u001b[1mОбщий обзор методом info\u001b[0m\n",
      "<class 'pandas.core.frame.DataFrame'>\n",
      "RangeIndex: 135640 entries, 0 to 135639\n",
      "Data columns (total 5 columns):\n",
      " #   Column          Non-Null Count   Dtype \n",
      "---  ------          --------------   ----- \n",
      " 0   event_datetime  135640 non-null  object\n",
      " 1   event           135640 non-null  object\n",
      " 2   building_type   127957 non-null  object\n",
      " 3   user_id         135640 non-null  object\n",
      " 4   project_type    1866 non-null    object\n",
      "dtypes: object(5)\n",
      "memory usage: 5.2+ MB\n",
      "None\n",
      "\n",
      "\t \u001b[1mОбщий обзор методом describe\u001b[0m\n",
      "             event_datetime     event building_type  \\\n",
      "count                135640    135640        127957   \n",
      "unique               128790         3             3   \n",
      "top     2020-05-09 12:35:56  building     spaceport   \n",
      "freq                      4    127957         59325   \n",
      "\n",
      "                                     user_id                project_type  \n",
      "count                                 135640                        1866  \n",
      "unique                                 13576                           1  \n",
      "top     bf542075-e3a2-4e79-82d8-3838e86d2a25  satellite_orbital_assembly  \n",
      "freq                                      22                        1866  \n",
      "\n",
      "\t \u001b[1mОбщий обзор методом value_counts\u001b[0m\n",
      "Series([], dtype: int64)\n",
      "\n",
      "\t \u001b[1mПроцент пропущенных значений\u001b[0m\n",
      "event_datetime     0.000000\n",
      "event              0.000000\n",
      "building_type      5.664258\n",
      "user_id            0.000000\n",
      "project_type      98.624300\n",
      "dtype: float64\n",
      "\n",
      "\t \u001b[1mКоличество явных дубликатов\u001b[0m\n",
      "1\n",
      "\n",
      "\u001b[1mОбщий обзор таблицы user source\u001b[0m\n",
      "\n",
      "\t \u001b[1mОбщий обзор методом info\u001b[0m\n",
      "<class 'pandas.core.frame.DataFrame'>\n",
      "RangeIndex: 13576 entries, 0 to 13575\n",
      "Data columns (total 2 columns):\n",
      " #   Column   Non-Null Count  Dtype \n",
      "---  ------   --------------  ----- \n",
      " 0   user_id  13576 non-null  object\n",
      " 1   source   13576 non-null  object\n",
      "dtypes: object(2)\n",
      "memory usage: 212.2+ KB\n",
      "None\n",
      "\n",
      "\t \u001b[1mОбщий обзор методом describe\u001b[0m\n",
      "                                     user_id         source\n",
      "count                                  13576          13576\n",
      "unique                                 13576              4\n",
      "top     0001f83c-c6ac-4621-b7f0-8a28b283ac30  yandex_direct\n",
      "freq                                       1           4817\n",
      "\n",
      "\t \u001b[1mОбщий обзор методом value_counts\u001b[0m\n",
      "user_id                               source                 \n",
      "0001f83c-c6ac-4621-b7f0-8a28b283ac30  facebook_ads               1\n",
      "a9ff93bd-0b96-4e89-bef7-c29326643faf  youtube_channel_reklama    1\n",
      "aa08dc9a-f199-483d-aa43-2781abb889fc  instagram_new_adverts      1\n",
      "aa0d0a62-0ba5-4d87-9467-4eb39d6b2d17  facebook_ads               1\n",
      "aa122ae2-5e98-4d93-96dc-fdcf7016398e  facebook_ads               1\n",
      "                                                                ..\n",
      "53c5f5cc-975b-4be6-9a60-2a8fe0fc226f  instagram_new_adverts      1\n",
      "53d146cf-1b2a-4038-8326-7900b021f418  yandex_direct              1\n",
      "53d59f09-9745-4bdd-b6e5-56f98a5228d4  instagram_new_adverts      1\n",
      "53d8dfd2-d601-461b-a4fd-890be5b45d27  yandex_direct              1\n",
      "ffff69cc-fec1-4fd3-9f98-93be1112a6b8  facebook_ads               1\n",
      "Length: 13576, dtype: int64\n",
      "\n",
      "\t \u001b[1mПроцент пропущенных значений\u001b[0m\n",
      "user_id    0.0\n",
      "source     0.0\n",
      "dtype: float64\n",
      "\n",
      "\t \u001b[1mКоличество явных дубликатов\u001b[0m\n",
      "0\n",
      "\n"
     ]
    }
   ],
   "source": [
    "get_primal_info(df_list, df_names=['ad costs', 'game actions', 'user source'])"
   ]
  },
  {
   "cell_type": "markdown",
   "id": "6228d89e",
   "metadata": {
    "id": "6228d89e"
   },
   "source": [
    "**Задачи для этапа предобработки таблицы ad_costs_df**:\n",
    "- заменить тип данных в колонке `day` на `datetime`.\n",
    "\n",
    "Пропущенные значения отсутствуют, наименования колонок выполнены в формате snake_case, явных дубликатов нет."
   ]
  },
  {
   "cell_type": "markdown",
   "id": "533dd537",
   "metadata": {
    "id": "14607d0c"
   },
   "source": [
    "**Задачи для этапа предобработки таблицы game_actions_df**:\n",
    "- заменить тип данных в колонке `event_datetime` на `datetime`,\n",
    "- рассмотреть пропущенные значения в колонках `building_type`, `project_type`,\n",
    "- рассмотреть 1 явный дубликат.\n",
    "\n",
    "Наименования колонок выполнены в формате snake_case."
   ]
  },
  {
   "cell_type": "markdown",
   "id": "5366cb4c",
   "metadata": {
    "id": "f2ed284c"
   },
   "source": [
    "**Задачи для этапа предобработки таблицы user_source_df**: отсутствуют.\n",
    "\n",
    "Пропущенные значения отсутствуют, тип данных соответствует доменным областям, наименования колонок выполнены в формате snake_case, явных дубликатов нет."
   ]
  },
  {
   "cell_type": "code",
   "execution_count": 8,
   "id": "FhFIKuf1xCjg",
   "metadata": {
    "colab": {
     "base_uri": "https://localhost:8080/"
    },
    "id": "FhFIKuf1xCjg",
    "outputId": "653f3075-2326-4a38-d713-746b5739de85"
   },
   "outputs": [
    {
     "data": {
      "text/plain": [
       "13576"
      ]
     },
     "execution_count": 8,
     "metadata": {},
     "output_type": "execute_result"
    }
   ],
   "source": [
    "# количество уникальных пользователей\n",
    "game_actions_df.user_id.nunique()"
   ]
  },
  {
   "cell_type": "code",
   "execution_count": 9,
   "id": "c8sYlTllnX-n",
   "metadata": {
    "colab": {
     "base_uri": "https://localhost:8080/"
    },
    "id": "c8sYlTllnX-n",
    "outputId": "d6495138-05ac-4e9a-c05f-ba8394e321e7"
   },
   "outputs": [
    {
     "name": "stdout",
     "output_type": "stream",
     "text": [
      "Все пользователи пришли из рекламных каналов. \"Органические\" пользователи отсутствуют.\n"
     ]
    }
   ],
   "source": [
    "# проверим, существуют ли 'органические' пользователи или все рассматриваемые пользователи пришли из рекламных каналов\n",
    "if len(game_actions_df.user_id.unique()) == len(user_source_df.user_id.unique()):\n",
    "    print('Все пользователи пришли из рекламных каналов. \"Органические\" пользователи отсутствуют.')\n",
    "else:\n",
    "    print('Данные представлены, в том числе, для \"органических\" пользователей.')"
   ]
  },
  {
   "cell_type": "code",
   "execution_count": 10,
   "id": "aDQZsIlUuuaR",
   "metadata": {
    "colab": {
     "base_uri": "https://localhost:8080/"
    },
    "id": "aDQZsIlUuuaR",
    "outputId": "52afcf4f-7058-40cf-a2d9-542108261aee"
   },
   "outputs": [
    {
     "name": "stdout",
     "output_type": "stream",
     "text": [
      "Первая запись логов: 2020-05-04 00:00:01\n",
      "Последняя запись логов: 2020-06-05 12:32:49\n"
     ]
    }
   ],
   "source": [
    "# период пользовательской активности\n",
    "print(f'Первая запись логов: {game_actions_df.event_datetime.min()}')\n",
    "print(f'Последняя запись логов: {game_actions_df.event_datetime.max()}')"
   ]
  },
  {
   "cell_type": "markdown",
   "id": "16fad4b2",
   "metadata": {
    "id": "16fad4b2"
   },
   "source": [
    "## Предобработка данных"
   ]
  },
  {
   "cell_type": "markdown",
   "id": "994a6264",
   "metadata": {
    "id": "994a6264"
   },
   "source": [
    "### Задачи для предобработки данных"
   ]
  },
  {
   "cell_type": "markdown",
   "id": "eca8b495",
   "metadata": {
    "id": "eca8b495"
   },
   "source": [
    "1. Для таблицы `ad_costs_df`:\n",
    "    - заменить тип данных в колонке `day` на `datetime`\n",
    "\n",
    "\n",
    "2. Для таблицы `game_actions_df`:\n",
    "    - рассмотреть 1 явный дубликат,\n",
    "    - заменить тип данных в колонке `event_datetime` на `datetime`,\n",
    "    - рассмотреть пропущенные значения в колонках `building_type`, `project_type`. Рассмотреть возможность замены пропущенных данных на значения или значения-заглушки."
   ]
  },
  {
   "cell_type": "markdown",
   "id": "9a2577cb",
   "metadata": {
    "id": "9a2577cb"
   },
   "source": [
    "### Предобработка данных"
   ]
  },
  {
   "cell_type": "markdown",
   "id": "d41c2e87",
   "metadata": {
    "id": "d41c2e87"
   },
   "source": [
    "**Обработка таблицы `ad_costs_df`**"
   ]
  },
  {
   "cell_type": "code",
   "execution_count": 11,
   "id": "57d0d7ad",
   "metadata": {
    "id": "57d0d7ad"
   },
   "outputs": [],
   "source": [
    "# замена типа данных в колонке day на datetime\n",
    "ad_costs_df['day'] = pd.to_datetime(ad_costs_df['day'])"
   ]
  },
  {
   "cell_type": "code",
   "execution_count": 12,
   "id": "56dabe33",
   "metadata": {
    "colab": {
     "base_uri": "https://localhost:8080/"
    },
    "id": "56dabe33",
    "outputId": "ac06bfe0-56ae-4b4c-b45c-515170156105",
    "scrolled": false
   },
   "outputs": [
    {
     "name": "stdout",
     "output_type": "stream",
     "text": [
      "<class 'pandas.core.frame.DataFrame'>\n",
      "RangeIndex: 28 entries, 0 to 27\n",
      "Data columns (total 3 columns):\n",
      " #   Column  Non-Null Count  Dtype         \n",
      "---  ------  --------------  -----         \n",
      " 0   source  28 non-null     object        \n",
      " 1   day     28 non-null     datetime64[ns]\n",
      " 2   cost    28 non-null     float64       \n",
      "dtypes: datetime64[ns](1), float64(1), object(1)\n",
      "memory usage: 800.0+ bytes\n"
     ]
    }
   ],
   "source": [
    "# проверка\n",
    "ad_costs_df.info()"
   ]
  },
  {
   "cell_type": "markdown",
   "id": "d8e69423",
   "metadata": {
    "id": "d8e69423"
   },
   "source": [
    "**Обработка таблицы `game_actions_df`**"
   ]
  },
  {
   "cell_type": "code",
   "execution_count": 13,
   "id": "VyUE-3ztvova",
   "metadata": {
    "colab": {
     "base_uri": "https://localhost:8080/"
    },
    "id": "VyUE-3ztvova",
    "outputId": "e92d7bac-fe2e-47f9-a226-8eb55d294f10"
   },
   "outputs": [
    {
     "name": "stdout",
     "output_type": "stream",
     "text": [
      "1\n",
      "0\n"
     ]
    }
   ],
   "source": [
    "# удаление явного дубликата\n",
    "print(game_actions_df.duplicated().sum())\n",
    "game_actions_df.drop_duplicates(inplace=True)\n",
    "print(game_actions_df.duplicated().sum())"
   ]
  },
  {
   "cell_type": "code",
   "execution_count": 14,
   "id": "65c069f0",
   "metadata": {
    "id": "65c069f0"
   },
   "outputs": [],
   "source": [
    "# замена типа данных в колонке event_datetime на datetime\n",
    "game_actions_df['event_datetime_full'] = game_actions_df['event_datetime']\n",
    "game_actions_df['event_datetime'] = pd.to_datetime(game_actions_df['event_datetime']).dt.date\n",
    "game_actions_df['event_datetime'] = pd.to_datetime(game_actions_df['event_datetime'])"
   ]
  },
  {
   "cell_type": "code",
   "execution_count": 15,
   "id": "c932ac71",
   "metadata": {
    "colab": {
     "base_uri": "https://localhost:8080/"
    },
    "id": "c932ac71",
    "outputId": "e432e626-4479-4e74-ade4-9f0ca34f7f49",
    "scrolled": true
   },
   "outputs": [
    {
     "name": "stdout",
     "output_type": "stream",
     "text": [
      "Пропущенные значения в колонке building_type относятся к событиям, которые не связаны со строительством объектов.\n",
      "    Меняем пропущенные значения на строковое значение-заглушку \"None\"\n"
     ]
    }
   ],
   "source": [
    "# пропущенные значения в колонке building_type\n",
    "if len(game_actions_df.query('building_type != building_type and event == \"building\"')) == 0:\n",
    "    print('''Пропущенные значения в колонке building_type относятся к событиям, которые не связаны со строительством объектов.\n",
    "    Меняем пропущенные значения на строковое значение-заглушку \"None\"''')\n",
    "    game_actions_df['building_type'] = game_actions_df['building_type'].fillna('None')"
   ]
  },
  {
   "cell_type": "code",
   "execution_count": 16,
   "id": "dc77fa86",
   "metadata": {
    "scrolled": true
   },
   "outputs": [
    {
     "data": {
      "text/plain": [
       "False"
      ]
     },
     "execution_count": 16,
     "metadata": {},
     "output_type": "execute_result"
    }
   ],
   "source": [
    "None == 'None'"
   ]
  },
  {
   "cell_type": "code",
   "execution_count": 17,
   "id": "JbNKmUc7kOHG",
   "metadata": {
    "id": "JbNKmUc7kOHG"
   },
   "outputs": [],
   "source": [
    "# пропущенные значения в колонке project_type, очевидно, относятся к тем пользователям, которые не реализовали \n",
    "# программу строительства проекта 'орбитальной сборки спутников' в этом случае можем заменить пропущенные значения \n",
    "# на значение-заглушку 'None'\n",
    "game_actions_df['project_type'] = game_actions_df['project_type'].fillna('None')"
   ]
  },
  {
   "cell_type": "code",
   "execution_count": 18,
   "id": "M9b3uyQ4am17",
   "metadata": {
    "colab": {
     "base_uri": "https://localhost:8080/"
    },
    "id": "M9b3uyQ4am17",
    "outputId": "b8823745-5ca2-42dd-a9db-6a18918f5493",
    "scrolled": true
   },
   "outputs": [
    {
     "name": "stdout",
     "output_type": "stream",
     "text": [
      "<class 'pandas.core.frame.DataFrame'>\n",
      "Int64Index: 135639 entries, 0 to 135639\n",
      "Data columns (total 6 columns):\n",
      " #   Column               Non-Null Count   Dtype         \n",
      "---  ------               --------------   -----         \n",
      " 0   event_datetime       135639 non-null  datetime64[ns]\n",
      " 1   event                135639 non-null  object        \n",
      " 2   building_type        135639 non-null  object        \n",
      " 3   user_id              135639 non-null  object        \n",
      " 4   project_type         135639 non-null  object        \n",
      " 5   event_datetime_full  135639 non-null  object        \n",
      "dtypes: datetime64[ns](1), object(5)\n",
      "memory usage: 7.2+ MB\n"
     ]
    }
   ],
   "source": [
    "# проверка\n",
    "game_actions_df.info()"
   ]
  },
  {
   "cell_type": "code",
   "execution_count": 19,
   "id": "SsXWnHCZdnNZ",
   "metadata": {
    "id": "SsXWnHCZdnNZ"
   },
   "outputs": [],
   "source": [
    "# создадим список user_id тех пользователей, кто в рассматриваемый период завершил уровень 1\n",
    "finished_users_ids_set = set(game_actions_df.query('event == \"finished_stage_1\"').user_id.to_list())"
   ]
  },
  {
   "cell_type": "code",
   "execution_count": 20,
   "id": "l2ZWAUlLfjr4",
   "metadata": {
    "id": "l2ZWAUlLfjr4"
   },
   "outputs": [],
   "source": [
    "# создадим список user_id тех пользователей, кто в рассматриваемый период не завершил уровень 1\n",
    "unfinished_users_ids_set = set(game_actions_df.user_id.to_list()) - finished_users_ids_set"
   ]
  },
  {
   "cell_type": "code",
   "execution_count": 21,
   "id": "qQ1t-YFOhVLh",
   "metadata": {
    "colab": {
     "base_uri": "https://localhost:8080/"
    },
    "id": "qQ1t-YFOhVLh",
    "outputId": "b739b0c6-b569-4619-d447-bd2e4d707a2a"
   },
   "outputs": [
    {
     "name": "stdout",
     "output_type": "stream",
     "text": [
      "Количество пользователей, завершивших проект, но не завершивших 1 уровень - 0 чел.\n"
     ]
    }
   ],
   "source": [
    "# найдём пользователей, которые завершили проект 'орбитальной сборки спутников', но за наблюдаемый период не завершили уровень 1\n",
    "print('Количество пользователей, завершивших проект, но не завершивших 1 уровень -',\n",
    "      len(game_actions_df[(game_actions_df['project_type'] != \"None\") & (game_actions_df['user_id'].isin(unfinished_users_ids_set))]),\n",
    "      'чел.')"
   ]
  },
  {
   "cell_type": "markdown",
   "id": "FVLH_C8doRl8",
   "metadata": {
    "id": "FVLH_C8doRl8"
   },
   "source": [
    "Таким образом, можно сделать вывод, что множества пользователей не пересекаются:\n",
    "- завершили уровень, победив врага (предполагает автоматическое завершение уровня) - далее - 'воители';\n",
    "- завершили уровень, реализовав программу строительства проекта 'орбитальной сборки спутников' (не предполагает автоматическое завершение уровня) - далее - 'строители';\n",
    "- не завершили уровень (не победили врага, не реализовали проект 'орбитальной сборки спутников')."
   ]
  },
  {
   "cell_type": "code",
   "execution_count": 22,
   "id": "TXV1-279pC8S",
   "metadata": {
    "id": "TXV1-279pC8S"
   },
   "outputs": [],
   "source": [
    "# разделим finished_users_ids_set на множество user_id 'воителей' (warrior_users) и 'строителей' (builder_users)\n",
    "builder_users_set = set(game_actions_df[(game_actions_df['project_type'] != 'None') \\\n",
    "                                         & (game_actions_df['user_id'].isin(finished_users_ids_set))] \\\n",
    "                         .user_id.to_list())"
   ]
  },
  {
   "cell_type": "code",
   "execution_count": 23,
   "id": "j5Imz88arE2w",
   "metadata": {
    "id": "j5Imz88arE2w"
   },
   "outputs": [],
   "source": [
    "warrior_users_set = finished_users_ids_set - builder_users_set"
   ]
  },
  {
   "cell_type": "code",
   "execution_count": 24,
   "id": "o-ErTXgTfKNO",
   "metadata": {
    "colab": {
     "base_uri": "https://localhost:8080/"
    },
    "id": "o-ErTXgTfKNO",
    "outputId": "cbd99ed9-cd25-4357-cb07-11ae55c0d14b",
    "scrolled": true
   },
   "outputs": [
    {
     "name": "stdout",
     "output_type": "stream",
     "text": [
      "Общее количество пользователей - 13576, \n",
      "\n",
      "из них завершили уровень 1 - 5817 или 42.8%,\n",
      "\tиз них воителей - 3951 (29.1%),\n",
      "\tиз них строителей - 1866 (13.7%), \n",
      "\n",
      "остались на уровне 1 - 7759 или 57.2%\n"
     ]
    }
   ],
   "source": [
    "# проверка и выводы\n",
    "print(f'''Общее количество пользователей - {len(game_actions_df.user_id.unique())}, \\n\n",
    "из них завершили уровень 1 - {len(finished_users_ids_set)} или {round(len(finished_users_ids_set) * 100 / len(game_actions_df.user_id.unique()), 1)}%,\n",
    "\\tиз них воителей - {len(warrior_users_set)} ({round(len(warrior_users_set) * 100 / len(game_actions_df.user_id.unique()), 1)}%),\n",
    "\\tиз них строителей - {len(builder_users_set)} ({round(len(builder_users_set) * 100 / len(game_actions_df.user_id.unique()), 1)}%), \\n\n",
    "остались на уровне 1 - {len(unfinished_users_ids_set)} или {round(len(unfinished_users_ids_set) * 100 / len(game_actions_df.user_id.unique()), 1)}%''')"
   ]
  },
  {
   "cell_type": "code",
   "execution_count": 25,
   "id": "0eea56de",
   "metadata": {},
   "outputs": [],
   "source": [
    "users_strategies_df = pd.DataFrame(game_actions_df.user_id.unique(), columns=['ids'])"
   ]
  },
  {
   "cell_type": "code",
   "execution_count": 26,
   "id": "f571053c",
   "metadata": {},
   "outputs": [],
   "source": [
    "def mark_status(id):\n",
    "    '''функция возвращает статус пользователя по его id'''\n",
    "    if id in warrior_users_set:\n",
    "        return 'warriors'\n",
    "    if id in builder_users_set:\n",
    "        return 'builders'\n",
    "    else:\n",
    "        return 'stayed'"
   ]
  },
  {
   "cell_type": "code",
   "execution_count": 27,
   "id": "886d904b",
   "metadata": {},
   "outputs": [],
   "source": [
    "users_strategies_df['status'] = users_strategies_df['ids'].apply(mark_status)"
   ]
  },
  {
   "cell_type": "code",
   "execution_count": 28,
   "id": "6938cc66",
   "metadata": {},
   "outputs": [],
   "source": [
    "df_to_plot = users_strategies_df.groupby('status', as_index=False).agg(ids_count = ('ids', 'count'))"
   ]
  },
  {
   "cell_type": "code",
   "execution_count": 29,
   "id": "67bd5dcf",
   "metadata": {},
   "outputs": [
    {
     "data": {
      "text/html": [
       "<div>\n",
       "<style scoped>\n",
       "    .dataframe tbody tr th:only-of-type {\n",
       "        vertical-align: middle;\n",
       "    }\n",
       "\n",
       "    .dataframe tbody tr th {\n",
       "        vertical-align: top;\n",
       "    }\n",
       "\n",
       "    .dataframe thead th {\n",
       "        text-align: right;\n",
       "    }\n",
       "</style>\n",
       "<table border=\"1\" class=\"dataframe\">\n",
       "  <thead>\n",
       "    <tr style=\"text-align: right;\">\n",
       "      <th></th>\n",
       "      <th>status</th>\n",
       "      <th>ids_count</th>\n",
       "    </tr>\n",
       "  </thead>\n",
       "  <tbody>\n",
       "    <tr>\n",
       "      <th>0</th>\n",
       "      <td>builders</td>\n",
       "      <td>1866</td>\n",
       "    </tr>\n",
       "    <tr>\n",
       "      <th>1</th>\n",
       "      <td>stayed</td>\n",
       "      <td>7759</td>\n",
       "    </tr>\n",
       "    <tr>\n",
       "      <th>2</th>\n",
       "      <td>warriors</td>\n",
       "      <td>3951</td>\n",
       "    </tr>\n",
       "  </tbody>\n",
       "</table>\n",
       "</div>"
      ],
      "text/plain": [
       "     status  ids_count\n",
       "0  builders       1866\n",
       "1    stayed       7759\n",
       "2  warriors       3951"
      ]
     },
     "execution_count": 29,
     "metadata": {},
     "output_type": "execute_result"
    }
   ],
   "source": [
    "df_to_plot"
   ]
  },
  {
   "cell_type": "code",
   "execution_count": 30,
   "id": "a04ace3b",
   "metadata": {},
   "outputs": [
    {
     "data": {
      "image/png": "[encoded data removed]",
      "text/plain": [
       "<Figure size 1080x576 with 1 Axes>"
      ]
     },
     "metadata": {},
     "output_type": "display_data"
    }
   ],
   "source": [
    "plt.figure(figsize=(15, 8))\n",
    "colors = sns.color_palette('pastel')[0:3]\n",
    "plt.pie(df_to_plot.ids_count, labels = df_to_plot.status, colors = colors, autopct='%.0f%%', textprops={'fontsize': 14, 'color': 'white'})\n",
    "plt.title('Распределение завершивших уровень (воители / строители) и оставшихся на уровне')\n",
    "\n",
    "plt.show()"
   ]
  },
  {
   "cell_type": "markdown",
   "id": "ae8566a2",
   "metadata": {
    "id": "ae8566a2"
   },
   "source": [
    "### Выводы"
   ]
  },
  {
   "cell_type": "markdown",
   "id": "5fb95444",
   "metadata": {
    "id": "5fb95444"
   },
   "source": [
    "В процессе предобработки данных:\n",
    "- заменены тип данных в колонках со значениями времени `day` на `datetime` в таблицах `ad_costs_df`, `game_actions_df`;\n",
    "- в таблице `game_actions_df`:\n",
    "    - удален 1 явный дубликат,\n",
    "    - пропущенные значения в колонках `building_type`, `project_type` заменены на строковые значения-заглушки;\n",
    "- данные представлены для 3 непересекающихся множества пользователей: `воители`, `строители`, оставшихся на уровне 1."
   ]
  },
  {
   "cell_type": "markdown",
   "id": "92f7478c",
   "metadata": {
    "id": "92f7478c"
   },
   "source": [
    "## Исследовательский анализ данных"
   ]
  },
  {
   "cell_type": "markdown",
   "id": "7a176024",
   "metadata": {
    "id": "7a176024"
   },
   "source": [
    "### Задачи для исследовательского анализа данных"
   ]
  },
  {
   "cell_type": "markdown",
   "id": "575f63f7",
   "metadata": {
    "id": "575f63f7"
   },
   "source": [
    "1. Объединить таблицы для формирования данных по источникам привлечения пользователей (органические пользователи, рекламные).\n",
    "2. Рассчитать, какой процент пользователей завершает уровень 1 в разрезе источников привлечения. Построить графики.\n",
    "3. Рассчитать время завершения игры для каждого завершившего. Построить график распределения по количеству дней в разрезе источников привлечения. Построить график распределения по количеству дней в разрезе используемой стратегии (победа над врагом / реализация проекта).\n",
    "4. Рассчитать кумулятивное количество построек по количеству дней в разрезе источников привлечения.\n",
    "5. Вычислить стоимость привлечения каждого пользователя. Выявить самые дорогие и дешевые источники привлечения пользователей.\n",
    "6. Рассчитать LTV (доход от суммарного показа рекламных роликов - стоимость привлечения) в разрезе источников привлечения."
   ]
  },
  {
   "cell_type": "markdown",
   "id": "db42b774",
   "metadata": {
    "id": "db42b774"
   },
   "source": [
    "### Исследовательский анализ данных"
   ]
  },
  {
   "cell_type": "markdown",
   "id": "6M9g9G82U_Qb",
   "metadata": {
    "id": "6M9g9G82U_Qb"
   },
   "source": [
    "Монетизация игры - просмотр рекламных роликов перед возможностью постройки игровых объектов (принимается условный доход от показа в 0.07 у.е.)."
   ]
  },
  {
   "cell_type": "markdown",
   "id": "AAtGdnAxVVWz",
   "metadata": {
    "id": "AAtGdnAxVVWz"
   },
   "source": [
    "#### Объединить таблицы для формирования данных по источникам привлечения пользователей (органические пользователи, рекламные)."
   ]
  },
  {
   "cell_type": "markdown",
   "id": "ecdfb396",
   "metadata": {
    "id": "ecdfb396"
   },
   "source": [
    "Объединим таблицу `game_actions_df` с данными таблицы `user_source_df` по `user_id`, тем самым добавим каждому пользователю сведения о том, из какого канала он вошел в игру."
   ]
  },
  {
   "cell_type": "code",
   "execution_count": 31,
   "id": "aa08ef54",
   "metadata": {
    "id": "aa08ef54"
   },
   "outputs": [],
   "source": [
    "game_actions_df_and_sources = game_actions_df.merge(user_source_df, how='left', left_on='user_id', right_on='user_id')"
   ]
  },
  {
   "cell_type": "markdown",
   "id": "4cef51b3",
   "metadata": {
    "id": "4cef51b3"
   },
   "source": [
    "Рассмотрим, какое количество пользователей ежедневно присоединялось к игре в разрезе источников. Для этого найдем дату первого входа в игру для каждого пользователя."
   ]
  },
  {
   "cell_type": "code",
   "execution_count": 32,
   "id": "f755c3ca",
   "metadata": {
    "id": "f755c3ca",
    "scrolled": true
   },
   "outputs": [],
   "source": [
    "first_session = game_actions_df_and_sources.sort_values(by='event_datetime', ascending=True) \\\n",
    "                                            .groupby(['user_id', 'source'], as_index=False) \\\n",
    "                                            .agg(first_session_date=('event_datetime', 'first'), \\\n",
    "                                                 first_session_date_full=('event_datetime_full', 'first'))"
   ]
  },
  {
   "cell_type": "code",
   "execution_count": 33,
   "id": "a95916a0",
   "metadata": {
    "id": "a95916a0"
   },
   "outputs": [],
   "source": [
    "# присоединим данные таблицы first_session к game_actions_df_and_sources\n",
    "game_actions_df_and_sources_first_visit = game_actions_df_and_sources.merge(first_session[['user_id', 'first_session_date']], how='left', on='user_id')"
   ]
  },
  {
   "cell_type": "code",
   "execution_count": 34,
   "id": "b0d93eee",
   "metadata": {
    "id": "b0d93eee"
   },
   "outputs": [],
   "source": [
    "first_session_users_number = first_session.groupby(['first_session_date', 'source'], as_index=False) \\\n",
    "                                            .agg(user_count=('user_id', 'count')) \\\n",
    "                                            .sort_values(by=['source', 'first_session_date'], ascending=True)"
   ]
  },
  {
   "cell_type": "code",
   "execution_count": 35,
   "id": "7d60aa7e",
   "metadata": {
    "colab": {
     "base_uri": "https://localhost:8080/",
     "height": 206
    },
    "id": "7d60aa7e",
    "outputId": "63f306e1-b741-4bfa-de0c-0d55b9f5fec0"
   },
   "outputs": [
    {
     "data": {
      "text/html": [
       "<div>\n",
       "<style scoped>\n",
       "    .dataframe tbody tr th:only-of-type {\n",
       "        vertical-align: middle;\n",
       "    }\n",
       "\n",
       "    .dataframe tbody tr th {\n",
       "        vertical-align: top;\n",
       "    }\n",
       "\n",
       "    .dataframe thead th {\n",
       "        text-align: right;\n",
       "    }\n",
       "</style>\n",
       "<table border=\"1\" class=\"dataframe\">\n",
       "  <thead>\n",
       "    <tr style=\"text-align: right;\">\n",
       "      <th></th>\n",
       "      <th>first_session_date</th>\n",
       "      <th>source</th>\n",
       "      <th>user_count</th>\n",
       "    </tr>\n",
       "  </thead>\n",
       "  <tbody>\n",
       "    <tr>\n",
       "      <th>0</th>\n",
       "      <td>2020-05-04</td>\n",
       "      <td>facebook_ads</td>\n",
       "      <td>1184</td>\n",
       "    </tr>\n",
       "    <tr>\n",
       "      <th>4</th>\n",
       "      <td>2020-05-05</td>\n",
       "      <td>facebook_ads</td>\n",
       "      <td>694</td>\n",
       "    </tr>\n",
       "    <tr>\n",
       "      <th>8</th>\n",
       "      <td>2020-05-06</td>\n",
       "      <td>facebook_ads</td>\n",
       "      <td>345</td>\n",
       "    </tr>\n",
       "    <tr>\n",
       "      <th>12</th>\n",
       "      <td>2020-05-07</td>\n",
       "      <td>facebook_ads</td>\n",
       "      <td>224</td>\n",
       "    </tr>\n",
       "    <tr>\n",
       "      <th>16</th>\n",
       "      <td>2020-05-08</td>\n",
       "      <td>facebook_ads</td>\n",
       "      <td>139</td>\n",
       "    </tr>\n",
       "  </tbody>\n",
       "</table>\n",
       "</div>"
      ],
      "text/plain": [
       "   first_session_date        source  user_count\n",
       "0          2020-05-04  facebook_ads        1184\n",
       "4          2020-05-05  facebook_ads         694\n",
       "8          2020-05-06  facebook_ads         345\n",
       "12         2020-05-07  facebook_ads         224\n",
       "16         2020-05-08  facebook_ads         139"
      ]
     },
     "execution_count": 35,
     "metadata": {},
     "output_type": "execute_result"
    }
   ],
   "source": [
    "# проверка\n",
    "first_session_users_number.head()"
   ]
  },
  {
   "cell_type": "markdown",
   "id": "b208873e",
   "metadata": {
    "id": "b208873e"
   },
   "source": [
    "Рассчитаем среднюю стоимость привлечения"
   ]
  },
  {
   "cell_type": "code",
   "execution_count": 36,
   "id": "9515e76d",
   "metadata": {
    "id": "9515e76d"
   },
   "outputs": [],
   "source": [
    "# создадим копию таблицу со стоимостью привлечения пользователей и изменим дату на +1 день, \n",
    "# чтобы это соответствовало данным в таблице game_actions_df\n",
    "ad_costs_df_offset = ad_costs_df.copy()\n",
    "ad_costs_df_offset['day'] = pd.DatetimeIndex(ad_costs_df_offset['day']) + pd.DateOffset(1)"
   ]
  },
  {
   "cell_type": "code",
   "execution_count": 37,
   "id": "d0346147",
   "metadata": {
    "id": "d0346147"
   },
   "outputs": [],
   "source": [
    "# объединим таблицы first_session_users_number и ad_costs_df_offset\n",
    "first_session_users_number_costs = first_session_users_number.merge(ad_costs_df_offset, \n",
    "                                                                    how='inner', left_on=['first_session_date', 'source'],\n",
    "                                                                   right_on=['day', 'source'])"
   ]
  },
  {
   "cell_type": "code",
   "execution_count": 38,
   "id": "54084cf4",
   "metadata": {
    "id": "54084cf4"
   },
   "outputs": [],
   "source": [
    "first_session_users_number_costs.drop('day', axis=1, inplace=True)"
   ]
  },
  {
   "cell_type": "code",
   "execution_count": 39,
   "id": "5d8254cc",
   "metadata": {
    "id": "5d8254cc"
   },
   "outputs": [],
   "source": [
    "first_session_users_number_costs['avg_user_acquisition_cost'] = first_session_users_number_costs.cost / first_session_users_number_costs.user_count"
   ]
  },
  {
   "cell_type": "code",
   "execution_count": 40,
   "id": "4b59554a",
   "metadata": {
    "colab": {
     "base_uri": "https://localhost:8080/",
     "height": 206
    },
    "id": "4b59554a",
    "outputId": "80fedfd8-917f-4bca-b33b-a74f21a951ee",
    "scrolled": true
   },
   "outputs": [
    {
     "data": {
      "text/html": [
       "<div>\n",
       "<style scoped>\n",
       "    .dataframe tbody tr th:only-of-type {\n",
       "        vertical-align: middle;\n",
       "    }\n",
       "\n",
       "    .dataframe tbody tr th {\n",
       "        vertical-align: top;\n",
       "    }\n",
       "\n",
       "    .dataframe thead th {\n",
       "        text-align: right;\n",
       "    }\n",
       "</style>\n",
       "<table border=\"1\" class=\"dataframe\">\n",
       "  <thead>\n",
       "    <tr style=\"text-align: right;\">\n",
       "      <th></th>\n",
       "      <th>first_session_date</th>\n",
       "      <th>source</th>\n",
       "      <th>user_count</th>\n",
       "      <th>cost</th>\n",
       "      <th>avg_user_acquisition_cost</th>\n",
       "    </tr>\n",
       "  </thead>\n",
       "  <tbody>\n",
       "    <tr>\n",
       "      <th>0</th>\n",
       "      <td>2020-05-04</td>\n",
       "      <td>facebook_ads</td>\n",
       "      <td>1184</td>\n",
       "      <td>935.882786</td>\n",
       "      <td>0.790442</td>\n",
       "    </tr>\n",
       "    <tr>\n",
       "      <th>1</th>\n",
       "      <td>2020-05-05</td>\n",
       "      <td>facebook_ads</td>\n",
       "      <td>694</td>\n",
       "      <td>548.354480</td>\n",
       "      <td>0.790136</td>\n",
       "    </tr>\n",
       "    <tr>\n",
       "      <th>2</th>\n",
       "      <td>2020-05-06</td>\n",
       "      <td>facebook_ads</td>\n",
       "      <td>345</td>\n",
       "      <td>260.185754</td>\n",
       "      <td>0.754162</td>\n",
       "    </tr>\n",
       "    <tr>\n",
       "      <th>3</th>\n",
       "      <td>2020-05-07</td>\n",
       "      <td>facebook_ads</td>\n",
       "      <td>224</td>\n",
       "      <td>177.982200</td>\n",
       "      <td>0.794563</td>\n",
       "    </tr>\n",
       "    <tr>\n",
       "      <th>4</th>\n",
       "      <td>2020-05-08</td>\n",
       "      <td>facebook_ads</td>\n",
       "      <td>139</td>\n",
       "      <td>111.766796</td>\n",
       "      <td>0.804078</td>\n",
       "    </tr>\n",
       "  </tbody>\n",
       "</table>\n",
       "</div>"
      ],
      "text/plain": [
       "  first_session_date        source  user_count        cost  \\\n",
       "0         2020-05-04  facebook_ads        1184  935.882786   \n",
       "1         2020-05-05  facebook_ads         694  548.354480   \n",
       "2         2020-05-06  facebook_ads         345  260.185754   \n",
       "3         2020-05-07  facebook_ads         224  177.982200   \n",
       "4         2020-05-08  facebook_ads         139  111.766796   \n",
       "\n",
       "   avg_user_acquisition_cost  \n",
       "0                   0.790442  \n",
       "1                   0.790136  \n",
       "2                   0.754162  \n",
       "3                   0.794563  \n",
       "4                   0.804078  "
      ]
     },
     "execution_count": 40,
     "metadata": {},
     "output_type": "execute_result"
    }
   ],
   "source": [
    "# проверка\n",
    "first_session_users_number_costs.head()"
   ]
  },
  {
   "cell_type": "code",
   "execution_count": 41,
   "id": "10daeed8",
   "metadata": {
    "id": "10daeed8"
   },
   "outputs": [],
   "source": [
    "# присоединим таблицу first_session_users_number_costs к таблице game_actions_df_and_sources_first_visit\n",
    "united_user_data = game_actions_df_and_sources_first_visit \\\n",
    "                        .merge(first_session_users_number_costs[['first_session_date', 'source', 'avg_user_acquisition_cost']], \\\n",
    "                               how='left', left_on=['first_session_date', 'source'], right_on=['first_session_date', 'source'])"
   ]
  },
  {
   "cell_type": "code",
   "execution_count": 42,
   "id": "66f39075",
   "metadata": {
    "colab": {
     "base_uri": "https://localhost:8080/",
     "height": 206
    },
    "id": "66f39075",
    "outputId": "a1460b99-dfe8-47b2-fc57-f5257a5d3bc5",
    "scrolled": true
   },
   "outputs": [
    {
     "data": {
      "text/html": [
       "<div>\n",
       "<style scoped>\n",
       "    .dataframe tbody tr th:only-of-type {\n",
       "        vertical-align: middle;\n",
       "    }\n",
       "\n",
       "    .dataframe tbody tr th {\n",
       "        vertical-align: top;\n",
       "    }\n",
       "\n",
       "    .dataframe thead th {\n",
       "        text-align: right;\n",
       "    }\n",
       "</style>\n",
       "<table border=\"1\" class=\"dataframe\">\n",
       "  <thead>\n",
       "    <tr style=\"text-align: right;\">\n",
       "      <th></th>\n",
       "      <th>event_datetime</th>\n",
       "      <th>event</th>\n",
       "      <th>building_type</th>\n",
       "      <th>user_id</th>\n",
       "      <th>project_type</th>\n",
       "      <th>event_datetime_full</th>\n",
       "      <th>source</th>\n",
       "      <th>first_session_date</th>\n",
       "      <th>avg_user_acquisition_cost</th>\n",
       "    </tr>\n",
       "  </thead>\n",
       "  <tbody>\n",
       "    <tr>\n",
       "      <th>0</th>\n",
       "      <td>2020-05-04</td>\n",
       "      <td>building</td>\n",
       "      <td>assembly_shop</td>\n",
       "      <td>55e92310-cb8e-4754-b622-597e124b03de</td>\n",
       "      <td>None</td>\n",
       "      <td>2020-05-04 00:00:01</td>\n",
       "      <td>youtube_channel_reklama</td>\n",
       "      <td>2020-05-04</td>\n",
       "      <td>0.396357</td>\n",
       "    </tr>\n",
       "    <tr>\n",
       "      <th>1</th>\n",
       "      <td>2020-05-04</td>\n",
       "      <td>building</td>\n",
       "      <td>assembly_shop</td>\n",
       "      <td>c07b1c10-f477-44dc-81dc-ec82254b1347</td>\n",
       "      <td>None</td>\n",
       "      <td>2020-05-04 00:00:03</td>\n",
       "      <td>facebook_ads</td>\n",
       "      <td>2020-05-04</td>\n",
       "      <td>0.790442</td>\n",
       "    </tr>\n",
       "    <tr>\n",
       "      <th>2</th>\n",
       "      <td>2020-05-04</td>\n",
       "      <td>building</td>\n",
       "      <td>assembly_shop</td>\n",
       "      <td>6edd42cc-e753-4ff6-a947-2107cd560710</td>\n",
       "      <td>None</td>\n",
       "      <td>2020-05-04 00:00:16</td>\n",
       "      <td>instagram_new_adverts</td>\n",
       "      <td>2020-05-04</td>\n",
       "      <td>0.649590</td>\n",
       "    </tr>\n",
       "    <tr>\n",
       "      <th>3</th>\n",
       "      <td>2020-05-04</td>\n",
       "      <td>building</td>\n",
       "      <td>assembly_shop</td>\n",
       "      <td>92c69003-d60a-444a-827f-8cc51bf6bf4c</td>\n",
       "      <td>None</td>\n",
       "      <td>2020-05-04 00:00:16</td>\n",
       "      <td>facebook_ads</td>\n",
       "      <td>2020-05-04</td>\n",
       "      <td>0.790442</td>\n",
       "    </tr>\n",
       "    <tr>\n",
       "      <th>4</th>\n",
       "      <td>2020-05-04</td>\n",
       "      <td>building</td>\n",
       "      <td>assembly_shop</td>\n",
       "      <td>cdc6bb92-0ccb-4490-9866-ef142f09139d</td>\n",
       "      <td>None</td>\n",
       "      <td>2020-05-04 00:00:35</td>\n",
       "      <td>yandex_direct</td>\n",
       "      <td>2020-05-04</td>\n",
       "      <td>0.466381</td>\n",
       "    </tr>\n",
       "  </tbody>\n",
       "</table>\n",
       "</div>"
      ],
      "text/plain": [
       "  event_datetime     event  building_type  \\\n",
       "0     2020-05-04  building  assembly_shop   \n",
       "1     2020-05-04  building  assembly_shop   \n",
       "2     2020-05-04  building  assembly_shop   \n",
       "3     2020-05-04  building  assembly_shop   \n",
       "4     2020-05-04  building  assembly_shop   \n",
       "\n",
       "                                user_id project_type  event_datetime_full  \\\n",
       "0  55e92310-cb8e-4754-b622-597e124b03de         None  2020-05-04 00:00:01   \n",
       "1  c07b1c10-f477-44dc-81dc-ec82254b1347         None  2020-05-04 00:00:03   \n",
       "2  6edd42cc-e753-4ff6-a947-2107cd560710         None  2020-05-04 00:00:16   \n",
       "3  92c69003-d60a-444a-827f-8cc51bf6bf4c         None  2020-05-04 00:00:16   \n",
       "4  cdc6bb92-0ccb-4490-9866-ef142f09139d         None  2020-05-04 00:00:35   \n",
       "\n",
       "                    source first_session_date  avg_user_acquisition_cost  \n",
       "0  youtube_channel_reklama         2020-05-04                   0.396357  \n",
       "1             facebook_ads         2020-05-04                   0.790442  \n",
       "2    instagram_new_adverts         2020-05-04                   0.649590  \n",
       "3             facebook_ads         2020-05-04                   0.790442  \n",
       "4            yandex_direct         2020-05-04                   0.466381  "
      ]
     },
     "execution_count": 42,
     "metadata": {},
     "output_type": "execute_result"
    }
   ],
   "source": [
    "# проверка\n",
    "united_user_data.head()"
   ]
  },
  {
   "cell_type": "code",
   "execution_count": 43,
   "id": "193a96bb",
   "metadata": {
    "colab": {
     "base_uri": "https://localhost:8080/"
    },
    "id": "193a96bb",
    "outputId": "3d6a7508-fce4-4d63-f522-454760da3757"
   },
   "outputs": [
    {
     "data": {
      "text/plain": [
       "(135639, 9)"
      ]
     },
     "execution_count": 43,
     "metadata": {},
     "output_type": "execute_result"
    }
   ],
   "source": [
    "united_user_data.shape"
   ]
  },
  {
   "cell_type": "markdown",
   "id": "uC02iLg4VVgz",
   "metadata": {
    "id": "uC02iLg4VVgz"
   },
   "source": [
    "#### Рассчитать, какой процент пользователей завершает уровень 1 в разрезе источников привлечения. Построить графики."
   ]
  },
  {
   "cell_type": "code",
   "execution_count": 44,
   "id": "1fdc2cc8",
   "metadata": {
    "id": "1fdc2cc8"
   },
   "outputs": [],
   "source": [
    "# добавим в таблицу united_user_data метку True / False о том, завершил ли пользователь уровень 1\n",
    "united_user_data['level_passed_flag'] = united_user_data['event'].apply(lambda x: True if x == 'finished_stage_1' else False)"
   ]
  },
  {
   "cell_type": "code",
   "execution_count": 45,
   "id": "uYFBL5axrQg-",
   "metadata": {
    "colab": {
     "base_uri": "https://localhost:8080/"
    },
    "id": "uYFBL5axrQg-",
    "outputId": "a64d938a-2384-4792-8fae-5830e737aeb1"
   },
   "outputs": [
    {
     "name": "stdout",
     "output_type": "stream",
     "text": [
      "Все пользователи, прошедшие уровень 1 получили метку True\n"
     ]
    }
   ],
   "source": [
    "# проверка\n",
    "if united_user_data['level_passed_flag'].sum() == len(finished_users_ids_set):\n",
    "    print('Все пользователи, прошедшие уровень 1 получили метку True')\n",
    "else:\n",
    "    print('Внимание! Метки добавлены некорректно. Необходимо проверить.')\n",
    "    sys.exit()"
   ]
  },
  {
   "cell_type": "code",
   "execution_count": 46,
   "id": "rSbb_aWjoZuP",
   "metadata": {
    "id": "rSbb_aWjoZuP"
   },
   "outputs": [],
   "source": [
    "level_passed_users_share = united_user_data.groupby(['first_session_date', 'source'], as_index=False).agg(count=('user_id', 'nunique'), level_passed_user_count=('level_passed_flag', 'sum'))"
   ]
  },
  {
   "cell_type": "code",
   "execution_count": 47,
   "id": "lTpRpH-JoZ0K",
   "metadata": {
    "id": "lTpRpH-JoZ0K"
   },
   "outputs": [],
   "source": [
    "level_passed_users_share['share'] = level_passed_users_share['level_passed_user_count'] * 100 / level_passed_users_share['count']"
   ]
  },
  {
   "cell_type": "code",
   "execution_count": 48,
   "id": "sEJhrmERPZVD",
   "metadata": {
    "colab": {
     "base_uri": "https://localhost:8080/",
     "height": 206
    },
    "id": "sEJhrmERPZVD",
    "outputId": "1d09daeb-867b-450f-ad48-a0485275e8ca",
    "scrolled": true
   },
   "outputs": [
    {
     "data": {
      "text/html": [
       "<div>\n",
       "<style scoped>\n",
       "    .dataframe tbody tr th:only-of-type {\n",
       "        vertical-align: middle;\n",
       "    }\n",
       "\n",
       "    .dataframe tbody tr th {\n",
       "        vertical-align: top;\n",
       "    }\n",
       "\n",
       "    .dataframe thead th {\n",
       "        text-align: right;\n",
       "    }\n",
       "</style>\n",
       "<table border=\"1\" class=\"dataframe\">\n",
       "  <thead>\n",
       "    <tr style=\"text-align: right;\">\n",
       "      <th></th>\n",
       "      <th>first_session_date</th>\n",
       "      <th>source</th>\n",
       "      <th>count</th>\n",
       "      <th>level_passed_user_count</th>\n",
       "      <th>share</th>\n",
       "    </tr>\n",
       "  </thead>\n",
       "  <tbody>\n",
       "    <tr>\n",
       "      <th>0</th>\n",
       "      <td>2020-05-04</td>\n",
       "      <td>facebook_ads</td>\n",
       "      <td>1184</td>\n",
       "      <td>531</td>\n",
       "      <td>44.847973</td>\n",
       "    </tr>\n",
       "    <tr>\n",
       "      <th>1</th>\n",
       "      <td>2020-05-04</td>\n",
       "      <td>instagram_new_adverts</td>\n",
       "      <td>1452</td>\n",
       "      <td>679</td>\n",
       "      <td>46.763085</td>\n",
       "    </tr>\n",
       "    <tr>\n",
       "      <th>2</th>\n",
       "      <td>2020-05-04</td>\n",
       "      <td>yandex_direct</td>\n",
       "      <td>2078</td>\n",
       "      <td>917</td>\n",
       "      <td>44.128970</td>\n",
       "    </tr>\n",
       "    <tr>\n",
       "      <th>3</th>\n",
       "      <td>2020-05-04</td>\n",
       "      <td>youtube_channel_reklama</td>\n",
       "      <td>1146</td>\n",
       "      <td>543</td>\n",
       "      <td>47.382199</td>\n",
       "    </tr>\n",
       "    <tr>\n",
       "      <th>4</th>\n",
       "      <td>2020-05-05</td>\n",
       "      <td>facebook_ads</td>\n",
       "      <td>694</td>\n",
       "      <td>312</td>\n",
       "      <td>44.956772</td>\n",
       "    </tr>\n",
       "  </tbody>\n",
       "</table>\n",
       "</div>"
      ],
      "text/plain": [
       "  first_session_date                   source  count  level_passed_user_count  \\\n",
       "0         2020-05-04             facebook_ads   1184                      531   \n",
       "1         2020-05-04    instagram_new_adverts   1452                      679   \n",
       "2         2020-05-04            yandex_direct   2078                      917   \n",
       "3         2020-05-04  youtube_channel_reklama   1146                      543   \n",
       "4         2020-05-05             facebook_ads    694                      312   \n",
       "\n",
       "       share  \n",
       "0  44.847973  \n",
       "1  46.763085  \n",
       "2  44.128970  \n",
       "3  47.382199  \n",
       "4  44.956772  "
      ]
     },
     "execution_count": 48,
     "metadata": {},
     "output_type": "execute_result"
    }
   ],
   "source": [
    "level_passed_users_share.head()"
   ]
  },
  {
   "cell_type": "code",
   "execution_count": 49,
   "id": "DNZtOhewRM2N",
   "metadata": {
    "colab": {
     "base_uri": "https://localhost:8080/",
     "height": 175
    },
    "id": "DNZtOhewRM2N",
    "outputId": "d8423062-837d-434e-d776-b2bbd7cb390b"
   },
   "outputs": [
    {
     "data": {
      "text/html": [
       "<div>\n",
       "<style scoped>\n",
       "    .dataframe tbody tr th:only-of-type {\n",
       "        vertical-align: middle;\n",
       "    }\n",
       "\n",
       "    .dataframe tbody tr th {\n",
       "        vertical-align: top;\n",
       "    }\n",
       "\n",
       "    .dataframe thead th {\n",
       "        text-align: right;\n",
       "    }\n",
       "</style>\n",
       "<table border=\"1\" class=\"dataframe\">\n",
       "  <thead>\n",
       "    <tr style=\"text-align: right;\">\n",
       "      <th></th>\n",
       "      <th>source</th>\n",
       "      <th>median_share</th>\n",
       "    </tr>\n",
       "  </thead>\n",
       "  <tbody>\n",
       "    <tr>\n",
       "      <th>1</th>\n",
       "      <td>instagram_new_adverts</td>\n",
       "      <td>38.888889</td>\n",
       "    </tr>\n",
       "    <tr>\n",
       "      <th>0</th>\n",
       "      <td>facebook_ads</td>\n",
       "      <td>38.095238</td>\n",
       "    </tr>\n",
       "    <tr>\n",
       "      <th>2</th>\n",
       "      <td>yandex_direct</td>\n",
       "      <td>37.974684</td>\n",
       "    </tr>\n",
       "    <tr>\n",
       "      <th>3</th>\n",
       "      <td>youtube_channel_reklama</td>\n",
       "      <td>36.818182</td>\n",
       "    </tr>\n",
       "  </tbody>\n",
       "</table>\n",
       "</div>"
      ],
      "text/plain": [
       "                    source  median_share\n",
       "1    instagram_new_adverts     38.888889\n",
       "0             facebook_ads     38.095238\n",
       "2            yandex_direct     37.974684\n",
       "3  youtube_channel_reklama     36.818182"
      ]
     },
     "execution_count": 49,
     "metadata": {},
     "output_type": "execute_result"
    }
   ],
   "source": [
    "level_passed_users_share.groupby('source', as_index=False).agg(median_share=('share', 'median')).sort_values(by='median_share', ascending=False)"
   ]
  },
  {
   "cell_type": "code",
   "execution_count": 50,
   "id": "mwljyYSFPZ7C",
   "metadata": {
    "colab": {
     "base_uri": "https://localhost:8080/",
     "height": 536
    },
    "id": "mwljyYSFPZ7C",
    "outputId": "81f13310-81dc-4b94-8d6b-47743f986b4e",
    "scrolled": false
   },
   "outputs": [
    {
     "data": {
      "image/png": "[encoded data removed]",
      "text/plain": [
       "<Figure size 1080x576 with 1 Axes>"
      ]
     },
     "metadata": {},
     "output_type": "display_data"
    }
   ],
   "source": [
    "plt.style.use('dark_background')\n",
    "level_passed_users_share.pivot_table(values='share', index='first_session_date', columns='source') \\\n",
    ".plot(grid=True, figsize=(15, 8), title='Средний процент пользователей, завершивших уровень 1 в разрезе когорт и источников привлечения пользователя', \\\n",
    "                              xlabel='Когорты (дни привлечения пользователей)', ylabel='% прошедших уровень 1 за наблюдаемый период', \\\n",
    "                              linestyle='-', marker='o')\n",
    "plt.ylim((level_passed_users_share.share.min() - 5, level_passed_users_share.share.max() + 5))\n",
    "plt.show()"
   ]
  },
  {
   "cell_type": "markdown",
   "id": "t_IbSZBYSP1v",
   "metadata": {
    "id": "t_IbSZBYSP1v"
   },
   "source": [
    "Между когортами наблюдается снижение целеустремленности, на что существенно влияет количество игроков в когортах: в когорте от 4 мая закупка на порядок больше по всем источникам, чем в когорте от 10 мая.\n",
    "45-50% игроков, привлеченных 04 мая, завершают уровень 1, в то время, как процент таких игроков от 10 мая не превышает 35%.\n"
   ]
  },
  {
   "cell_type": "markdown",
   "id": "XN66OdEqVVoo",
   "metadata": {
    "id": "XN66OdEqVVoo"
   },
   "source": [
    "#### Рассчитать время завершения игры для каждого завершившего. Построить график распределения по количеству дней в разрезе источников привлечения. Построить график распределения по количеству дней в разрезе используемой стратегии (победа над врагом / реализация проекта)."
   ]
  },
  {
   "cell_type": "code",
   "execution_count": 51,
   "id": "x0mxvh7eS-Cm",
   "metadata": {
    "id": "x0mxvh7eS-Cm"
   },
   "outputs": [],
   "source": [
    "# добавим в таблицу united_user_data столбец с датой завершения уровня\n",
    "# таблица с датой завершения\n",
    "level_passed_dates = united_user_data.query('event == \"finished_stage_1\"')[['user_id', 'event_datetime']]"
   ]
  },
  {
   "cell_type": "code",
   "execution_count": 52,
   "id": "TnMJl6gJeMMB",
   "metadata": {
    "id": "TnMJl6gJeMMB"
   },
   "outputs": [],
   "source": [
    "united_user_data = united_user_data.merge(level_passed_dates, how='left', on='user_id')"
   ]
  },
  {
   "cell_type": "code",
   "execution_count": 53,
   "id": "KpkxHEoHepve",
   "metadata": {
    "id": "KpkxHEoHepve"
   },
   "outputs": [],
   "source": [
    "united_user_data.rename(columns={'event_datetime_x': 'event_datetime', 'event_datetime_y': 'level_passed_date'}, inplace=True)"
   ]
  },
  {
   "cell_type": "code",
   "execution_count": 54,
   "id": "09ypokSHeQgC",
   "metadata": {
    "colab": {
     "base_uri": "https://localhost:8080/",
     "height": 531
    },
    "id": "09ypokSHeQgC",
    "outputId": "a4bec628-2fea-445b-8836-9d778f4ac527"
   },
   "outputs": [
    {
     "data": {
      "text/html": [
       "<div>\n",
       "<style scoped>\n",
       "    .dataframe tbody tr th:only-of-type {\n",
       "        vertical-align: middle;\n",
       "    }\n",
       "\n",
       "    .dataframe tbody tr th {\n",
       "        vertical-align: top;\n",
       "    }\n",
       "\n",
       "    .dataframe thead th {\n",
       "        text-align: right;\n",
       "    }\n",
       "</style>\n",
       "<table border=\"1\" class=\"dataframe\">\n",
       "  <thead>\n",
       "    <tr style=\"text-align: right;\">\n",
       "      <th></th>\n",
       "      <th>event_datetime</th>\n",
       "      <th>event</th>\n",
       "      <th>building_type</th>\n",
       "      <th>user_id</th>\n",
       "      <th>project_type</th>\n",
       "      <th>event_datetime_full</th>\n",
       "      <th>source</th>\n",
       "      <th>first_session_date</th>\n",
       "      <th>avg_user_acquisition_cost</th>\n",
       "      <th>level_passed_flag</th>\n",
       "      <th>level_passed_date</th>\n",
       "    </tr>\n",
       "  </thead>\n",
       "  <tbody>\n",
       "    <tr>\n",
       "      <th>0</th>\n",
       "      <td>2020-05-04</td>\n",
       "      <td>building</td>\n",
       "      <td>assembly_shop</td>\n",
       "      <td>55e92310-cb8e-4754-b622-597e124b03de</td>\n",
       "      <td>None</td>\n",
       "      <td>2020-05-04 00:00:01</td>\n",
       "      <td>youtube_channel_reklama</td>\n",
       "      <td>2020-05-04</td>\n",
       "      <td>0.396357</td>\n",
       "      <td>False</td>\n",
       "      <td>NaT</td>\n",
       "    </tr>\n",
       "    <tr>\n",
       "      <th>1</th>\n",
       "      <td>2020-05-04</td>\n",
       "      <td>building</td>\n",
       "      <td>assembly_shop</td>\n",
       "      <td>c07b1c10-f477-44dc-81dc-ec82254b1347</td>\n",
       "      <td>None</td>\n",
       "      <td>2020-05-04 00:00:03</td>\n",
       "      <td>facebook_ads</td>\n",
       "      <td>2020-05-04</td>\n",
       "      <td>0.790442</td>\n",
       "      <td>False</td>\n",
       "      <td>2020-05-15</td>\n",
       "    </tr>\n",
       "    <tr>\n",
       "      <th>2</th>\n",
       "      <td>2020-05-04</td>\n",
       "      <td>building</td>\n",
       "      <td>assembly_shop</td>\n",
       "      <td>6edd42cc-e753-4ff6-a947-2107cd560710</td>\n",
       "      <td>None</td>\n",
       "      <td>2020-05-04 00:00:16</td>\n",
       "      <td>instagram_new_adverts</td>\n",
       "      <td>2020-05-04</td>\n",
       "      <td>0.649590</td>\n",
       "      <td>False</td>\n",
       "      <td>2020-05-16</td>\n",
       "    </tr>\n",
       "    <tr>\n",
       "      <th>3</th>\n",
       "      <td>2020-05-04</td>\n",
       "      <td>building</td>\n",
       "      <td>assembly_shop</td>\n",
       "      <td>92c69003-d60a-444a-827f-8cc51bf6bf4c</td>\n",
       "      <td>None</td>\n",
       "      <td>2020-05-04 00:00:16</td>\n",
       "      <td>facebook_ads</td>\n",
       "      <td>2020-05-04</td>\n",
       "      <td>0.790442</td>\n",
       "      <td>False</td>\n",
       "      <td>NaT</td>\n",
       "    </tr>\n",
       "    <tr>\n",
       "      <th>4</th>\n",
       "      <td>2020-05-04</td>\n",
       "      <td>building</td>\n",
       "      <td>assembly_shop</td>\n",
       "      <td>cdc6bb92-0ccb-4490-9866-ef142f09139d</td>\n",
       "      <td>None</td>\n",
       "      <td>2020-05-04 00:00:35</td>\n",
       "      <td>yandex_direct</td>\n",
       "      <td>2020-05-04</td>\n",
       "      <td>0.466381</td>\n",
       "      <td>False</td>\n",
       "      <td>2020-05-11</td>\n",
       "    </tr>\n",
       "  </tbody>\n",
       "</table>\n",
       "</div>"
      ],
      "text/plain": [
       "  event_datetime     event  building_type  \\\n",
       "0     2020-05-04  building  assembly_shop   \n",
       "1     2020-05-04  building  assembly_shop   \n",
       "2     2020-05-04  building  assembly_shop   \n",
       "3     2020-05-04  building  assembly_shop   \n",
       "4     2020-05-04  building  assembly_shop   \n",
       "\n",
       "                                user_id project_type  event_datetime_full  \\\n",
       "0  55e92310-cb8e-4754-b622-597e124b03de         None  2020-05-04 00:00:01   \n",
       "1  c07b1c10-f477-44dc-81dc-ec82254b1347         None  2020-05-04 00:00:03   \n",
       "2  6edd42cc-e753-4ff6-a947-2107cd560710         None  2020-05-04 00:00:16   \n",
       "3  92c69003-d60a-444a-827f-8cc51bf6bf4c         None  2020-05-04 00:00:16   \n",
       "4  cdc6bb92-0ccb-4490-9866-ef142f09139d         None  2020-05-04 00:00:35   \n",
       "\n",
       "                    source first_session_date  avg_user_acquisition_cost  \\\n",
       "0  youtube_channel_reklama         2020-05-04                   0.396357   \n",
       "1             facebook_ads         2020-05-04                   0.790442   \n",
       "2    instagram_new_adverts         2020-05-04                   0.649590   \n",
       "3             facebook_ads         2020-05-04                   0.790442   \n",
       "4            yandex_direct         2020-05-04                   0.466381   \n",
       "\n",
       "   level_passed_flag level_passed_date  \n",
       "0              False               NaT  \n",
       "1              False        2020-05-15  \n",
       "2              False        2020-05-16  \n",
       "3              False               NaT  \n",
       "4              False        2020-05-11  "
      ]
     },
     "execution_count": 54,
     "metadata": {},
     "output_type": "execute_result"
    }
   ],
   "source": [
    "# проверка\n",
    "united_user_data.head()"
   ]
  },
  {
   "cell_type": "code",
   "execution_count": 55,
   "id": "oNn5Dfo4S-On",
   "metadata": {
    "id": "oNn5Dfo4S-On"
   },
   "outputs": [],
   "source": [
    "query = ((united_user_data['level_passed_date'] == united_user_data['level_passed_date']) & (united_user_data['event'] == 'finished_stage_1'))\n",
    "level_pass_duration = united_user_data[query][['user_id', 'source', 'first_session_date', 'level_passed_date']].copy()"
   ]
  },
  {
   "cell_type": "code",
   "execution_count": 56,
   "id": "RyazA8m2p0LN",
   "metadata": {
    "colab": {
     "base_uri": "https://localhost:8080/"
    },
    "id": "RyazA8m2p0LN",
    "outputId": "2a84a5b5-c32f-40c9-a7f5-73e536a7752d"
   },
   "outputs": [
    {
     "data": {
      "text/plain": [
       "True"
      ]
     },
     "execution_count": 56,
     "metadata": {},
     "output_type": "execute_result"
    }
   ],
   "source": [
    "# проверка\n",
    "level_pass_duration.shape[0] == len(finished_users_ids_set)"
   ]
  },
  {
   "cell_type": "code",
   "execution_count": 57,
   "id": "8IWEL1xYS-WD",
   "metadata": {
    "id": "8IWEL1xYS-WD"
   },
   "outputs": [],
   "source": [
    "level_pass_duration['duration'] = level_pass_duration['level_passed_date'] - level_pass_duration['first_session_date']"
   ]
  },
  {
   "cell_type": "code",
   "execution_count": 58,
   "id": "fWBX5wdfS-co",
   "metadata": {
    "id": "fWBX5wdfS-co"
   },
   "outputs": [],
   "source": [
    "level_pass_duration['duration'] = level_pass_duration['duration'].dt.days"
   ]
  },
  {
   "cell_type": "code",
   "execution_count": 59,
   "id": "No1Qjn7US-ec",
   "metadata": {
    "colab": {
     "base_uri": "https://localhost:8080/",
     "height": 206
    },
    "id": "No1Qjn7US-ec",
    "outputId": "e9803cf1-795f-4a1c-8b47-753ec022fe69"
   },
   "outputs": [
    {
     "data": {
      "text/html": [
       "<div>\n",
       "<style scoped>\n",
       "    .dataframe tbody tr th:only-of-type {\n",
       "        vertical-align: middle;\n",
       "    }\n",
       "\n",
       "    .dataframe tbody tr th {\n",
       "        vertical-align: top;\n",
       "    }\n",
       "\n",
       "    .dataframe thead th {\n",
       "        text-align: right;\n",
       "    }\n",
       "</style>\n",
       "<table border=\"1\" class=\"dataframe\">\n",
       "  <thead>\n",
       "    <tr style=\"text-align: right;\">\n",
       "      <th></th>\n",
       "      <th>user_id</th>\n",
       "      <th>source</th>\n",
       "      <th>first_session_date</th>\n",
       "      <th>level_passed_date</th>\n",
       "      <th>duration</th>\n",
       "    </tr>\n",
       "  </thead>\n",
       "  <tbody>\n",
       "    <tr>\n",
       "      <th>6659</th>\n",
       "      <td>ced7b368-818f-48f6-9461-2346de0892c5</td>\n",
       "      <td>instagram_new_adverts</td>\n",
       "      <td>2020-05-04</td>\n",
       "      <td>2020-05-04</td>\n",
       "      <td>0</td>\n",
       "    </tr>\n",
       "    <tr>\n",
       "      <th>13134</th>\n",
       "      <td>7ef7fc89-2779-46ea-b328-9e5035b83af5</td>\n",
       "      <td>facebook_ads</td>\n",
       "      <td>2020-05-04</td>\n",
       "      <td>2020-05-05</td>\n",
       "      <td>1</td>\n",
       "    </tr>\n",
       "    <tr>\n",
       "      <th>15274</th>\n",
       "      <td>70db22b3-c2f4-43bc-94ea-51c8d2904a29</td>\n",
       "      <td>youtube_channel_reklama</td>\n",
       "      <td>2020-05-04</td>\n",
       "      <td>2020-05-05</td>\n",
       "      <td>1</td>\n",
       "    </tr>\n",
       "    <tr>\n",
       "      <th>16284</th>\n",
       "      <td>903fc9ef-ba97-4b12-9d5c-ac8d602fbd8b</td>\n",
       "      <td>youtube_channel_reklama</td>\n",
       "      <td>2020-05-04</td>\n",
       "      <td>2020-05-05</td>\n",
       "      <td>1</td>\n",
       "    </tr>\n",
       "    <tr>\n",
       "      <th>19650</th>\n",
       "      <td>58e077ba-feb1-4556-a5a0-d96bd04efa39</td>\n",
       "      <td>facebook_ads</td>\n",
       "      <td>2020-05-04</td>\n",
       "      <td>2020-05-06</td>\n",
       "      <td>2</td>\n",
       "    </tr>\n",
       "  </tbody>\n",
       "</table>\n",
       "</div>"
      ],
      "text/plain": [
       "                                    user_id                   source  \\\n",
       "6659   ced7b368-818f-48f6-9461-2346de0892c5    instagram_new_adverts   \n",
       "13134  7ef7fc89-2779-46ea-b328-9e5035b83af5             facebook_ads   \n",
       "15274  70db22b3-c2f4-43bc-94ea-51c8d2904a29  youtube_channel_reklama   \n",
       "16284  903fc9ef-ba97-4b12-9d5c-ac8d602fbd8b  youtube_channel_reklama   \n",
       "19650  58e077ba-feb1-4556-a5a0-d96bd04efa39             facebook_ads   \n",
       "\n",
       "      first_session_date level_passed_date  duration  \n",
       "6659          2020-05-04        2020-05-04         0  \n",
       "13134         2020-05-04        2020-05-05         1  \n",
       "15274         2020-05-04        2020-05-05         1  \n",
       "16284         2020-05-04        2020-05-05         1  \n",
       "19650         2020-05-04        2020-05-06         2  "
      ]
     },
     "execution_count": 59,
     "metadata": {},
     "output_type": "execute_result"
    }
   ],
   "source": [
    "# проверка\n",
    "level_pass_duration.head()"
   ]
  },
  {
   "cell_type": "code",
   "execution_count": 60,
   "id": "7wHeWBj4iOxK",
   "metadata": {
    "id": "7wHeWBj4iOxK"
   },
   "outputs": [],
   "source": [
    "median_level_pass_duration = level_pass_duration.groupby(['source', 'first_session_date'], as_index=False).agg(median_duration=('duration', 'median'))"
   ]
  },
  {
   "cell_type": "code",
   "execution_count": 61,
   "id": "RUSc4Rv7S-gY",
   "metadata": {
    "colab": {
     "base_uri": "https://localhost:8080/",
     "height": 536
    },
    "id": "RUSc4Rv7S-gY",
    "outputId": "bffd69f6-19d2-4010-9569-b4602c00cde5"
   },
   "outputs": [
    {
     "data": {
      "image/png": "[encoded data removed]",
      "text/plain": [
       "<Figure size 1080x576 with 1 Axes>"
      ]
     },
     "metadata": {},
     "output_type": "display_data"
    }
   ],
   "source": [
    "plt.style.use('dark_background')\n",
    "median_level_pass_duration.pivot_table(values='median_duration', index='first_session_date', columns='source') \\\n",
    ".plot(grid=True, figsize=(15, 8), title='Среднее количество дней для завершения уровня 1 в разрезе когорт и источников привлечения пользователя', \\\n",
    "                              xlabel='Когорты (дни привлечения пользователей)', ylabel='Среднее количество дней', \\\n",
    "                              linestyle='-', marker='o')\n",
    "plt.ylim((median_level_pass_duration.median_duration.min() - 2, median_level_pass_duration.median_duration.max() + 2))\n",
    "\n",
    "plt.show()"
   ]
  },
  {
   "cell_type": "markdown",
   "id": "zAFNpsu2jpck",
   "metadata": {
    "id": "zAFNpsu2jpck"
   },
   "source": [
    "Медианное количество дней для завершения уровня 1 (без учета стратегии прохождения уровня) варьируется от 10 до 12 дней, то есть достаточно устойчиво для всех рассматриваемых когорт.\n",
    "Далее рассмотрим, насколько отличается среднее количество дней для прохождения уровня в зависимости от стратегии прохождения."
   ]
  },
  {
   "cell_type": "code",
   "execution_count": 62,
   "id": "af09e34zS-iS",
   "metadata": {
    "id": "af09e34zS-iS"
   },
   "outputs": [],
   "source": [
    "# добавим в имеющуюся таблицу level_pass_duration информацию о стратегии пользователя (ранее мы создали 2 множества с user_id воителей и строителей: warrior_users_set и builder_users_set).\n"
   ]
  },
  {
   "cell_type": "code",
   "execution_count": 63,
   "id": "fO-UGGQRS-lw",
   "metadata": {
    "id": "fO-UGGQRS-lw"
   },
   "outputs": [],
   "source": [
    "level_pass_duration['user_strategy'] = level_pass_duration['user_id'].apply(lambda x: 'warrior' if x in warrior_users_set else 'builder')"
   ]
  },
  {
   "cell_type": "code",
   "execution_count": 64,
   "id": "bzFJxcwFog7z",
   "metadata": {
    "colab": {
     "base_uri": "https://localhost:8080/"
    },
    "id": "bzFJxcwFog7z",
    "outputId": "36c78a5d-6ff2-4c11-dd66-e637b33e80fa"
   },
   "outputs": [
    {
     "data": {
      "text/plain": [
       "True"
      ]
     },
     "execution_count": 64,
     "metadata": {},
     "output_type": "execute_result"
    }
   ],
   "source": [
    "# проверка\n",
    "level_pass_duration.query('user_strategy == \"warrior\"').user_id.count() == len(warrior_users_set)"
   ]
  },
  {
   "cell_type": "code",
   "execution_count": 65,
   "id": "1CTMx4W9snsE",
   "metadata": {
    "colab": {
     "base_uri": "https://localhost:8080/"
    },
    "id": "1CTMx4W9snsE",
    "outputId": "2dcdbe39-f81e-4267-801c-695ac051dec4"
   },
   "outputs": [
    {
     "data": {
      "text/plain": [
       "True"
      ]
     },
     "execution_count": 65,
     "metadata": {},
     "output_type": "execute_result"
    }
   ],
   "source": [
    "# проверка\n",
    "level_pass_duration.query('user_strategy == \"builder\"').user_id.count() == len(builder_users_set)"
   ]
  },
  {
   "cell_type": "code",
   "execution_count": 66,
   "id": "6Hr3fozvtVi7",
   "metadata": {
    "id": "6Hr3fozvtVi7"
   },
   "outputs": [],
   "source": [
    "median_level_pass_duration = level_pass_duration.groupby(['source', 'first_session_date', 'user_strategy'], as_index=False).agg(median_duration=('duration', 'median'))"
   ]
  },
  {
   "cell_type": "code",
   "execution_count": 67,
   "id": "pPxI9G-stVoh",
   "metadata": {
    "colab": {
     "base_uri": "https://localhost:8080/",
     "height": 206
    },
    "id": "pPxI9G-stVoh",
    "outputId": "98625bec-ffe9-4ecc-f431-8421fdd303d2"
   },
   "outputs": [
    {
     "data": {
      "text/html": [
       "<div>\n",
       "<style scoped>\n",
       "    .dataframe tbody tr th:only-of-type {\n",
       "        vertical-align: middle;\n",
       "    }\n",
       "\n",
       "    .dataframe tbody tr th {\n",
       "        vertical-align: top;\n",
       "    }\n",
       "\n",
       "    .dataframe thead th {\n",
       "        text-align: right;\n",
       "    }\n",
       "</style>\n",
       "<table border=\"1\" class=\"dataframe\">\n",
       "  <thead>\n",
       "    <tr style=\"text-align: right;\">\n",
       "      <th></th>\n",
       "      <th>source</th>\n",
       "      <th>first_session_date</th>\n",
       "      <th>user_strategy</th>\n",
       "      <th>median_duration</th>\n",
       "    </tr>\n",
       "  </thead>\n",
       "  <tbody>\n",
       "    <tr>\n",
       "      <th>0</th>\n",
       "      <td>facebook_ads</td>\n",
       "      <td>2020-05-04</td>\n",
       "      <td>builder</td>\n",
       "      <td>13.0</td>\n",
       "    </tr>\n",
       "    <tr>\n",
       "      <th>1</th>\n",
       "      <td>facebook_ads</td>\n",
       "      <td>2020-05-04</td>\n",
       "      <td>warrior</td>\n",
       "      <td>11.0</td>\n",
       "    </tr>\n",
       "    <tr>\n",
       "      <th>2</th>\n",
       "      <td>facebook_ads</td>\n",
       "      <td>2020-05-05</td>\n",
       "      <td>builder</td>\n",
       "      <td>12.0</td>\n",
       "    </tr>\n",
       "    <tr>\n",
       "      <th>3</th>\n",
       "      <td>facebook_ads</td>\n",
       "      <td>2020-05-05</td>\n",
       "      <td>warrior</td>\n",
       "      <td>10.5</td>\n",
       "    </tr>\n",
       "    <tr>\n",
       "      <th>4</th>\n",
       "      <td>facebook_ads</td>\n",
       "      <td>2020-05-06</td>\n",
       "      <td>builder</td>\n",
       "      <td>14.0</td>\n",
       "    </tr>\n",
       "  </tbody>\n",
       "</table>\n",
       "</div>"
      ],
      "text/plain": [
       "         source first_session_date user_strategy  median_duration\n",
       "0  facebook_ads         2020-05-04       builder             13.0\n",
       "1  facebook_ads         2020-05-04       warrior             11.0\n",
       "2  facebook_ads         2020-05-05       builder             12.0\n",
       "3  facebook_ads         2020-05-05       warrior             10.5\n",
       "4  facebook_ads         2020-05-06       builder             14.0"
      ]
     },
     "execution_count": 67,
     "metadata": {},
     "output_type": "execute_result"
    }
   ],
   "source": [
    "median_level_pass_duration.head()"
   ]
  },
  {
   "cell_type": "code",
   "execution_count": 68,
   "id": "O3BHwWjD8g0u",
   "metadata": {
    "colab": {
     "base_uri": "https://localhost:8080/",
     "height": 175
    },
    "id": "O3BHwWjD8g0u",
    "outputId": "c8a3e54b-1d39-44d5-94a6-0fc626923ca1"
   },
   "outputs": [
    {
     "data": {
      "text/html": [
       "<div>\n",
       "<style scoped>\n",
       "    .dataframe tbody tr th:only-of-type {\n",
       "        vertical-align: middle;\n",
       "    }\n",
       "\n",
       "    .dataframe tbody tr th {\n",
       "        vertical-align: top;\n",
       "    }\n",
       "\n",
       "    .dataframe thead th {\n",
       "        text-align: right;\n",
       "    }\n",
       "</style>\n",
       "<table border=\"1\" class=\"dataframe\">\n",
       "  <thead>\n",
       "    <tr style=\"text-align: right;\">\n",
       "      <th></th>\n",
       "      <th>source</th>\n",
       "      <th>median_duration</th>\n",
       "    </tr>\n",
       "  </thead>\n",
       "  <tbody>\n",
       "    <tr>\n",
       "      <th>0</th>\n",
       "      <td>facebook_ads</td>\n",
       "      <td>13.0</td>\n",
       "    </tr>\n",
       "    <tr>\n",
       "      <th>1</th>\n",
       "      <td>instagram_new_adverts</td>\n",
       "      <td>14.0</td>\n",
       "    </tr>\n",
       "    <tr>\n",
       "      <th>2</th>\n",
       "      <td>yandex_direct</td>\n",
       "      <td>13.0</td>\n",
       "    </tr>\n",
       "    <tr>\n",
       "      <th>3</th>\n",
       "      <td>youtube_channel_reklama</td>\n",
       "      <td>13.0</td>\n",
       "    </tr>\n",
       "  </tbody>\n",
       "</table>\n",
       "</div>"
      ],
      "text/plain": [
       "                    source  median_duration\n",
       "0             facebook_ads             13.0\n",
       "1    instagram_new_adverts             14.0\n",
       "2            yandex_direct             13.0\n",
       "3  youtube_channel_reklama             13.0"
      ]
     },
     "execution_count": 68,
     "metadata": {},
     "output_type": "execute_result"
    }
   ],
   "source": [
    "# рассмотрим медианную продолжительность завершения уровня 1 для пользователей по всем когортам в разрезе источников\n",
    "median_level_pass_duration.query('user_strategy == \"builder\"').groupby('source', as_index=False).agg({'median_duration': 'median'})"
   ]
  },
  {
   "cell_type": "code",
   "execution_count": 69,
   "id": "3rQ6CiXIs1_B",
   "metadata": {
    "colab": {
     "base_uri": "https://localhost:8080/",
     "height": 551
    },
    "id": "3rQ6CiXIs1_B",
    "outputId": "cf405777-9a5c-48b5-d8ad-5f1d0b87600d"
   },
   "outputs": [
    {
     "data": {
      "image/png": "[encoded data removed]",
      "text/plain": [
       "<Figure size 1080x576 with 1 Axes>"
      ]
     },
     "metadata": {},
     "output_type": "display_data"
    }
   ],
   "source": [
    "plt.style.use('dark_background')\n",
    "median_level_pass_duration.query('user_strategy == \"builder\"').pivot_table(values='median_duration', index='first_session_date', columns='source') \\\n",
    ".plot(grid=True, figsize=(15, 8), title='Среднее количество дней для завершения уровня 1 СТРОИТЕЛЯМИ \\nв разрезе когорт и источников привлечения пользователя', \\\n",
    "                              xlabel='Когорты (дни привлечения пользователей)', ylabel='Среднее количество дней', \\\n",
    "                              linestyle='-', marker='o')\n",
    "plt.ylim((median_level_pass_duration.median_duration.min() - 2, median_level_pass_duration.median_duration.max() + 2))\n",
    "plt.axhline(median_level_pass_duration.median_duration.median(), c='red', ls='--', label='')\n",
    "plt.show()"
   ]
  },
  {
   "cell_type": "code",
   "execution_count": 70,
   "id": "_i__l56Ds2CM",
   "metadata": {
    "colab": {
     "base_uri": "https://localhost:8080/",
     "height": 551
    },
    "id": "_i__l56Ds2CM",
    "outputId": "3e38af6b-04a1-4647-bba2-55909ad63e67"
   },
   "outputs": [
    {
     "data": {
      "image/png": "[encoded data removed]",
      "text/plain": [
       "<Figure size 1080x576 with 1 Axes>"
      ]
     },
     "metadata": {},
     "output_type": "display_data"
    }
   ],
   "source": [
    "plt.style.use('dark_background')\n",
    "median_level_pass_duration.query('user_strategy == \"warrior\"').pivot_table(values='median_duration', index='first_session_date', columns='source') \\\n",
    ".plot(grid=True, figsize=(15, 8), title='Среднее количество дней для завершения уровня 1 ВОИТЕЛЯМИ \\nв разрезе когорт и источников привлечения пользователя', \\\n",
    "                              xlabel='Когорты (дни привлечения пользователей)', ylabel='Среднее количество дней', \\\n",
    "                              linestyle='-', marker='o')\n",
    "plt.ylim(median_level_pass_duration.median_duration.min() - 2, median_level_pass_duration.median_duration.max() + 2)\n",
    "plt.axhline(median_level_pass_duration.median_duration.median(), c='red', ls='--')\n",
    "\n",
    "plt.show()"
   ]
  },
  {
   "cell_type": "code",
   "execution_count": 71,
   "id": "NoU5bys09pBn",
   "metadata": {
    "colab": {
     "base_uri": "https://localhost:8080/",
     "height": 175
    },
    "id": "NoU5bys09pBn",
    "outputId": "9096d95c-8636-4bec-d52a-963ee9f4d2ef"
   },
   "outputs": [
    {
     "data": {
      "text/html": [
       "<div>\n",
       "<style scoped>\n",
       "    .dataframe tbody tr th:only-of-type {\n",
       "        vertical-align: middle;\n",
       "    }\n",
       "\n",
       "    .dataframe tbody tr th {\n",
       "        vertical-align: top;\n",
       "    }\n",
       "\n",
       "    .dataframe thead th {\n",
       "        text-align: right;\n",
       "    }\n",
       "</style>\n",
       "<table border=\"1\" class=\"dataframe\">\n",
       "  <thead>\n",
       "    <tr style=\"text-align: right;\">\n",
       "      <th></th>\n",
       "      <th>source</th>\n",
       "      <th>median_duration</th>\n",
       "    </tr>\n",
       "  </thead>\n",
       "  <tbody>\n",
       "    <tr>\n",
       "      <th>0</th>\n",
       "      <td>facebook_ads</td>\n",
       "      <td>11.0</td>\n",
       "    </tr>\n",
       "    <tr>\n",
       "      <th>1</th>\n",
       "      <td>instagram_new_adverts</td>\n",
       "      <td>10.0</td>\n",
       "    </tr>\n",
       "    <tr>\n",
       "      <th>2</th>\n",
       "      <td>yandex_direct</td>\n",
       "      <td>11.0</td>\n",
       "    </tr>\n",
       "    <tr>\n",
       "      <th>3</th>\n",
       "      <td>youtube_channel_reklama</td>\n",
       "      <td>11.0</td>\n",
       "    </tr>\n",
       "  </tbody>\n",
       "</table>\n",
       "</div>"
      ],
      "text/plain": [
       "                    source  median_duration\n",
       "0             facebook_ads             11.0\n",
       "1    instagram_new_adverts             10.0\n",
       "2            yandex_direct             11.0\n",
       "3  youtube_channel_reklama             11.0"
      ]
     },
     "execution_count": 71,
     "metadata": {},
     "output_type": "execute_result"
    }
   ],
   "source": [
    "# рассмотрим медианную продолжительность завершения уровня 1 для пользователей-воителей по всем когортам в разрезе источников\n",
    "median_level_pass_duration.query('user_strategy == \"warrior\"').groupby('source', as_index=False).agg({'median_duration': 'median'})"
   ]
  },
  {
   "cell_type": "code",
   "execution_count": 72,
   "id": "GEwaD9F9wXBl",
   "metadata": {
    "colab": {
     "base_uri": "https://localhost:8080/"
    },
    "id": "GEwaD9F9wXBl",
    "outputId": "34daa4e3-d1af-4bf5-c2b5-31e3efb15be0"
   },
   "outputs": [
    {
     "name": "stdout",
     "output_type": "stream",
     "text": [
      "Медианное значение среднего времени прохождения уровня по всем когортам и без учета стратегий 11.5 дней\n",
      "Медианное значение среднего времени прохождения уровня пользователями-строителями 13.0 дней\n",
      "Медианное значение среднего времени прохождения уровня пользователями-воителями 11.0 дней\n"
     ]
    }
   ],
   "source": [
    "print(f'Медианное значение среднего времени прохождения уровня по всем когортам и без учета стратегий', median_level_pass_duration.median_duration.median(), 'дней')\n",
    "print(f'Медианное значение среднего времени прохождения уровня пользователями-строителями', median_level_pass_duration.query('user_strategy == \"builder\"').median_duration.median(), 'дней')\n",
    "print(f'Медианное значение среднего времени прохождения уровня пользователями-воителями', median_level_pass_duration.query('user_strategy == \"warrior\"').median_duration.median(), 'дней')"
   ]
  },
  {
   "cell_type": "markdown",
   "id": "vQTNTGTbwWDo",
   "metadata": {
    "id": "vQTNTGTbwWDo"
   },
   "source": [
    "Анализ графиков показывает, что пользователи-воители проходят уровень на 2 дня быстрее, чем пользователи-строители."
   ]
  },
  {
   "cell_type": "markdown",
   "id": "z922l5vCVVyU",
   "metadata": {
    "id": "z922l5vCVVyU"
   },
   "source": [
    "#### Рассчитать медианное количество объектов, построенных за день, в разрезе источников привлечения."
   ]
  },
  {
   "cell_type": "code",
   "execution_count": 73,
   "id": "6K1Knp241gXw",
   "metadata": {
    "colab": {
     "base_uri": "https://localhost:8080/",
     "height": 531
    },
    "id": "6K1Knp241gXw",
    "outputId": "99d7de8f-a9fa-4cd1-e6bb-46423057b4b6"
   },
   "outputs": [
    {
     "data": {
      "text/html": [
       "<div>\n",
       "<style scoped>\n",
       "    .dataframe tbody tr th:only-of-type {\n",
       "        vertical-align: middle;\n",
       "    }\n",
       "\n",
       "    .dataframe tbody tr th {\n",
       "        vertical-align: top;\n",
       "    }\n",
       "\n",
       "    .dataframe thead th {\n",
       "        text-align: right;\n",
       "    }\n",
       "</style>\n",
       "<table border=\"1\" class=\"dataframe\">\n",
       "  <thead>\n",
       "    <tr style=\"text-align: right;\">\n",
       "      <th></th>\n",
       "      <th>event_datetime</th>\n",
       "      <th>event</th>\n",
       "      <th>building_type</th>\n",
       "      <th>user_id</th>\n",
       "      <th>project_type</th>\n",
       "      <th>event_datetime_full</th>\n",
       "      <th>source</th>\n",
       "      <th>first_session_date</th>\n",
       "      <th>avg_user_acquisition_cost</th>\n",
       "      <th>level_passed_flag</th>\n",
       "      <th>level_passed_date</th>\n",
       "    </tr>\n",
       "  </thead>\n",
       "  <tbody>\n",
       "    <tr>\n",
       "      <th>0</th>\n",
       "      <td>2020-05-04</td>\n",
       "      <td>building</td>\n",
       "      <td>assembly_shop</td>\n",
       "      <td>55e92310-cb8e-4754-b622-597e124b03de</td>\n",
       "      <td>None</td>\n",
       "      <td>2020-05-04 00:00:01</td>\n",
       "      <td>youtube_channel_reklama</td>\n",
       "      <td>2020-05-04</td>\n",
       "      <td>0.396357</td>\n",
       "      <td>False</td>\n",
       "      <td>NaT</td>\n",
       "    </tr>\n",
       "    <tr>\n",
       "      <th>1</th>\n",
       "      <td>2020-05-04</td>\n",
       "      <td>building</td>\n",
       "      <td>assembly_shop</td>\n",
       "      <td>c07b1c10-f477-44dc-81dc-ec82254b1347</td>\n",
       "      <td>None</td>\n",
       "      <td>2020-05-04 00:00:03</td>\n",
       "      <td>facebook_ads</td>\n",
       "      <td>2020-05-04</td>\n",
       "      <td>0.790442</td>\n",
       "      <td>False</td>\n",
       "      <td>2020-05-15</td>\n",
       "    </tr>\n",
       "    <tr>\n",
       "      <th>2</th>\n",
       "      <td>2020-05-04</td>\n",
       "      <td>building</td>\n",
       "      <td>assembly_shop</td>\n",
       "      <td>6edd42cc-e753-4ff6-a947-2107cd560710</td>\n",
       "      <td>None</td>\n",
       "      <td>2020-05-04 00:00:16</td>\n",
       "      <td>instagram_new_adverts</td>\n",
       "      <td>2020-05-04</td>\n",
       "      <td>0.649590</td>\n",
       "      <td>False</td>\n",
       "      <td>2020-05-16</td>\n",
       "    </tr>\n",
       "    <tr>\n",
       "      <th>3</th>\n",
       "      <td>2020-05-04</td>\n",
       "      <td>building</td>\n",
       "      <td>assembly_shop</td>\n",
       "      <td>92c69003-d60a-444a-827f-8cc51bf6bf4c</td>\n",
       "      <td>None</td>\n",
       "      <td>2020-05-04 00:00:16</td>\n",
       "      <td>facebook_ads</td>\n",
       "      <td>2020-05-04</td>\n",
       "      <td>0.790442</td>\n",
       "      <td>False</td>\n",
       "      <td>NaT</td>\n",
       "    </tr>\n",
       "    <tr>\n",
       "      <th>4</th>\n",
       "      <td>2020-05-04</td>\n",
       "      <td>building</td>\n",
       "      <td>assembly_shop</td>\n",
       "      <td>cdc6bb92-0ccb-4490-9866-ef142f09139d</td>\n",
       "      <td>None</td>\n",
       "      <td>2020-05-04 00:00:35</td>\n",
       "      <td>yandex_direct</td>\n",
       "      <td>2020-05-04</td>\n",
       "      <td>0.466381</td>\n",
       "      <td>False</td>\n",
       "      <td>2020-05-11</td>\n",
       "    </tr>\n",
       "  </tbody>\n",
       "</table>\n",
       "</div>"
      ],
      "text/plain": [
       "  event_datetime     event  building_type  \\\n",
       "0     2020-05-04  building  assembly_shop   \n",
       "1     2020-05-04  building  assembly_shop   \n",
       "2     2020-05-04  building  assembly_shop   \n",
       "3     2020-05-04  building  assembly_shop   \n",
       "4     2020-05-04  building  assembly_shop   \n",
       "\n",
       "                                user_id project_type  event_datetime_full  \\\n",
       "0  55e92310-cb8e-4754-b622-597e124b03de         None  2020-05-04 00:00:01   \n",
       "1  c07b1c10-f477-44dc-81dc-ec82254b1347         None  2020-05-04 00:00:03   \n",
       "2  6edd42cc-e753-4ff6-a947-2107cd560710         None  2020-05-04 00:00:16   \n",
       "3  92c69003-d60a-444a-827f-8cc51bf6bf4c         None  2020-05-04 00:00:16   \n",
       "4  cdc6bb92-0ccb-4490-9866-ef142f09139d         None  2020-05-04 00:00:35   \n",
       "\n",
       "                    source first_session_date  avg_user_acquisition_cost  \\\n",
       "0  youtube_channel_reklama         2020-05-04                   0.396357   \n",
       "1             facebook_ads         2020-05-04                   0.790442   \n",
       "2    instagram_new_adverts         2020-05-04                   0.649590   \n",
       "3             facebook_ads         2020-05-04                   0.790442   \n",
       "4            yandex_direct         2020-05-04                   0.466381   \n",
       "\n",
       "   level_passed_flag level_passed_date  \n",
       "0              False               NaT  \n",
       "1              False        2020-05-15  \n",
       "2              False        2020-05-16  \n",
       "3              False               NaT  \n",
       "4              False        2020-05-11  "
      ]
     },
     "execution_count": 73,
     "metadata": {},
     "output_type": "execute_result"
    }
   ],
   "source": [
    "united_user_data.head()"
   ]
  },
  {
   "cell_type": "code",
   "execution_count": 74,
   "id": "4E0qTZ3V2tJ1",
   "metadata": {
    "id": "4E0qTZ3V2tJ1"
   },
   "outputs": [],
   "source": [
    "# воспользуемся таблицей united_user_data, добавим новую колонку: является ли событие постройкой (читай: посмотрит ли пользователь рекламный ролик)\n",
    "united_user_data['is_building_flag'] = united_user_data['event'].apply(lambda x: True if x == 'building' else False)"
   ]
  },
  {
   "cell_type": "code",
   "execution_count": 75,
   "id": "SHi3zimIxWtB",
   "metadata": {
    "id": "SHi3zimIxWtB"
   },
   "outputs": [],
   "source": [
    "# Необходимо: сгруппировать таблицу по event_datetime и source, агрегировать по количеству построек\n",
    "avg_buildings_per_user = united_user_data.groupby(['event_datetime', 'source'], as_index=False) \\\n",
    "                                          .agg(buildings_count=('is_building_flag', 'sum'), users_count=('user_id', 'nunique'))"
   ]
  },
  {
   "cell_type": "code",
   "execution_count": 76,
   "id": "TcmEtLcH13io",
   "metadata": {
    "id": "TcmEtLcH13io"
   },
   "outputs": [],
   "source": [
    "avg_buildings_per_user['avg_buildings_per_day'] = avg_buildings_per_user['buildings_count'] / avg_buildings_per_user['users_count']"
   ]
  },
  {
   "cell_type": "code",
   "execution_count": 77,
   "id": "K1B9WwdJ6Bu2",
   "metadata": {
    "colab": {
     "base_uri": "https://localhost:8080/",
     "height": 424
    },
    "id": "K1B9WwdJ6Bu2",
    "outputId": "68ca42bf-8b46-4190-d94c-22e31a1fa540"
   },
   "outputs": [
    {
     "data": {
      "text/html": [
       "<div>\n",
       "<style scoped>\n",
       "    .dataframe tbody tr th:only-of-type {\n",
       "        vertical-align: middle;\n",
       "    }\n",
       "\n",
       "    .dataframe tbody tr th {\n",
       "        vertical-align: top;\n",
       "    }\n",
       "\n",
       "    .dataframe thead th {\n",
       "        text-align: right;\n",
       "    }\n",
       "</style>\n",
       "<table border=\"1\" class=\"dataframe\">\n",
       "  <thead>\n",
       "    <tr style=\"text-align: right;\">\n",
       "      <th></th>\n",
       "      <th>event_datetime</th>\n",
       "      <th>source</th>\n",
       "      <th>buildings_count</th>\n",
       "      <th>users_count</th>\n",
       "      <th>avg_buildings_per_day</th>\n",
       "    </tr>\n",
       "  </thead>\n",
       "  <tbody>\n",
       "    <tr>\n",
       "      <th>25</th>\n",
       "      <td>2020-05-10</td>\n",
       "      <td>instagram_new_adverts</td>\n",
       "      <td>3844</td>\n",
       "      <td>2301</td>\n",
       "      <td>1.670578</td>\n",
       "    </tr>\n",
       "    <tr>\n",
       "      <th>27</th>\n",
       "      <td>2020-05-10</td>\n",
       "      <td>youtube_channel_reklama</td>\n",
       "      <td>2918</td>\n",
       "      <td>1787</td>\n",
       "      <td>1.632904</td>\n",
       "    </tr>\n",
       "    <tr>\n",
       "      <th>24</th>\n",
       "      <td>2020-05-10</td>\n",
       "      <td>facebook_ads</td>\n",
       "      <td>2996</td>\n",
       "      <td>1860</td>\n",
       "      <td>1.610753</td>\n",
       "    </tr>\n",
       "    <tr>\n",
       "      <th>26</th>\n",
       "      <td>2020-05-10</td>\n",
       "      <td>yandex_direct</td>\n",
       "      <td>5264</td>\n",
       "      <td>3271</td>\n",
       "      <td>1.609294</td>\n",
       "    </tr>\n",
       "    <tr>\n",
       "      <th>16</th>\n",
       "      <td>2020-05-08</td>\n",
       "      <td>facebook_ads</td>\n",
       "      <td>2509</td>\n",
       "      <td>1583</td>\n",
       "      <td>1.584965</td>\n",
       "    </tr>\n",
       "    <tr>\n",
       "      <th>...</th>\n",
       "      <td>...</td>\n",
       "      <td>...</td>\n",
       "      <td>...</td>\n",
       "      <td>...</td>\n",
       "      <td>...</td>\n",
       "    </tr>\n",
       "    <tr>\n",
       "      <th>119</th>\n",
       "      <td>2020-06-02</td>\n",
       "      <td>youtube_channel_reklama</td>\n",
       "      <td>1</td>\n",
       "      <td>3</td>\n",
       "      <td>0.333333</td>\n",
       "    </tr>\n",
       "    <tr>\n",
       "      <th>118</th>\n",
       "      <td>2020-06-02</td>\n",
       "      <td>yandex_direct</td>\n",
       "      <td>0</td>\n",
       "      <td>3</td>\n",
       "      <td>0.000000</td>\n",
       "    </tr>\n",
       "    <tr>\n",
       "      <th>125</th>\n",
       "      <td>2020-06-04</td>\n",
       "      <td>instagram_new_adverts</td>\n",
       "      <td>0</td>\n",
       "      <td>1</td>\n",
       "      <td>0.000000</td>\n",
       "    </tr>\n",
       "    <tr>\n",
       "      <th>127</th>\n",
       "      <td>2020-06-05</td>\n",
       "      <td>facebook_ads</td>\n",
       "      <td>0</td>\n",
       "      <td>1</td>\n",
       "      <td>0.000000</td>\n",
       "    </tr>\n",
       "    <tr>\n",
       "      <th>129</th>\n",
       "      <td>2020-06-05</td>\n",
       "      <td>yandex_direct</td>\n",
       "      <td>0</td>\n",
       "      <td>1</td>\n",
       "      <td>0.000000</td>\n",
       "    </tr>\n",
       "  </tbody>\n",
       "</table>\n",
       "<p>131 rows × 5 columns</p>\n",
       "</div>"
      ],
      "text/plain": [
       "    event_datetime                   source  buildings_count  users_count  \\\n",
       "25      2020-05-10    instagram_new_adverts             3844         2301   \n",
       "27      2020-05-10  youtube_channel_reklama             2918         1787   \n",
       "24      2020-05-10             facebook_ads             2996         1860   \n",
       "26      2020-05-10            yandex_direct             5264         3271   \n",
       "16      2020-05-08             facebook_ads             2509         1583   \n",
       "..             ...                      ...              ...          ...   \n",
       "119     2020-06-02  youtube_channel_reklama                1            3   \n",
       "118     2020-06-02            yandex_direct                0            3   \n",
       "125     2020-06-04    instagram_new_adverts                0            1   \n",
       "127     2020-06-05             facebook_ads                0            1   \n",
       "129     2020-06-05            yandex_direct                0            1   \n",
       "\n",
       "     avg_buildings_per_day  \n",
       "25                1.670578  \n",
       "27                1.632904  \n",
       "24                1.610753  \n",
       "26                1.609294  \n",
       "16                1.584965  \n",
       "..                     ...  \n",
       "119               0.333333  \n",
       "118               0.000000  \n",
       "125               0.000000  \n",
       "127               0.000000  \n",
       "129               0.000000  \n",
       "\n",
       "[131 rows x 5 columns]"
      ]
     },
     "execution_count": 77,
     "metadata": {},
     "output_type": "execute_result"
    }
   ],
   "source": [
    "# проверка\n",
    "avg_buildings_per_user.sort_values(by='avg_buildings_per_day', ascending=False)"
   ]
  },
  {
   "cell_type": "code",
   "execution_count": 78,
   "id": "0nDIKUa3xW0m",
   "metadata": {
    "colab": {
     "base_uri": "https://localhost:8080/",
     "height": 548
    },
    "id": "0nDIKUa3xW0m",
    "outputId": "e5fb79d9-7017-4e52-90f0-d3d6cc73cf83"
   },
   "outputs": [
    {
     "data": {
      "image/png": "[encoded data removed]",
      "text/plain": [
       "<Figure size 1080x576 with 1 Axes>"
      ]
     },
     "metadata": {},
     "output_type": "display_data"
    }
   ],
   "source": [
    "plt.style.use('dark_background')\n",
    "avg_buildings_per_user.pivot_table(values='avg_buildings_per_day', index='event_datetime', columns='source') \\\n",
    ".plot(grid=True, figsize=(15, 8), title='Среднее количество построек на 1 пользователя в разрезе источников привлечения пользователей', \\\n",
    "                              xlabel='Дни', ylabel='Среднее количество построек на 1 пользователя', \\\n",
    "                              linestyle='-', marker='o')\n",
    "plt.axhline(avg_buildings_per_user.avg_buildings_per_day.median(), c='red', ls='--')\n",
    "\n",
    "plt.show()"
   ]
  },
  {
   "cell_type": "markdown",
   "id": "ltw-1-5A7TJe",
   "metadata": {
    "id": "ltw-1-5A7TJe"
   },
   "source": [
    "Анализ графика показывает, что пользователи всех когорт, вне зависимости от канала привлечения, в среднем, с одинаковой интенсивностью возводят построки. В конце наблюдения разница становится существенной, но ранонаправленной между соседними днями. То есть может быть объяснена существенным снижением количества игроков (DAU) в связи с тем, что наиболее активная часть пользователей уже завершила уровень."
   ]
  },
  {
   "cell_type": "markdown",
   "id": "TzsGJOPZVWFI",
   "metadata": {
    "id": "TzsGJOPZVWFI"
   },
   "source": [
    "#### Вычислить стоимость привлечения каждого пользователя. Выявить самые дорогие и дешевые источники привлечения пользователей."
   ]
  },
  {
   "cell_type": "code",
   "execution_count": 79,
   "id": "IVBmiZ_x8IF0",
   "metadata": {
    "colab": {
     "base_uri": "https://localhost:8080/",
     "height": 206
    },
    "id": "IVBmiZ_x8IF0",
    "outputId": "36810fb0-904b-41d9-a84b-22f606817b8a"
   },
   "outputs": [
    {
     "data": {
      "text/html": [
       "<div>\n",
       "<style scoped>\n",
       "    .dataframe tbody tr th:only-of-type {\n",
       "        vertical-align: middle;\n",
       "    }\n",
       "\n",
       "    .dataframe tbody tr th {\n",
       "        vertical-align: top;\n",
       "    }\n",
       "\n",
       "    .dataframe thead th {\n",
       "        text-align: right;\n",
       "    }\n",
       "</style>\n",
       "<table border=\"1\" class=\"dataframe\">\n",
       "  <thead>\n",
       "    <tr style=\"text-align: right;\">\n",
       "      <th></th>\n",
       "      <th>first_session_date</th>\n",
       "      <th>source</th>\n",
       "      <th>user_count</th>\n",
       "      <th>cost</th>\n",
       "      <th>avg_user_acquisition_cost</th>\n",
       "    </tr>\n",
       "  </thead>\n",
       "  <tbody>\n",
       "    <tr>\n",
       "      <th>0</th>\n",
       "      <td>2020-05-04</td>\n",
       "      <td>facebook_ads</td>\n",
       "      <td>1184</td>\n",
       "      <td>935.882786</td>\n",
       "      <td>0.790442</td>\n",
       "    </tr>\n",
       "    <tr>\n",
       "      <th>1</th>\n",
       "      <td>2020-05-05</td>\n",
       "      <td>facebook_ads</td>\n",
       "      <td>694</td>\n",
       "      <td>548.354480</td>\n",
       "      <td>0.790136</td>\n",
       "    </tr>\n",
       "    <tr>\n",
       "      <th>2</th>\n",
       "      <td>2020-05-06</td>\n",
       "      <td>facebook_ads</td>\n",
       "      <td>345</td>\n",
       "      <td>260.185754</td>\n",
       "      <td>0.754162</td>\n",
       "    </tr>\n",
       "    <tr>\n",
       "      <th>3</th>\n",
       "      <td>2020-05-07</td>\n",
       "      <td>facebook_ads</td>\n",
       "      <td>224</td>\n",
       "      <td>177.982200</td>\n",
       "      <td>0.794563</td>\n",
       "    </tr>\n",
       "    <tr>\n",
       "      <th>4</th>\n",
       "      <td>2020-05-08</td>\n",
       "      <td>facebook_ads</td>\n",
       "      <td>139</td>\n",
       "      <td>111.766796</td>\n",
       "      <td>0.804078</td>\n",
       "    </tr>\n",
       "  </tbody>\n",
       "</table>\n",
       "</div>"
      ],
      "text/plain": [
       "  first_session_date        source  user_count        cost  \\\n",
       "0         2020-05-04  facebook_ads        1184  935.882786   \n",
       "1         2020-05-05  facebook_ads         694  548.354480   \n",
       "2         2020-05-06  facebook_ads         345  260.185754   \n",
       "3         2020-05-07  facebook_ads         224  177.982200   \n",
       "4         2020-05-08  facebook_ads         139  111.766796   \n",
       "\n",
       "   avg_user_acquisition_cost  \n",
       "0                   0.790442  \n",
       "1                   0.790136  \n",
       "2                   0.754162  \n",
       "3                   0.794563  \n",
       "4                   0.804078  "
      ]
     },
     "execution_count": 79,
     "metadata": {},
     "output_type": "execute_result"
    }
   ],
   "source": [
    "# воспользуемся ранее созданной таблицей first_session_users_number_costs\n",
    "first_session_users_number_costs.head()"
   ]
  },
  {
   "cell_type": "code",
   "execution_count": 80,
   "id": "gCz6EXdC8ouC",
   "metadata": {
    "colab": {
     "base_uri": "https://localhost:8080/",
     "height": 536
    },
    "id": "gCz6EXdC8ouC",
    "outputId": "0d59a315-6494-4cec-98f7-74dffdfd3758"
   },
   "outputs": [
    {
     "data": {
      "image/png": "[encoded data removed]",
      "text/plain": [
       "<Figure size 1080x576 with 1 Axes>"
      ]
     },
     "metadata": {},
     "output_type": "display_data"
    }
   ],
   "source": [
    "first_session_users_number_costs.pivot_table(values='avg_user_acquisition_cost', index='first_session_date', columns='source') \\\n",
    ".plot(grid=True, figsize=(15, 8), title='Средняя стоимость привлечения пользователя', \\\n",
    "                              xlabel='дни привлечения', ylabel='цена привлечения, у.е.', \\\n",
    "                              linestyle='-', marker='o')\n",
    "plt.show()"
   ]
  },
  {
   "cell_type": "markdown",
   "id": "4VA1g3Fi8f7c",
   "metadata": {
    "id": "4VA1g3Fi8f7c"
   },
   "source": [
    "Можно сделать вывод о том, что стоимость привлечения, в целом, по когортам не меняется. Самые дешевые источника трафика - youtube и yandex, а самый дорогой - facebook.\n",
    "Канал facebook_ads показал в последний день некоторое снижение, с 0.8 до менее 0.7."
   ]
  },
  {
   "cell_type": "markdown",
   "id": "9ZF3zEzLVWKg",
   "metadata": {
    "id": "9ZF3zEzLVWKg"
   },
   "source": [
    "#### Рассчитать LTV (доход от суммарного показа рекламных роликов - стоимость привлечения) в разрезе источников привлечения."
   ]
  },
  {
   "cell_type": "markdown",
   "id": "b4450f75",
   "metadata": {
    "id": "b4450f75"
   },
   "source": [
    "Доход от показа 1 рекламного ролика (показывается перед строительством каждого здания) - 0.07 у.е."
   ]
  },
  {
   "cell_type": "code",
   "execution_count": 81,
   "id": "EnRHQ5Th8IzY",
   "metadata": {
    "id": "EnRHQ5Th8IzY"
   },
   "outputs": [],
   "source": [
    "ads_view_revenue = 0.07"
   ]
  },
  {
   "cell_type": "code",
   "execution_count": 82,
   "id": "ZmCd9kbS8I3z",
   "metadata": {
    "id": "ZmCd9kbS8I3z"
   },
   "outputs": [],
   "source": [
    "# сгруппируем таблицу united_user_data по пользователям, рассчитав, количество просмотренных рекламных роликов\n",
    "ltv_user_data = united_user_data.groupby(['user_id', 'source', 'first_session_date'], as_index=False).agg(ads_viewed_count=('event', 'count'))"
   ]
  },
  {
   "cell_type": "code",
   "execution_count": 83,
   "id": "98561955",
   "metadata": {
    "id": "98561955"
   },
   "outputs": [],
   "source": [
    "# добавим каждому user_id данные о стоимость его привлечения из таблицы first_session_users_number_costs\n",
    "ltv_user_data = ltv_user_data.merge(first_session_users_number_costs[['source', 'first_session_date', 'avg_user_acquisition_cost']], how='left', on=['source', 'first_session_date'])"
   ]
  },
  {
   "cell_type": "code",
   "execution_count": 84,
   "id": "cc41a8e1",
   "metadata": {
    "id": "cc41a8e1"
   },
   "outputs": [],
   "source": [
    "# рассчитаем ltv с учетом дохода от показа рекламного ролика\n",
    "ltv_user_data['ltv'] = ltv_user_data['ads_viewed_count'] * ads_view_revenue - ltv_user_data['avg_user_acquisition_cost']"
   ]
  },
  {
   "cell_type": "code",
   "execution_count": 85,
   "id": "847a35a8",
   "metadata": {
    "id": "847a35a8"
   },
   "outputs": [],
   "source": [
    "# сгруппируем ltv_user_data по источнику привлечения и аггрегируем по медианному значению ltv\n",
    "ltv_user_data_grouped = ltv_user_data.groupby(['source', 'first_session_date'], as_index=False).agg(median_ltv=('ltv', 'median'))"
   ]
  },
  {
   "cell_type": "code",
   "execution_count": 86,
   "id": "c8439715",
   "metadata": {
    "colab": {
     "base_uri": "https://localhost:8080/",
     "height": 206
    },
    "id": "c8439715",
    "outputId": "ec538249-426d-4fe4-ba71-50c87ef0ee30"
   },
   "outputs": [
    {
     "data": {
      "text/html": [
       "<div>\n",
       "<style scoped>\n",
       "    .dataframe tbody tr th:only-of-type {\n",
       "        vertical-align: middle;\n",
       "    }\n",
       "\n",
       "    .dataframe tbody tr th {\n",
       "        vertical-align: top;\n",
       "    }\n",
       "\n",
       "    .dataframe thead th {\n",
       "        text-align: right;\n",
       "    }\n",
       "</style>\n",
       "<table border=\"1\" class=\"dataframe\">\n",
       "  <thead>\n",
       "    <tr style=\"text-align: right;\">\n",
       "      <th></th>\n",
       "      <th>source</th>\n",
       "      <th>first_session_date</th>\n",
       "      <th>median_ltv</th>\n",
       "    </tr>\n",
       "  </thead>\n",
       "  <tbody>\n",
       "    <tr>\n",
       "      <th>0</th>\n",
       "      <td>facebook_ads</td>\n",
       "      <td>2020-05-04</td>\n",
       "      <td>0.049558</td>\n",
       "    </tr>\n",
       "    <tr>\n",
       "      <th>1</th>\n",
       "      <td>facebook_ads</td>\n",
       "      <td>2020-05-05</td>\n",
       "      <td>-0.020136</td>\n",
       "    </tr>\n",
       "    <tr>\n",
       "      <th>2</th>\n",
       "      <td>facebook_ads</td>\n",
       "      <td>2020-05-06</td>\n",
       "      <td>-0.054162</td>\n",
       "    </tr>\n",
       "    <tr>\n",
       "      <th>3</th>\n",
       "      <td>facebook_ads</td>\n",
       "      <td>2020-05-07</td>\n",
       "      <td>-0.199563</td>\n",
       "    </tr>\n",
       "    <tr>\n",
       "      <th>4</th>\n",
       "      <td>facebook_ads</td>\n",
       "      <td>2020-05-08</td>\n",
       "      <td>-0.384078</td>\n",
       "    </tr>\n",
       "  </tbody>\n",
       "</table>\n",
       "</div>"
      ],
      "text/plain": [
       "         source first_session_date  median_ltv\n",
       "0  facebook_ads         2020-05-04    0.049558\n",
       "1  facebook_ads         2020-05-05   -0.020136\n",
       "2  facebook_ads         2020-05-06   -0.054162\n",
       "3  facebook_ads         2020-05-07   -0.199563\n",
       "4  facebook_ads         2020-05-08   -0.384078"
      ]
     },
     "execution_count": 86,
     "metadata": {},
     "output_type": "execute_result"
    }
   ],
   "source": [
    "# проверка\n",
    "ltv_user_data_grouped.head()"
   ]
  },
  {
   "cell_type": "code",
   "execution_count": 87,
   "id": "faff430b",
   "metadata": {
    "colab": {
     "base_uri": "https://localhost:8080/",
     "height": 536
    },
    "id": "faff430b",
    "outputId": "64c4a54b-1307-4cf5-8293-670b16a0ebea"
   },
   "outputs": [
    {
     "data": {
      "image/png": "[encoded data removed]",
      "text/plain": [
       "<Figure size 1080x576 with 1 Axes>"
      ]
     },
     "metadata": {},
     "output_type": "display_data"
    }
   ],
   "source": [
    "ltv_user_data_grouped.pivot_table(values='median_ltv', index='first_session_date', columns='source') \\\n",
    ".plot(grid=True, figsize=(15, 8), title='Медианное значение LTV в разрезе каналов привлечения', \\\n",
    "                              xlabel='дни привлечения', ylabel='LTV, у.е.', \\\n",
    "                              linestyle='-', marker='o')\n",
    "plt.show()"
   ]
  },
  {
   "cell_type": "markdown",
   "id": "2a901593",
   "metadata": {
    "id": "2a901593"
   },
   "source": [
    "Значение LTV показывает, что LTV пользователей каналов youtube и yandex выше, чем у других каналов. Однако заметна разница LTV для разных когорт: для когорты от 04.05 он для всех положительный, а для когорты от 10.05 он для всех источников привлечения отрицательный."
   ]
  },
  {
   "cell_type": "markdown",
   "id": "f53d1ae9",
   "metadata": {
    "id": "f53d1ae9"
   },
   "source": [
    "### Выводы"
   ]
  },
  {
   "cell_type": "markdown",
   "id": "AMaYXdGtexMv",
   "metadata": {
    "id": "AMaYXdGtexMv"
   },
   "source": [
    "- Между когортами наблюдается снижение целеустремленности, однако это также объясняется количеством пользователей в когортах - отличие на порядок. 45-50% игроков, привлеченных 04 мая, завершают уровень 1, в то время, как процент таких игроков от 10 мая не превышает 35%.\n",
    "\n",
    "- Анализ показывает, что пользователи-воители, в среднем, проходят уровень на 2 дня быстрее, чем пользователи-строители.\n",
    "\n",
    "- Пользователи всех когорот (с учетом игнорирования от канала привлечения), в среднем, с одинаковой интенсивностью возводят построки.\n",
    "\n",
    "- Стоимость привлечения, в целом, по когортам не меняется. Самые дешевые источника трафика - youtube и yandex, а самый дорогой - facebook.\n",
    "\n",
    "- Значение LTV показывает, что LTV пользователей каналов youtube и yandex выше, чем у других каналов. Однако заметна разница LTV для разных когорт: для когорты от 04.05 он для всех положительный, а для когорты от 10.05 он для всех источников привлечения отрицательный."
   ]
  },
  {
   "cell_type": "markdown",
   "id": "e6f2caad",
   "metadata": {
    "id": "e6f2caad"
   },
   "source": [
    "## Формулировка гипотезы о равенстве времени завершения уровня в зависимости от способа прохождения. Расчет статистической значимости различий.\n",
    "\n",
    "\n"
   ]
  },
  {
   "cell_type": "markdown",
   "id": "626d9b80",
   "metadata": {
    "id": "626d9b80"
   },
   "source": [
    "Сформулируем гипотезу. \n",
    "- Нулевая гипотеза (H0): среднее время завершения уровня пользователями-строителями и пользователями-воителями одинаково.\n",
    "- Альтернативная гипотеза (H1): пользователи-строители и пользователи-воители тратят, в среднем, статистически разное время на прохождение уровня."
   ]
  },
  {
   "cell_type": "markdown",
   "id": "9ddbdb45",
   "metadata": {
    "id": "9ddbdb45"
   },
   "source": [
    "Выше мы рассматривали время прохождения уровня, но в днях. Так как среднее время прохождения уровня исчисляется днями, для исследования гипотезы целесообразно оперировать часами."
   ]
  },
  {
   "cell_type": "code",
   "execution_count": 88,
   "id": "58a7795c",
   "metadata": {
    "id": "58a7795c"
   },
   "outputs": [],
   "source": [
    "first_session_time = game_actions_df.sort_values(by='event_datetime_full', ascending=True) \\\n",
    "                                    .groupby('user_id', as_index=False) \\\n",
    "                                    .agg(first_session_time=('event_datetime_full', 'first'))"
   ]
  },
  {
   "cell_type": "code",
   "execution_count": 89,
   "id": "f6978445",
   "metadata": {
    "colab": {
     "base_uri": "https://localhost:8080/",
     "height": 206
    },
    "id": "f6978445",
    "outputId": "feb086ee-bc39-4f38-c094-a9c6d871d424"
   },
   "outputs": [
    {
     "data": {
      "text/html": [
       "<div>\n",
       "<style scoped>\n",
       "    .dataframe tbody tr th:only-of-type {\n",
       "        vertical-align: middle;\n",
       "    }\n",
       "\n",
       "    .dataframe tbody tr th {\n",
       "        vertical-align: top;\n",
       "    }\n",
       "\n",
       "    .dataframe thead th {\n",
       "        text-align: right;\n",
       "    }\n",
       "</style>\n",
       "<table border=\"1\" class=\"dataframe\">\n",
       "  <thead>\n",
       "    <tr style=\"text-align: right;\">\n",
       "      <th></th>\n",
       "      <th>user_id</th>\n",
       "      <th>first_session_time</th>\n",
       "    </tr>\n",
       "  </thead>\n",
       "  <tbody>\n",
       "    <tr>\n",
       "      <th>0</th>\n",
       "      <td>0001f83c-c6ac-4621-b7f0-8a28b283ac30</td>\n",
       "      <td>2020-05-06 01:07:37</td>\n",
       "    </tr>\n",
       "    <tr>\n",
       "      <th>1</th>\n",
       "      <td>00151b4f-ba38-44a8-a650-d7cf130a0105</td>\n",
       "      <td>2020-05-06 03:09:12</td>\n",
       "    </tr>\n",
       "    <tr>\n",
       "      <th>2</th>\n",
       "      <td>001aaea6-3d14-43f1-8ca8-7f48820f17aa</td>\n",
       "      <td>2020-05-05 18:08:52</td>\n",
       "    </tr>\n",
       "    <tr>\n",
       "      <th>3</th>\n",
       "      <td>001d39dc-366c-4021-9604-6a3b9ff01e25</td>\n",
       "      <td>2020-05-05 21:02:05</td>\n",
       "    </tr>\n",
       "    <tr>\n",
       "      <th>4</th>\n",
       "      <td>002f508f-67b6-479f-814b-b05f00d4e995</td>\n",
       "      <td>2020-05-05 13:49:58</td>\n",
       "    </tr>\n",
       "  </tbody>\n",
       "</table>\n",
       "</div>"
      ],
      "text/plain": [
       "                                user_id   first_session_time\n",
       "0  0001f83c-c6ac-4621-b7f0-8a28b283ac30  2020-05-06 01:07:37\n",
       "1  00151b4f-ba38-44a8-a650-d7cf130a0105  2020-05-06 03:09:12\n",
       "2  001aaea6-3d14-43f1-8ca8-7f48820f17aa  2020-05-05 18:08:52\n",
       "3  001d39dc-366c-4021-9604-6a3b9ff01e25  2020-05-05 21:02:05\n",
       "4  002f508f-67b6-479f-814b-b05f00d4e995  2020-05-05 13:49:58"
      ]
     },
     "execution_count": 89,
     "metadata": {},
     "output_type": "execute_result"
    }
   ],
   "source": [
    "first_session_time.head()"
   ]
  },
  {
   "cell_type": "code",
   "execution_count": 90,
   "id": "532eb22d",
   "metadata": {
    "id": "532eb22d"
   },
   "outputs": [],
   "source": [
    "game_actions_df_finished_stage = game_actions_df.merge(first_session_time, how='left', on='user_id')"
   ]
  },
  {
   "cell_type": "code",
   "execution_count": 91,
   "id": "0578303f",
   "metadata": {
    "id": "0578303f"
   },
   "outputs": [],
   "source": [
    "game_actions_df_finished_stage = game_actions_df_finished_stage.query('event==\"finished_stage_1\"')"
   ]
  },
  {
   "cell_type": "code",
   "execution_count": 92,
   "id": "201e2577",
   "metadata": {
    "colab": {
     "base_uri": "https://localhost:8080/",
     "height": 206
    },
    "id": "201e2577",
    "outputId": "24b2dbe4-3cc2-4b11-dd39-98f410e44acb",
    "scrolled": true
   },
   "outputs": [
    {
     "data": {
      "text/html": [
       "<div>\n",
       "<style scoped>\n",
       "    .dataframe tbody tr th:only-of-type {\n",
       "        vertical-align: middle;\n",
       "    }\n",
       "\n",
       "    .dataframe tbody tr th {\n",
       "        vertical-align: top;\n",
       "    }\n",
       "\n",
       "    .dataframe thead th {\n",
       "        text-align: right;\n",
       "    }\n",
       "</style>\n",
       "<table border=\"1\" class=\"dataframe\">\n",
       "  <thead>\n",
       "    <tr style=\"text-align: right;\">\n",
       "      <th></th>\n",
       "      <th>event_datetime</th>\n",
       "      <th>event</th>\n",
       "      <th>building_type</th>\n",
       "      <th>user_id</th>\n",
       "      <th>project_type</th>\n",
       "      <th>event_datetime_full</th>\n",
       "      <th>first_session_time</th>\n",
       "    </tr>\n",
       "  </thead>\n",
       "  <tbody>\n",
       "    <tr>\n",
       "      <th>6659</th>\n",
       "      <td>2020-05-04</td>\n",
       "      <td>finished_stage_1</td>\n",
       "      <td>None</td>\n",
       "      <td>ced7b368-818f-48f6-9461-2346de0892c5</td>\n",
       "      <td>None</td>\n",
       "      <td>2020-05-04 19:47:29</td>\n",
       "      <td>2020-05-04 00:13:21</td>\n",
       "    </tr>\n",
       "    <tr>\n",
       "      <th>13134</th>\n",
       "      <td>2020-05-05</td>\n",
       "      <td>finished_stage_1</td>\n",
       "      <td>None</td>\n",
       "      <td>7ef7fc89-2779-46ea-b328-9e5035b83af5</td>\n",
       "      <td>None</td>\n",
       "      <td>2020-05-05 13:22:09</td>\n",
       "      <td>2020-05-04 00:22:48</td>\n",
       "    </tr>\n",
       "    <tr>\n",
       "      <th>15274</th>\n",
       "      <td>2020-05-05</td>\n",
       "      <td>finished_stage_1</td>\n",
       "      <td>None</td>\n",
       "      <td>70db22b3-c2f4-43bc-94ea-51c8d2904a29</td>\n",
       "      <td>None</td>\n",
       "      <td>2020-05-05 18:54:37</td>\n",
       "      <td>2020-05-04 13:41:55</td>\n",
       "    </tr>\n",
       "    <tr>\n",
       "      <th>16284</th>\n",
       "      <td>2020-05-05</td>\n",
       "      <td>finished_stage_1</td>\n",
       "      <td>None</td>\n",
       "      <td>903fc9ef-ba97-4b12-9d5c-ac8d602fbd8b</td>\n",
       "      <td>None</td>\n",
       "      <td>2020-05-05 21:27:29</td>\n",
       "      <td>2020-05-04 00:57:02</td>\n",
       "    </tr>\n",
       "    <tr>\n",
       "      <th>19650</th>\n",
       "      <td>2020-05-06</td>\n",
       "      <td>finished_stage_1</td>\n",
       "      <td>None</td>\n",
       "      <td>58e077ba-feb1-4556-a5a0-d96bd04efa39</td>\n",
       "      <td>None</td>\n",
       "      <td>2020-05-06 06:02:22</td>\n",
       "      <td>2020-05-04 19:23:40</td>\n",
       "    </tr>\n",
       "  </tbody>\n",
       "</table>\n",
       "</div>"
      ],
      "text/plain": [
       "      event_datetime             event building_type  \\\n",
       "6659      2020-05-04  finished_stage_1          None   \n",
       "13134     2020-05-05  finished_stage_1          None   \n",
       "15274     2020-05-05  finished_stage_1          None   \n",
       "16284     2020-05-05  finished_stage_1          None   \n",
       "19650     2020-05-06  finished_stage_1          None   \n",
       "\n",
       "                                    user_id project_type  event_datetime_full  \\\n",
       "6659   ced7b368-818f-48f6-9461-2346de0892c5         None  2020-05-04 19:47:29   \n",
       "13134  7ef7fc89-2779-46ea-b328-9e5035b83af5         None  2020-05-05 13:22:09   \n",
       "15274  70db22b3-c2f4-43bc-94ea-51c8d2904a29         None  2020-05-05 18:54:37   \n",
       "16284  903fc9ef-ba97-4b12-9d5c-ac8d602fbd8b         None  2020-05-05 21:27:29   \n",
       "19650  58e077ba-feb1-4556-a5a0-d96bd04efa39         None  2020-05-06 06:02:22   \n",
       "\n",
       "        first_session_time  \n",
       "6659   2020-05-04 00:13:21  \n",
       "13134  2020-05-04 00:22:48  \n",
       "15274  2020-05-04 13:41:55  \n",
       "16284  2020-05-04 00:57:02  \n",
       "19650  2020-05-04 19:23:40  "
      ]
     },
     "execution_count": 92,
     "metadata": {},
     "output_type": "execute_result"
    }
   ],
   "source": [
    "game_actions_df_finished_stage.head()"
   ]
  },
  {
   "cell_type": "code",
   "execution_count": 93,
   "id": "a4cfd0ae",
   "metadata": {
    "id": "a4cfd0ae"
   },
   "outputs": [],
   "source": [
    "game_actions_df_finished_stage['duration'] = pd.to_datetime(game_actions_df_finished_stage['event_datetime_full']) \\\n",
    "                                            - pd.to_datetime(game_actions_df_finished_stage['first_session_time'])"
   ]
  },
  {
   "cell_type": "code",
   "execution_count": 94,
   "id": "0f08a2da",
   "metadata": {
    "colab": {
     "base_uri": "https://localhost:8080/",
     "height": 206
    },
    "id": "0f08a2da",
    "outputId": "fcfc1f8d-5307-43bf-d5df-909374c16f52"
   },
   "outputs": [
    {
     "data": {
      "text/html": [
       "<div>\n",
       "<style scoped>\n",
       "    .dataframe tbody tr th:only-of-type {\n",
       "        vertical-align: middle;\n",
       "    }\n",
       "\n",
       "    .dataframe tbody tr th {\n",
       "        vertical-align: top;\n",
       "    }\n",
       "\n",
       "    .dataframe thead th {\n",
       "        text-align: right;\n",
       "    }\n",
       "</style>\n",
       "<table border=\"1\" class=\"dataframe\">\n",
       "  <thead>\n",
       "    <tr style=\"text-align: right;\">\n",
       "      <th></th>\n",
       "      <th>event_datetime</th>\n",
       "      <th>event</th>\n",
       "      <th>building_type</th>\n",
       "      <th>user_id</th>\n",
       "      <th>project_type</th>\n",
       "      <th>event_datetime_full</th>\n",
       "      <th>first_session_time</th>\n",
       "      <th>duration</th>\n",
       "    </tr>\n",
       "  </thead>\n",
       "  <tbody>\n",
       "    <tr>\n",
       "      <th>6659</th>\n",
       "      <td>2020-05-04</td>\n",
       "      <td>finished_stage_1</td>\n",
       "      <td>None</td>\n",
       "      <td>ced7b368-818f-48f6-9461-2346de0892c5</td>\n",
       "      <td>None</td>\n",
       "      <td>2020-05-04 19:47:29</td>\n",
       "      <td>2020-05-04 00:13:21</td>\n",
       "      <td>0 days 19:34:08</td>\n",
       "    </tr>\n",
       "    <tr>\n",
       "      <th>13134</th>\n",
       "      <td>2020-05-05</td>\n",
       "      <td>finished_stage_1</td>\n",
       "      <td>None</td>\n",
       "      <td>7ef7fc89-2779-46ea-b328-9e5035b83af5</td>\n",
       "      <td>None</td>\n",
       "      <td>2020-05-05 13:22:09</td>\n",
       "      <td>2020-05-04 00:22:48</td>\n",
       "      <td>1 days 12:59:21</td>\n",
       "    </tr>\n",
       "    <tr>\n",
       "      <th>15274</th>\n",
       "      <td>2020-05-05</td>\n",
       "      <td>finished_stage_1</td>\n",
       "      <td>None</td>\n",
       "      <td>70db22b3-c2f4-43bc-94ea-51c8d2904a29</td>\n",
       "      <td>None</td>\n",
       "      <td>2020-05-05 18:54:37</td>\n",
       "      <td>2020-05-04 13:41:55</td>\n",
       "      <td>1 days 05:12:42</td>\n",
       "    </tr>\n",
       "    <tr>\n",
       "      <th>16284</th>\n",
       "      <td>2020-05-05</td>\n",
       "      <td>finished_stage_1</td>\n",
       "      <td>None</td>\n",
       "      <td>903fc9ef-ba97-4b12-9d5c-ac8d602fbd8b</td>\n",
       "      <td>None</td>\n",
       "      <td>2020-05-05 21:27:29</td>\n",
       "      <td>2020-05-04 00:57:02</td>\n",
       "      <td>1 days 20:30:27</td>\n",
       "    </tr>\n",
       "    <tr>\n",
       "      <th>19650</th>\n",
       "      <td>2020-05-06</td>\n",
       "      <td>finished_stage_1</td>\n",
       "      <td>None</td>\n",
       "      <td>58e077ba-feb1-4556-a5a0-d96bd04efa39</td>\n",
       "      <td>None</td>\n",
       "      <td>2020-05-06 06:02:22</td>\n",
       "      <td>2020-05-04 19:23:40</td>\n",
       "      <td>1 days 10:38:42</td>\n",
       "    </tr>\n",
       "  </tbody>\n",
       "</table>\n",
       "</div>"
      ],
      "text/plain": [
       "      event_datetime             event building_type  \\\n",
       "6659      2020-05-04  finished_stage_1          None   \n",
       "13134     2020-05-05  finished_stage_1          None   \n",
       "15274     2020-05-05  finished_stage_1          None   \n",
       "16284     2020-05-05  finished_stage_1          None   \n",
       "19650     2020-05-06  finished_stage_1          None   \n",
       "\n",
       "                                    user_id project_type  event_datetime_full  \\\n",
       "6659   ced7b368-818f-48f6-9461-2346de0892c5         None  2020-05-04 19:47:29   \n",
       "13134  7ef7fc89-2779-46ea-b328-9e5035b83af5         None  2020-05-05 13:22:09   \n",
       "15274  70db22b3-c2f4-43bc-94ea-51c8d2904a29         None  2020-05-05 18:54:37   \n",
       "16284  903fc9ef-ba97-4b12-9d5c-ac8d602fbd8b         None  2020-05-05 21:27:29   \n",
       "19650  58e077ba-feb1-4556-a5a0-d96bd04efa39         None  2020-05-06 06:02:22   \n",
       "\n",
       "        first_session_time        duration  \n",
       "6659   2020-05-04 00:13:21 0 days 19:34:08  \n",
       "13134  2020-05-04 00:22:48 1 days 12:59:21  \n",
       "15274  2020-05-04 13:41:55 1 days 05:12:42  \n",
       "16284  2020-05-04 00:57:02 1 days 20:30:27  \n",
       "19650  2020-05-04 19:23:40 1 days 10:38:42  "
      ]
     },
     "execution_count": 94,
     "metadata": {},
     "output_type": "execute_result"
    }
   ],
   "source": [
    "game_actions_df_finished_stage.head()"
   ]
  },
  {
   "cell_type": "code",
   "execution_count": 95,
   "id": "500282b2",
   "metadata": {
    "id": "500282b2"
   },
   "outputs": [],
   "source": [
    "game_actions_df_finished_stage['duration_hours'] = round(game_actions_df_finished_stage['duration'].dt.components['days']*24 \\\n",
    "                                                    + game_actions_df_finished_stage['duration'].dt.components['hours'] \\\n",
    "                                                    + game_actions_df_finished_stage['duration'].dt.components['minutes'] / 60, 1)"
   ]
  },
  {
   "cell_type": "code",
   "execution_count": 96,
   "id": "cca8af85",
   "metadata": {
    "colab": {
     "base_uri": "https://localhost:8080/",
     "height": 206
    },
    "id": "cca8af85",
    "outputId": "cde52161-7b68-4bea-dd44-cb76082b39ad",
    "scrolled": false
   },
   "outputs": [
    {
     "data": {
      "text/html": [
       "<div>\n",
       "<style scoped>\n",
       "    .dataframe tbody tr th:only-of-type {\n",
       "        vertical-align: middle;\n",
       "    }\n",
       "\n",
       "    .dataframe tbody tr th {\n",
       "        vertical-align: top;\n",
       "    }\n",
       "\n",
       "    .dataframe thead th {\n",
       "        text-align: right;\n",
       "    }\n",
       "</style>\n",
       "<table border=\"1\" class=\"dataframe\">\n",
       "  <thead>\n",
       "    <tr style=\"text-align: right;\">\n",
       "      <th></th>\n",
       "      <th>event_datetime</th>\n",
       "      <th>event</th>\n",
       "      <th>building_type</th>\n",
       "      <th>user_id</th>\n",
       "      <th>project_type</th>\n",
       "      <th>event_datetime_full</th>\n",
       "      <th>first_session_time</th>\n",
       "      <th>duration</th>\n",
       "      <th>duration_hours</th>\n",
       "    </tr>\n",
       "  </thead>\n",
       "  <tbody>\n",
       "    <tr>\n",
       "      <th>6659</th>\n",
       "      <td>2020-05-04</td>\n",
       "      <td>finished_stage_1</td>\n",
       "      <td>None</td>\n",
       "      <td>ced7b368-818f-48f6-9461-2346de0892c5</td>\n",
       "      <td>None</td>\n",
       "      <td>2020-05-04 19:47:29</td>\n",
       "      <td>2020-05-04 00:13:21</td>\n",
       "      <td>0 days 19:34:08</td>\n",
       "      <td>19.6</td>\n",
       "    </tr>\n",
       "    <tr>\n",
       "      <th>13134</th>\n",
       "      <td>2020-05-05</td>\n",
       "      <td>finished_stage_1</td>\n",
       "      <td>None</td>\n",
       "      <td>7ef7fc89-2779-46ea-b328-9e5035b83af5</td>\n",
       "      <td>None</td>\n",
       "      <td>2020-05-05 13:22:09</td>\n",
       "      <td>2020-05-04 00:22:48</td>\n",
       "      <td>1 days 12:59:21</td>\n",
       "      <td>37.0</td>\n",
       "    </tr>\n",
       "    <tr>\n",
       "      <th>15274</th>\n",
       "      <td>2020-05-05</td>\n",
       "      <td>finished_stage_1</td>\n",
       "      <td>None</td>\n",
       "      <td>70db22b3-c2f4-43bc-94ea-51c8d2904a29</td>\n",
       "      <td>None</td>\n",
       "      <td>2020-05-05 18:54:37</td>\n",
       "      <td>2020-05-04 13:41:55</td>\n",
       "      <td>1 days 05:12:42</td>\n",
       "      <td>29.2</td>\n",
       "    </tr>\n",
       "    <tr>\n",
       "      <th>16284</th>\n",
       "      <td>2020-05-05</td>\n",
       "      <td>finished_stage_1</td>\n",
       "      <td>None</td>\n",
       "      <td>903fc9ef-ba97-4b12-9d5c-ac8d602fbd8b</td>\n",
       "      <td>None</td>\n",
       "      <td>2020-05-05 21:27:29</td>\n",
       "      <td>2020-05-04 00:57:02</td>\n",
       "      <td>1 days 20:30:27</td>\n",
       "      <td>44.5</td>\n",
       "    </tr>\n",
       "    <tr>\n",
       "      <th>19650</th>\n",
       "      <td>2020-05-06</td>\n",
       "      <td>finished_stage_1</td>\n",
       "      <td>None</td>\n",
       "      <td>58e077ba-feb1-4556-a5a0-d96bd04efa39</td>\n",
       "      <td>None</td>\n",
       "      <td>2020-05-06 06:02:22</td>\n",
       "      <td>2020-05-04 19:23:40</td>\n",
       "      <td>1 days 10:38:42</td>\n",
       "      <td>34.6</td>\n",
       "    </tr>\n",
       "  </tbody>\n",
       "</table>\n",
       "</div>"
      ],
      "text/plain": [
       "      event_datetime             event building_type  \\\n",
       "6659      2020-05-04  finished_stage_1          None   \n",
       "13134     2020-05-05  finished_stage_1          None   \n",
       "15274     2020-05-05  finished_stage_1          None   \n",
       "16284     2020-05-05  finished_stage_1          None   \n",
       "19650     2020-05-06  finished_stage_1          None   \n",
       "\n",
       "                                    user_id project_type  event_datetime_full  \\\n",
       "6659   ced7b368-818f-48f6-9461-2346de0892c5         None  2020-05-04 19:47:29   \n",
       "13134  7ef7fc89-2779-46ea-b328-9e5035b83af5         None  2020-05-05 13:22:09   \n",
       "15274  70db22b3-c2f4-43bc-94ea-51c8d2904a29         None  2020-05-05 18:54:37   \n",
       "16284  903fc9ef-ba97-4b12-9d5c-ac8d602fbd8b         None  2020-05-05 21:27:29   \n",
       "19650  58e077ba-feb1-4556-a5a0-d96bd04efa39         None  2020-05-06 06:02:22   \n",
       "\n",
       "        first_session_time        duration  duration_hours  \n",
       "6659   2020-05-04 00:13:21 0 days 19:34:08            19.6  \n",
       "13134  2020-05-04 00:22:48 1 days 12:59:21            37.0  \n",
       "15274  2020-05-04 13:41:55 1 days 05:12:42            29.2  \n",
       "16284  2020-05-04 00:57:02 1 days 20:30:27            44.5  \n",
       "19650  2020-05-04 19:23:40 1 days 10:38:42            34.6  "
      ]
     },
     "execution_count": 96,
     "metadata": {},
     "output_type": "execute_result"
    }
   ],
   "source": [
    "# проверка\n",
    "game_actions_df_finished_stage.head()"
   ]
  },
  {
   "cell_type": "code",
   "execution_count": 97,
   "id": "69c97d04",
   "metadata": {
    "id": "69c97d04"
   },
   "outputs": [],
   "source": [
    "# создадим 2 группы: таблицу со временем прохождения уровня для пользователей-строителей и пользователей-воителей\n",
    "group_warriors = game_actions_df_finished_stage.query('user_id in @warrior_users_set')[['user_id', 'duration_hours']]"
   ]
  },
  {
   "cell_type": "code",
   "execution_count": 98,
   "id": "313aed9d",
   "metadata": {
    "id": "313aed9d"
   },
   "outputs": [],
   "source": [
    "group_builders = game_actions_df_finished_stage.query('user_id in @builder_users_set')[['user_id', 'duration_hours']]"
   ]
  },
  {
   "cell_type": "code",
   "execution_count": 99,
   "id": "d844ba6c",
   "metadata": {
    "colab": {
     "base_uri": "https://localhost:8080/"
    },
    "id": "d844ba6c",
    "outputId": "18ae4492-19ca-43ea-e47f-828542279124"
   },
   "outputs": [
    {
     "data": {
      "text/plain": [
       "True"
      ]
     },
     "execution_count": 99,
     "metadata": {},
     "output_type": "execute_result"
    }
   ],
   "source": [
    "# проверка\n",
    "group_warriors.shape[0] + group_builders.shape[0] == game_actions_df_finished_stage.shape[0]"
   ]
  },
  {
   "cell_type": "markdown",
   "id": "d97dff9c",
   "metadata": {
    "id": "d97dff9c"
   },
   "source": [
    "Рассмотрим разницу дисперсий методом .bartlett библиотеки scipy"
   ]
  },
  {
   "cell_type": "code",
   "execution_count": 100,
   "id": "69d5c186",
   "metadata": {
    "colab": {
     "base_uri": "https://localhost:8080/"
    },
    "id": "69d5c186",
    "outputId": "3a86110d-86c1-4201-961b-81b7adf62d56"
   },
   "outputs": [
    {
     "data": {
      "text/plain": [
       "2.0510922379377826e-14"
      ]
     },
     "execution_count": 100,
     "metadata": {},
     "output_type": "execute_result"
    }
   ],
   "source": [
    "stat, p = st.bartlett(group_builders['duration_hours'], group_warriors['duration_hours'])\n",
    "p"
   ]
  },
  {
   "cell_type": "markdown",
   "id": "6996688d",
   "metadata": {
    "id": "6996688d"
   },
   "source": [
    "Дисперсии не равны (p-value существенно меньше стандартного уровня 0.05), поэтому при использовании t-test укажем аргумент equal_var=False"
   ]
  },
  {
   "cell_type": "code",
   "execution_count": 101,
   "id": "1a63859a",
   "metadata": {
    "id": "1a63859a"
   },
   "outputs": [],
   "source": [
    "alpha = .05"
   ]
  },
  {
   "cell_type": "code",
   "execution_count": 102,
   "id": "92843845",
   "metadata": {
    "id": "92843845"
   },
   "outputs": [],
   "source": [
    "results = st.ttest_ind(group_builders['duration_hours'], group_warriors['duration_hours'], equal_var=False)"
   ]
  },
  {
   "cell_type": "code",
   "execution_count": 103,
   "id": "e1568664",
   "metadata": {
    "colab": {
     "base_uri": "https://localhost:8080/"
    },
    "id": "e1568664",
    "outputId": "1a5b2441-b246-49d5-def7-4aa41de01b90"
   },
   "outputs": [
    {
     "name": "stdout",
     "output_type": "stream",
     "text": [
      "p-значение:  5.628716503871697e-107\n"
     ]
    }
   ],
   "source": [
    "print('p-значение: ', results.pvalue)"
   ]
  },
  {
   "cell_type": "code",
   "execution_count": 104,
   "id": "b0aa1971",
   "metadata": {
    "colab": {
     "base_uri": "https://localhost:8080/"
    },
    "id": "b0aa1971",
    "outputId": "10ce1b98-7a72-44ce-c298-6bdbcff28681"
   },
   "outputs": [
    {
     "name": "stdout",
     "output_type": "stream",
     "text": [
      "Отвергаем нулевую гипотезу\n"
     ]
    }
   ],
   "source": [
    "if results.pvalue < alpha:\n",
    "    print(\"Отвергаем нулевую гипотезу\")\n",
    "else:\n",
    "    print(\"Не получилось отвергнуть нулевую гипотезу\") "
   ]
  },
  {
   "cell_type": "markdown",
   "id": "9b979f3b",
   "metadata": {
    "id": "9b979f3b"
   },
   "source": [
    "Таким образом, можно отвергнуть гипотезу о равенстве среднего времени завершения уровня пользователями-строителями и пользователями-воителями. Время прохождения уровня статистически различно."
   ]
  },
  {
   "cell_type": "markdown",
   "id": "dd78d6a9",
   "metadata": {
    "id": "dd78d6a9"
   },
   "source": [
    "## Формулировка гипотезы о равенстве количества построенных игровых объектов (до получения возможности завершения уровня) в зависимости от способа прохождения. Расчет статистической значимости различий."
   ]
  },
  {
   "cell_type": "markdown",
   "id": "27aad353",
   "metadata": {
    "id": "27aad353"
   },
   "source": [
    "Сформулируем гипотезу. \n",
    "- Нулевая гипотеза (H0): среднее количество построенных игровых объектов (и просмотренных рекламных роликов) пользователями-строителями и пользователями-воителями одинаково.\n",
    "- Альтернативная гипотеза (H1): пользователи-строители и пользователи-воители стоят, в среднем, статистически разное количество объектов до получения возможности завершения уровня."
   ]
  },
  {
   "cell_type": "markdown",
   "id": "4e55ff2b",
   "metadata": {
    "id": "4e55ff2b"
   },
   "source": [
    "**Необходимое напоминание**: воители автоматически завершают уровень, победив противника, а строители, при реализаии проекта, получают возможность играть далее, не завершая уровень, но имея такую возможность."
   ]
  },
  {
   "cell_type": "code",
   "execution_count": 105,
   "id": "37e3d6d8",
   "metadata": {
    "id": "37e3d6d8"
   },
   "outputs": [],
   "source": [
    "# получим список user_id и количество построенных ими объектов\n",
    "warriors_buildings_count = game_actions_df.query('user_id in @warrior_users_set and event == \"building\"') \\\n",
    "                                            .groupby('user_id', as_index=False) \\\n",
    "                                            .agg(buildings_count=('event', 'count'))"
   ]
  },
  {
   "cell_type": "code",
   "execution_count": 106,
   "id": "4eec100c",
   "metadata": {
    "id": "4eec100c"
   },
   "outputs": [],
   "source": [
    "project_finished_dates = game_actions_df.query('user_id in @builder_users_set and event == \"project\"')[['user_id', 'event_datetime_full']]"
   ]
  },
  {
   "cell_type": "code",
   "execution_count": 107,
   "id": "6e451b0b",
   "metadata": {
    "id": "6e451b0b"
   },
   "outputs": [],
   "source": [
    "project_finished_dates.columns = ['user_id', 'project_finished_date']"
   ]
  },
  {
   "cell_type": "code",
   "execution_count": 108,
   "id": "794a30a7",
   "metadata": {
    "id": "794a30a7"
   },
   "outputs": [],
   "source": [
    "builders_buildings_count = game_actions_df.query('user_id in @builder_users_set')"
   ]
  },
  {
   "cell_type": "code",
   "execution_count": 109,
   "id": "c3ca1da9",
   "metadata": {
    "colab": {
     "base_uri": "https://localhost:8080/",
     "height": 206
    },
    "id": "c3ca1da9",
    "outputId": "dab6e795-00d3-412e-cdc4-be5aa2f22e41"
   },
   "outputs": [
    {
     "data": {
      "text/html": [
       "<div>\n",
       "<style scoped>\n",
       "    .dataframe tbody tr th:only-of-type {\n",
       "        vertical-align: middle;\n",
       "    }\n",
       "\n",
       "    .dataframe tbody tr th {\n",
       "        vertical-align: top;\n",
       "    }\n",
       "\n",
       "    .dataframe thead th {\n",
       "        text-align: right;\n",
       "    }\n",
       "</style>\n",
       "<table border=\"1\" class=\"dataframe\">\n",
       "  <thead>\n",
       "    <tr style=\"text-align: right;\">\n",
       "      <th></th>\n",
       "      <th>event_datetime</th>\n",
       "      <th>event</th>\n",
       "      <th>building_type</th>\n",
       "      <th>user_id</th>\n",
       "      <th>project_type</th>\n",
       "      <th>event_datetime_full</th>\n",
       "    </tr>\n",
       "  </thead>\n",
       "  <tbody>\n",
       "    <tr>\n",
       "      <th>1</th>\n",
       "      <td>2020-05-04</td>\n",
       "      <td>building</td>\n",
       "      <td>assembly_shop</td>\n",
       "      <td>c07b1c10-f477-44dc-81dc-ec82254b1347</td>\n",
       "      <td>None</td>\n",
       "      <td>2020-05-04 00:00:03</td>\n",
       "    </tr>\n",
       "    <tr>\n",
       "      <th>8</th>\n",
       "      <td>2020-05-04</td>\n",
       "      <td>building</td>\n",
       "      <td>assembly_shop</td>\n",
       "      <td>65a92713-5969-48b1-8945-bfefa5063887</td>\n",
       "      <td>None</td>\n",
       "      <td>2020-05-04 00:00:44</td>\n",
       "    </tr>\n",
       "    <tr>\n",
       "      <th>9</th>\n",
       "      <td>2020-05-04</td>\n",
       "      <td>building</td>\n",
       "      <td>assembly_shop</td>\n",
       "      <td>fa352362-d258-472c-b295-2796ccc39fa3</td>\n",
       "      <td>None</td>\n",
       "      <td>2020-05-04 00:01:33</td>\n",
       "    </tr>\n",
       "    <tr>\n",
       "      <th>13</th>\n",
       "      <td>2020-05-04</td>\n",
       "      <td>building</td>\n",
       "      <td>assembly_shop</td>\n",
       "      <td>7b3b6554-7949-4065-9808-d6c79bdc2f58</td>\n",
       "      <td>None</td>\n",
       "      <td>2020-05-04 00:02:56</td>\n",
       "    </tr>\n",
       "    <tr>\n",
       "      <th>20</th>\n",
       "      <td>2020-05-04</td>\n",
       "      <td>building</td>\n",
       "      <td>assembly_shop</td>\n",
       "      <td>b374304d-2f74-4cc1-a4e2-500da44a06c7</td>\n",
       "      <td>None</td>\n",
       "      <td>2020-05-04 00:03:46</td>\n",
       "    </tr>\n",
       "  </tbody>\n",
       "</table>\n",
       "</div>"
      ],
      "text/plain": [
       "   event_datetime     event  building_type  \\\n",
       "1      2020-05-04  building  assembly_shop   \n",
       "8      2020-05-04  building  assembly_shop   \n",
       "9      2020-05-04  building  assembly_shop   \n",
       "13     2020-05-04  building  assembly_shop   \n",
       "20     2020-05-04  building  assembly_shop   \n",
       "\n",
       "                                 user_id project_type  event_datetime_full  \n",
       "1   c07b1c10-f477-44dc-81dc-ec82254b1347         None  2020-05-04 00:00:03  \n",
       "8   65a92713-5969-48b1-8945-bfefa5063887         None  2020-05-04 00:00:44  \n",
       "9   fa352362-d258-472c-b295-2796ccc39fa3         None  2020-05-04 00:01:33  \n",
       "13  7b3b6554-7949-4065-9808-d6c79bdc2f58         None  2020-05-04 00:02:56  \n",
       "20  b374304d-2f74-4cc1-a4e2-500da44a06c7         None  2020-05-04 00:03:46  "
      ]
     },
     "execution_count": 109,
     "metadata": {},
     "output_type": "execute_result"
    }
   ],
   "source": [
    "builders_buildings_count.head()"
   ]
  },
  {
   "cell_type": "code",
   "execution_count": 110,
   "id": "60ddc5bb",
   "metadata": {
    "id": "60ddc5bb"
   },
   "outputs": [],
   "source": [
    "builders_buildings_count = builders_buildings_count.merge(project_finished_dates, how='left', on='user_id')"
   ]
  },
  {
   "cell_type": "code",
   "execution_count": 111,
   "id": "cb286994",
   "metadata": {
    "id": "cb286994",
    "scrolled": false
   },
   "outputs": [],
   "source": [
    "# отфильтруем события постройки объектов по дате создания \n",
    "builders_buildings_count = builders_buildings_count.query('event_datetime_full < project_finished_date and event == \"building\"')"
   ]
  },
  {
   "cell_type": "code",
   "execution_count": 112,
   "id": "aa304748",
   "metadata": {
    "id": "aa304748"
   },
   "outputs": [],
   "source": [
    "# сгруппируем по пользователям и посчитаем количество построек\n",
    "builders_buildings_count = builders_buildings_count.groupby('user_id', as_index=False).agg(buildings_count=('event', 'count'))[['user_id', 'buildings_count']]"
   ]
  },
  {
   "cell_type": "markdown",
   "id": "aae38c0f",
   "metadata": {
    "id": "aae38c0f"
   },
   "source": [
    "Рассмотрим разницу дисперсий методом .bartlett библиотеки scipy"
   ]
  },
  {
   "cell_type": "code",
   "execution_count": 113,
   "id": "77ae3876",
   "metadata": {
    "colab": {
     "base_uri": "https://localhost:8080/"
    },
    "id": "77ae3876",
    "outputId": "b2e3e72b-36f6-4b6d-b83e-de62be4930ef"
   },
   "outputs": [
    {
     "data": {
      "text/plain": [
       "4.300102096540669e-148"
      ]
     },
     "execution_count": 113,
     "metadata": {},
     "output_type": "execute_result"
    }
   ],
   "source": [
    "stat, p = st.bartlett(warriors_buildings_count['buildings_count'], builders_buildings_count['buildings_count'])\n",
    "p"
   ]
  },
  {
   "cell_type": "markdown",
   "id": "8e8706d9",
   "metadata": {
    "id": "8e8706d9"
   },
   "source": [
    "Дисперсии не равны (p-value значительно меньше стандартного уровня 0.05), поэтому при использовании t-test укажем аргумент equal_var=False"
   ]
  },
  {
   "cell_type": "code",
   "execution_count": 114,
   "id": "1c77f404",
   "metadata": {
    "id": "1c77f404"
   },
   "outputs": [],
   "source": [
    "alpha = .05"
   ]
  },
  {
   "cell_type": "code",
   "execution_count": 115,
   "id": "5a94bc88",
   "metadata": {
    "id": "5a94bc88"
   },
   "outputs": [],
   "source": [
    "results = st.ttest_ind(warriors_buildings_count['buildings_count'], builders_buildings_count['buildings_count'], equal_var=False)"
   ]
  },
  {
   "cell_type": "code",
   "execution_count": 116,
   "id": "8206de08",
   "metadata": {
    "colab": {
     "base_uri": "https://localhost:8080/"
    },
    "id": "8206de08",
    "outputId": "e5a46335-c1b3-467a-cb50-83ff4a667e43"
   },
   "outputs": [
    {
     "name": "stdout",
     "output_type": "stream",
     "text": [
      "p-значение:  9.716484997156455e-285\n"
     ]
    }
   ],
   "source": [
    "print('p-значение: ', results.pvalue)"
   ]
  },
  {
   "cell_type": "code",
   "execution_count": 117,
   "id": "5803e986",
   "metadata": {
    "colab": {
     "base_uri": "https://localhost:8080/"
    },
    "id": "5803e986",
    "outputId": "34638b92-1e3d-4817-8cdf-fb5b319370f5"
   },
   "outputs": [
    {
     "name": "stdout",
     "output_type": "stream",
     "text": [
      "Отвергаем нулевую гипотезу\n"
     ]
    }
   ],
   "source": [
    "if results.pvalue < alpha:\n",
    "    print(\"Отвергаем нулевую гипотезу\")\n",
    "else:\n",
    "    print(\"Не получилось отвергнуть нулевую гипотезу\") "
   ]
  },
  {
   "cell_type": "markdown",
   "id": "ca1f992b",
   "metadata": {
    "id": "ca1f992b"
   },
   "source": [
    "Таким образом, можно сделать вывод, что пользователи-строители и пользователи-воители стоят, в среднем, статистически разное количество объектов до получения возможности завершения уровня."
   ]
  },
  {
   "cell_type": "code",
   "execution_count": 118,
   "id": "933e8471",
   "metadata": {
    "scrolled": false
   },
   "outputs": [
    {
     "data": {
      "image/png": "[encoded data removed]",
      "text/plain": [
       "<Figure size 1080x576 with 1 Axes>"
      ]
     },
     "metadata": {},
     "output_type": "display_data"
    }
   ],
   "source": [
    "# графическое отражение количества построек\n",
    "plt.figure(figsize=(15, 8))\n",
    "\n",
    "plot = plt.hist(warriors_buildings_count['buildings_count'], bins=10, histtype='step', linewidth=3, color='yellow', label='warriors')\n",
    "plot = plt.hist(builders_buildings_count['buildings_count'], bins=10, histtype='step', linewidth=6, color='blue', label='builders')\n",
    "plt.grid()\n",
    "plt.legend()\n",
    "\n",
    "plt.title('Распределение количества построек пользователями воителями и строителями')\n",
    "plt.xlabel('Количество построек на 1 игрока-строителя')\n",
    "plt.ylabel('Количество игроков')\n",
    "plt.show()"
   ]
  },
  {
   "cell_type": "markdown",
   "id": "7000528f",
   "metadata": {
    "id": "7000528f"
   },
   "source": [
    "\n",
    "\n",
    "\n",
    "## Выводы. Формулирование рекомендаций"
   ]
  },
  {
   "cell_type": "markdown",
   "id": "XIZHxj7qcLUp",
   "metadata": {
    "id": "XIZHxj7qcLUp"
   },
   "source": [
    "В настоящем проекте выполнен анализ логов и таблиц о рекламных каналах мобильной игры Cosmic Brothers.\n",
    "\n",
    "Выполнена предобработка данных и исследовательский аналзы, который позволил сделать следующие выводы:\n",
    "\n",
    "- Между когортами наблюдается снижение целеустремленности, котоое также объясняется существенным снижением закупки между когортами (количество игроков в когорте от 04 мая на порядок превышает количество от 10 мая). 45-50% игроков, привлеченных 04 мая, завершают уровень 1, в то время, как процент таких игроков от 10 мая не превышает 35%.\n",
    "\n",
    "- Анализ показывает, что пользователи-воители, в среднем, проходят уровень на 2 дня быстрее, чем пользователи-строители, и проверка гипотезы о равенстве продолжительности прохождения, показала, что это так - различия статистически значимы.\n",
    "\n",
    "- Пользователи всех когорот (с учетом игнорирования от канала привлечения), в среднем, с одинаковой интенсивностью возводят построки.\n",
    "\n",
    "- Стоимость привлечения, в целом, по когортам не меняется. Самые дешевые источника трафика - youtube и yandex, а самый дорогой - facebook.\n",
    "\n",
    "- Значение LTV показывает, что LTV пользователей каналов youtube и yandex выше, чем у других каналов. Однако заметна разница LTV для разных когорт: для когорты от 04.05 он для всех положительный, а для когорты от 10.05 он для всех источников привлечения отрицательный.\n",
    "\n",
    "\n",
    "**Рекомендации**\n",
    "\n",
    "\n",
    "1. Целесообразно увеличить трафик youtube и yandex, так как LTV пользователей этих каналов привлечения самые высокие (преимущественно, из-за низкой стоимости).\n",
    "\n",
    "2. Целесообразно увеличить процент пользователей, проходящих уровень 1, так как за период наблюдений выявлено, что его проходит 42.8%. Возможно, имеет смысл пересмотреть сложность уровня.\n",
    "\n",
    "3. Целесообразно рассмотреть возможность изменения стратегии прохождения уровня посредством победы над противником, например, добавив возможность строительства объекта защиты (стена, дот) или объекта нападения (силовые модули, источники генерации ресурсов и энергии) - это позволит:\n",
    "\t- показывать пользователям-воителям дополнительные рекламные ролики;\n",
    "\t- может сократить разницу в количестве построенных объектов между строителями и воителями;\n",
    "У данного решения есть минус - возможное увеличение продолжительности прохождения уровня, что может сократить процент пользователей, которые завершат его.\n"
   ]
  }
 ],
 "metadata": {
  "ExecuteTimeLog": [
   {
    "duration": 1341,
    "start_time": "2022-08-04T18:33:52.791Z"
   },
   {
    "duration": 3,
    "start_time": "2022-08-04T18:33:54.134Z"
   },
   {
    "duration": 55,
    "start_time": "2022-08-04T18:33:54.138Z"
   },
   {
    "duration": 7430,
    "start_time": "2022-08-04T18:33:54.195Z"
   },
   {
    "duration": 4,
    "start_time": "2022-08-04T18:34:01.627Z"
   },
   {
    "duration": 32,
    "start_time": "2022-08-04T18:34:01.632Z"
   },
   {
    "duration": 36,
    "start_time": "2022-08-04T18:34:01.666Z"
   },
   {
    "duration": 27,
    "start_time": "2022-08-04T18:34:01.704Z"
   },
   {
    "duration": 14,
    "start_time": "2022-08-04T18:34:01.733Z"
   },
   {
    "duration": 41,
    "start_time": "2022-08-04T18:34:01.750Z"
   },
   {
    "duration": 44,
    "start_time": "2022-08-04T18:34:01.793Z"
   },
   {
    "duration": 20,
    "start_time": "2022-08-04T18:34:01.840Z"
   },
   {
    "duration": 46,
    "start_time": "2022-08-04T18:34:01.862Z"
   },
   {
    "duration": 50,
    "start_time": "2022-08-04T18:34:01.910Z"
   },
   {
    "duration": 61,
    "start_time": "2022-08-04T18:34:01.962Z"
   },
   {
    "duration": 107,
    "start_time": "2022-08-04T18:34:02.026Z"
   },
   {
    "duration": 11,
    "start_time": "2022-08-04T18:34:02.135Z"
   },
   {
    "duration": 16,
    "start_time": "2022-08-04T18:34:02.148Z"
   },
   {
    "duration": 28,
    "start_time": "2022-08-04T18:34:02.165Z"
   },
   {
    "duration": 30,
    "start_time": "2022-08-04T18:34:02.195Z"
   },
   {
    "duration": 26,
    "start_time": "2022-08-04T18:34:02.227Z"
   },
   {
    "duration": 12,
    "start_time": "2022-08-04T18:34:02.255Z"
   },
   {
    "duration": 25,
    "start_time": "2022-08-04T18:34:02.269Z"
   },
   {
    "duration": 253,
    "start_time": "2022-08-04T18:34:02.295Z"
   },
   {
    "duration": 100,
    "start_time": "2022-08-04T18:34:02.549Z"
   },
   {
    "duration": 47,
    "start_time": "2022-08-04T18:34:02.650Z"
   },
   {
    "duration": 42,
    "start_time": "2022-08-04T18:34:02.699Z"
   },
   {
    "duration": 12,
    "start_time": "2022-08-04T18:34:02.745Z"
   },
   {
    "duration": 60,
    "start_time": "2022-08-04T18:34:02.758Z"
   },
   {
    "duration": 12,
    "start_time": "2022-08-04T18:34:02.820Z"
   },
   {
    "duration": 11,
    "start_time": "2022-08-04T18:34:02.834Z"
   },
   {
    "duration": 38,
    "start_time": "2022-08-04T18:34:02.847Z"
   },
   {
    "duration": 44,
    "start_time": "2022-08-04T18:34:02.888Z"
   },
   {
    "duration": 15,
    "start_time": "2022-08-04T18:34:02.934Z"
   },
   {
    "duration": 95,
    "start_time": "2022-08-04T18:34:02.951Z"
   },
   {
    "duration": 49,
    "start_time": "2022-08-04T18:34:03.048Z"
   },
   {
    "duration": 13,
    "start_time": "2022-08-04T18:34:03.099Z"
   },
   {
    "duration": 174,
    "start_time": "2022-08-04T18:34:03.113Z"
   },
   {
    "duration": 2,
    "start_time": "2022-08-04T18:34:03.291Z"
   },
   {
    "duration": 18,
    "start_time": "2022-08-04T18:34:03.295Z"
   },
   {
    "duration": 42,
    "start_time": "2022-08-04T18:34:03.315Z"
   },
   {
    "duration": 11,
    "start_time": "2022-08-04T18:34:03.359Z"
   },
   {
    "duration": 30,
    "start_time": "2022-08-04T18:34:03.372Z"
   },
   {
    "duration": 8,
    "start_time": "2022-08-04T18:34:03.404Z"
   },
   {
    "duration": 9,
    "start_time": "2022-08-04T18:34:03.414Z"
   },
   {
    "duration": 15,
    "start_time": "2022-08-04T18:34:03.424Z"
   },
   {
    "duration": 17,
    "start_time": "2022-08-04T18:34:03.440Z"
   },
   {
    "duration": 15,
    "start_time": "2022-08-04T18:34:03.459Z"
   },
   {
    "duration": 16,
    "start_time": "2022-08-04T18:34:03.476Z"
   },
   {
    "duration": 13,
    "start_time": "2022-08-04T18:34:03.494Z"
   },
   {
    "duration": 9,
    "start_time": "2022-08-04T18:34:03.508Z"
   },
   {
    "duration": 16,
    "start_time": "2022-08-04T18:34:03.519Z"
   },
   {
    "duration": 38,
    "start_time": "2022-08-04T18:34:03.536Z"
   },
   {
    "duration": 13,
    "start_time": "2022-08-04T18:34:03.591Z"
   },
   {
    "duration": 17,
    "start_time": "2022-08-04T18:34:03.607Z"
   },
   {
    "duration": 26,
    "start_time": "2022-08-04T18:34:03.626Z"
   },
   {
    "duration": 4,
    "start_time": "2022-08-04T18:34:03.654Z"
   },
   {
    "duration": 101,
    "start_time": "2022-08-04T18:34:03.660Z"
   },
   {
    "duration": 9,
    "start_time": "2022-08-04T18:34:03.763Z"
   },
   {
    "duration": 21,
    "start_time": "2022-08-04T18:34:03.774Z"
   },
   {
    "duration": 15,
    "start_time": "2022-08-04T18:34:03.797Z"
   },
   {
    "duration": 22,
    "start_time": "2022-08-04T18:34:03.814Z"
   },
   {
    "duration": 359,
    "start_time": "2022-08-04T18:34:03.838Z"
   },
   {
    "duration": 12,
    "start_time": "2022-08-04T18:34:04.199Z"
   },
   {
    "duration": 47,
    "start_time": "2022-08-04T18:34:04.213Z"
   },
   {
    "duration": 4,
    "start_time": "2022-08-04T18:34:04.262Z"
   },
   {
    "duration": 41,
    "start_time": "2022-08-04T18:34:04.268Z"
   },
   {
    "duration": 26,
    "start_time": "2022-08-04T18:34:04.311Z"
   },
   {
    "duration": 5,
    "start_time": "2022-08-04T18:34:04.339Z"
   },
   {
    "duration": 12,
    "start_time": "2022-08-04T18:34:04.347Z"
   },
   {
    "duration": 31,
    "start_time": "2022-08-04T18:34:04.361Z"
   },
   {
    "duration": 15,
    "start_time": "2022-08-04T18:34:04.394Z"
   },
   {
    "duration": 19,
    "start_time": "2022-08-04T18:34:04.411Z"
   },
   {
    "duration": 288,
    "start_time": "2022-08-04T18:34:04.432Z"
   },
   {
    "duration": 3,
    "start_time": "2022-08-04T18:34:04.722Z"
   },
   {
    "duration": 13,
    "start_time": "2022-08-04T18:34:04.726Z"
   },
   {
    "duration": 14,
    "start_time": "2022-08-04T18:34:04.741Z"
   },
   {
    "duration": 12,
    "start_time": "2022-08-04T18:34:04.756Z"
   },
   {
    "duration": 25,
    "start_time": "2022-08-04T18:34:04.770Z"
   },
   {
    "duration": 15,
    "start_time": "2022-08-04T18:34:04.797Z"
   },
   {
    "duration": 9,
    "start_time": "2022-08-04T18:34:04.814Z"
   },
   {
    "duration": 14,
    "start_time": "2022-08-04T18:34:04.830Z"
   },
   {
    "duration": 457,
    "start_time": "2022-08-04T18:34:04.847Z"
   },
   {
    "duration": 7,
    "start_time": "2022-08-04T18:34:05.307Z"
   },
   {
    "duration": 0,
    "start_time": "2022-08-04T18:34:05.316Z"
   },
   {
    "duration": 0,
    "start_time": "2022-08-04T18:34:05.318Z"
   },
   {
    "duration": 0,
    "start_time": "2022-08-04T18:34:05.319Z"
   },
   {
    "duration": 0,
    "start_time": "2022-08-04T18:34:05.321Z"
   },
   {
    "duration": 0,
    "start_time": "2022-08-04T18:34:05.323Z"
   },
   {
    "duration": 0,
    "start_time": "2022-08-04T18:34:05.324Z"
   },
   {
    "duration": 0,
    "start_time": "2022-08-04T18:34:05.326Z"
   },
   {
    "duration": 0,
    "start_time": "2022-08-04T18:34:05.328Z"
   },
   {
    "duration": 0,
    "start_time": "2022-08-04T18:34:05.330Z"
   },
   {
    "duration": 0,
    "start_time": "2022-08-04T18:34:05.333Z"
   },
   {
    "duration": 0,
    "start_time": "2022-08-04T18:34:05.335Z"
   },
   {
    "duration": 0,
    "start_time": "2022-08-04T18:34:05.337Z"
   },
   {
    "duration": 0,
    "start_time": "2022-08-04T18:34:05.338Z"
   },
   {
    "duration": 0,
    "start_time": "2022-08-04T18:34:05.340Z"
   },
   {
    "duration": 0,
    "start_time": "2022-08-04T18:34:05.342Z"
   },
   {
    "duration": 0,
    "start_time": "2022-08-04T18:34:05.392Z"
   },
   {
    "duration": 0,
    "start_time": "2022-08-04T18:34:05.394Z"
   },
   {
    "duration": 0,
    "start_time": "2022-08-04T18:34:05.395Z"
   },
   {
    "duration": 0,
    "start_time": "2022-08-04T18:34:05.396Z"
   },
   {
    "duration": 0,
    "start_time": "2022-08-04T18:34:05.397Z"
   },
   {
    "duration": 0,
    "start_time": "2022-08-04T18:34:05.399Z"
   },
   {
    "duration": 0,
    "start_time": "2022-08-04T18:34:05.400Z"
   },
   {
    "duration": 0,
    "start_time": "2022-08-04T18:34:05.401Z"
   },
   {
    "duration": 0,
    "start_time": "2022-08-04T18:34:05.403Z"
   },
   {
    "duration": 0,
    "start_time": "2022-08-04T18:34:05.403Z"
   },
   {
    "duration": 0,
    "start_time": "2022-08-04T18:34:05.404Z"
   },
   {
    "duration": 0,
    "start_time": "2022-08-04T18:34:05.406Z"
   },
   {
    "duration": 0,
    "start_time": "2022-08-04T18:34:05.407Z"
   },
   {
    "duration": 0,
    "start_time": "2022-08-04T18:34:05.408Z"
   },
   {
    "duration": 0,
    "start_time": "2022-08-04T18:34:05.409Z"
   },
   {
    "duration": 0,
    "start_time": "2022-08-04T18:34:05.410Z"
   },
   {
    "duration": 0,
    "start_time": "2022-08-04T18:34:05.411Z"
   },
   {
    "duration": 0,
    "start_time": "2022-08-04T18:34:05.412Z"
   },
   {
    "duration": 0,
    "start_time": "2022-08-04T18:34:05.413Z"
   },
   {
    "duration": 0,
    "start_time": "2022-08-04T18:34:05.414Z"
   },
   {
    "duration": 0,
    "start_time": "2022-08-04T18:34:05.415Z"
   },
   {
    "duration": 0,
    "start_time": "2022-08-04T18:34:05.416Z"
   },
   {
    "duration": 0,
    "start_time": "2022-08-04T18:34:05.417Z"
   },
   {
    "duration": 0,
    "start_time": "2022-08-04T18:34:05.419Z"
   },
   {
    "duration": 0,
    "start_time": "2022-08-04T18:34:05.420Z"
   },
   {
    "duration": 0,
    "start_time": "2022-08-04T18:34:05.421Z"
   },
   {
    "duration": 0,
    "start_time": "2022-08-04T18:34:05.421Z"
   },
   {
    "duration": 0,
    "start_time": "2022-08-04T18:34:05.422Z"
   },
   {
    "duration": 0,
    "start_time": "2022-08-04T18:34:05.424Z"
   },
   {
    "duration": 0,
    "start_time": "2022-08-04T18:34:05.424Z"
   },
   {
    "duration": 0,
    "start_time": "2022-08-04T18:34:05.425Z"
   },
   {
    "duration": 0,
    "start_time": "2022-08-04T18:34:05.427Z"
   },
   {
    "duration": 0,
    "start_time": "2022-08-04T18:34:05.428Z"
   },
   {
    "duration": 0,
    "start_time": "2022-08-04T18:34:05.491Z"
   },
   {
    "duration": 0,
    "start_time": "2022-08-04T18:34:05.492Z"
   },
   {
    "duration": 0,
    "start_time": "2022-08-04T18:34:05.494Z"
   },
   {
    "duration": 0,
    "start_time": "2022-08-04T18:34:05.495Z"
   },
   {
    "duration": 0,
    "start_time": "2022-08-04T18:34:05.496Z"
   },
   {
    "duration": 0,
    "start_time": "2022-08-04T18:34:05.497Z"
   },
   {
    "duration": 5,
    "start_time": "2022-08-04T18:44:52.435Z"
   },
   {
    "duration": 1482,
    "start_time": "2022-08-04T20:06:42.892Z"
   },
   {
    "duration": 4,
    "start_time": "2022-08-04T20:06:44.376Z"
   },
   {
    "duration": 16,
    "start_time": "2022-08-04T20:06:44.381Z"
   },
   {
    "duration": 6158,
    "start_time": "2022-08-04T20:06:44.399Z"
   },
   {
    "duration": 4,
    "start_time": "2022-08-04T20:06:50.559Z"
   },
   {
    "duration": 14,
    "start_time": "2022-08-04T20:06:50.565Z"
   },
   {
    "duration": 16,
    "start_time": "2022-08-04T20:06:50.581Z"
   },
   {
    "duration": 32,
    "start_time": "2022-08-04T20:06:50.598Z"
   },
   {
    "duration": 13,
    "start_time": "2022-08-04T20:06:50.632Z"
   },
   {
    "duration": 40,
    "start_time": "2022-08-04T20:06:50.648Z"
   },
   {
    "duration": 41,
    "start_time": "2022-08-04T20:06:50.690Z"
   },
   {
    "duration": 17,
    "start_time": "2022-08-04T20:06:50.733Z"
   },
   {
    "duration": 27,
    "start_time": "2022-08-04T20:06:50.752Z"
   },
   {
    "duration": 32,
    "start_time": "2022-08-04T20:06:50.780Z"
   },
   {
    "duration": 37,
    "start_time": "2022-08-04T20:06:50.814Z"
   },
   {
    "duration": 74,
    "start_time": "2022-08-04T20:06:50.853Z"
   },
   {
    "duration": 12,
    "start_time": "2022-08-04T20:06:50.929Z"
   },
   {
    "duration": 26,
    "start_time": "2022-08-04T20:06:50.942Z"
   },
   {
    "duration": 19,
    "start_time": "2022-08-04T20:06:50.970Z"
   },
   {
    "duration": 31,
    "start_time": "2022-08-04T20:06:50.991Z"
   },
   {
    "duration": 27,
    "start_time": "2022-08-04T20:06:51.024Z"
   },
   {
    "duration": 18,
    "start_time": "2022-08-04T20:06:51.054Z"
   },
   {
    "duration": 50,
    "start_time": "2022-08-04T20:06:51.075Z"
   },
   {
    "duration": 211,
    "start_time": "2022-08-04T20:06:51.127Z"
   },
   {
    "duration": 104,
    "start_time": "2022-08-04T20:06:51.340Z"
   },
   {
    "duration": 40,
    "start_time": "2022-08-04T20:06:51.445Z"
   },
   {
    "duration": 56,
    "start_time": "2022-08-04T20:06:51.487Z"
   },
   {
    "duration": 4,
    "start_time": "2022-08-04T20:06:51.547Z"
   },
   {
    "duration": 18,
    "start_time": "2022-08-04T20:06:51.553Z"
   },
   {
    "duration": 52,
    "start_time": "2022-08-04T20:06:51.572Z"
   },
   {
    "duration": 10,
    "start_time": "2022-08-04T20:06:51.626Z"
   },
   {
    "duration": 19,
    "start_time": "2022-08-04T20:06:51.638Z"
   },
   {
    "duration": 25,
    "start_time": "2022-08-04T20:06:51.659Z"
   },
   {
    "duration": 36,
    "start_time": "2022-08-04T20:06:51.686Z"
   },
   {
    "duration": 15,
    "start_time": "2022-08-04T20:06:51.723Z"
   },
   {
    "duration": 87,
    "start_time": "2022-08-04T20:06:51.740Z"
   },
   {
    "duration": 42,
    "start_time": "2022-08-04T20:06:51.829Z"
   },
   {
    "duration": 10,
    "start_time": "2022-08-04T20:06:51.873Z"
   },
   {
    "duration": 203,
    "start_time": "2022-08-04T20:06:51.909Z"
   },
   {
    "duration": 2,
    "start_time": "2022-08-04T20:06:52.116Z"
   },
   {
    "duration": 30,
    "start_time": "2022-08-04T20:06:52.120Z"
   },
   {
    "duration": 41,
    "start_time": "2022-08-04T20:06:52.151Z"
   },
   {
    "duration": 25,
    "start_time": "2022-08-04T20:06:52.194Z"
   },
   {
    "duration": 29,
    "start_time": "2022-08-04T20:06:52.221Z"
   },
   {
    "duration": 31,
    "start_time": "2022-08-04T20:06:52.252Z"
   },
   {
    "duration": 19,
    "start_time": "2022-08-04T20:06:52.286Z"
   },
   {
    "duration": 33,
    "start_time": "2022-08-04T20:06:52.310Z"
   },
   {
    "duration": 35,
    "start_time": "2022-08-04T20:06:52.345Z"
   },
   {
    "duration": 39,
    "start_time": "2022-08-04T20:06:52.382Z"
   },
   {
    "duration": 24,
    "start_time": "2022-08-04T20:06:52.423Z"
   },
   {
    "duration": 23,
    "start_time": "2022-08-04T20:06:52.449Z"
   },
   {
    "duration": 26,
    "start_time": "2022-08-04T20:06:52.474Z"
   },
   {
    "duration": 42,
    "start_time": "2022-08-04T20:06:52.502Z"
   },
   {
    "duration": 38,
    "start_time": "2022-08-04T20:06:52.546Z"
   },
   {
    "duration": 29,
    "start_time": "2022-08-04T20:06:52.587Z"
   },
   {
    "duration": 18,
    "start_time": "2022-08-04T20:06:52.618Z"
   },
   {
    "duration": 26,
    "start_time": "2022-08-04T20:06:52.638Z"
   },
   {
    "duration": 12,
    "start_time": "2022-08-04T20:06:52.665Z"
   },
   {
    "duration": 101,
    "start_time": "2022-08-04T20:06:52.679Z"
   },
   {
    "duration": 19,
    "start_time": "2022-08-04T20:06:52.782Z"
   },
   {
    "duration": 23,
    "start_time": "2022-08-04T20:06:52.803Z"
   },
   {
    "duration": 21,
    "start_time": "2022-08-04T20:06:52.827Z"
   },
   {
    "duration": 16,
    "start_time": "2022-08-04T20:06:52.849Z"
   },
   {
    "duration": 308,
    "start_time": "2022-08-04T20:06:52.866Z"
   },
   {
    "duration": 11,
    "start_time": "2022-08-04T20:06:53.175Z"
   },
   {
    "duration": 51,
    "start_time": "2022-08-04T20:06:53.188Z"
   },
   {
    "duration": 3,
    "start_time": "2022-08-04T20:06:53.241Z"
   },
   {
    "duration": 19,
    "start_time": "2022-08-04T20:06:53.246Z"
   },
   {
    "duration": 21,
    "start_time": "2022-08-04T20:06:53.267Z"
   },
   {
    "duration": 22,
    "start_time": "2022-08-04T20:06:53.290Z"
   },
   {
    "duration": 13,
    "start_time": "2022-08-04T20:06:53.314Z"
   },
   {
    "duration": 8,
    "start_time": "2022-08-04T20:06:53.328Z"
   },
   {
    "duration": 11,
    "start_time": "2022-08-04T20:06:53.338Z"
   },
   {
    "duration": 16,
    "start_time": "2022-08-04T20:06:53.350Z"
   },
   {
    "duration": 268,
    "start_time": "2022-08-04T20:06:53.367Z"
   },
   {
    "duration": 3,
    "start_time": "2022-08-04T20:06:53.637Z"
   },
   {
    "duration": 13,
    "start_time": "2022-08-04T20:06:53.641Z"
   },
   {
    "duration": 16,
    "start_time": "2022-08-04T20:06:53.656Z"
   },
   {
    "duration": 9,
    "start_time": "2022-08-04T20:06:53.673Z"
   },
   {
    "duration": 32,
    "start_time": "2022-08-04T20:06:53.684Z"
   },
   {
    "duration": 18,
    "start_time": "2022-08-04T20:06:53.718Z"
   },
   {
    "duration": 8,
    "start_time": "2022-08-04T20:06:53.744Z"
   },
   {
    "duration": 17,
    "start_time": "2022-08-04T20:06:53.754Z"
   },
   {
    "duration": 444,
    "start_time": "2022-08-04T20:06:53.772Z"
   },
   {
    "duration": 6,
    "start_time": "2022-08-04T20:06:54.219Z"
   },
   {
    "duration": 0,
    "start_time": "2022-08-04T20:06:54.226Z"
   },
   {
    "duration": 0,
    "start_time": "2022-08-04T20:06:54.228Z"
   },
   {
    "duration": 0,
    "start_time": "2022-08-04T20:06:54.229Z"
   },
   {
    "duration": 0,
    "start_time": "2022-08-04T20:06:54.230Z"
   },
   {
    "duration": 0,
    "start_time": "2022-08-04T20:06:54.231Z"
   },
   {
    "duration": 0,
    "start_time": "2022-08-04T20:06:54.232Z"
   },
   {
    "duration": 0,
    "start_time": "2022-08-04T20:06:54.233Z"
   },
   {
    "duration": 0,
    "start_time": "2022-08-04T20:06:54.234Z"
   },
   {
    "duration": 0,
    "start_time": "2022-08-04T20:06:54.235Z"
   },
   {
    "duration": 0,
    "start_time": "2022-08-04T20:06:54.236Z"
   },
   {
    "duration": 0,
    "start_time": "2022-08-04T20:06:54.238Z"
   },
   {
    "duration": 0,
    "start_time": "2022-08-04T20:06:54.239Z"
   },
   {
    "duration": 0,
    "start_time": "2022-08-04T20:06:54.240Z"
   },
   {
    "duration": 0,
    "start_time": "2022-08-04T20:06:54.242Z"
   },
   {
    "duration": 0,
    "start_time": "2022-08-04T20:06:54.243Z"
   },
   {
    "duration": 0,
    "start_time": "2022-08-04T20:06:54.244Z"
   },
   {
    "duration": 0,
    "start_time": "2022-08-04T20:06:54.245Z"
   },
   {
    "duration": 0,
    "start_time": "2022-08-04T20:06:54.246Z"
   },
   {
    "duration": 0,
    "start_time": "2022-08-04T20:06:54.248Z"
   },
   {
    "duration": 0,
    "start_time": "2022-08-04T20:06:54.249Z"
   },
   {
    "duration": 0,
    "start_time": "2022-08-04T20:06:54.250Z"
   },
   {
    "duration": 0,
    "start_time": "2022-08-04T20:06:54.251Z"
   },
   {
    "duration": 0,
    "start_time": "2022-08-04T20:06:54.252Z"
   },
   {
    "duration": 0,
    "start_time": "2022-08-04T20:06:54.253Z"
   },
   {
    "duration": 0,
    "start_time": "2022-08-04T20:06:54.254Z"
   },
   {
    "duration": 0,
    "start_time": "2022-08-04T20:06:54.298Z"
   },
   {
    "duration": 0,
    "start_time": "2022-08-04T20:06:54.299Z"
   },
   {
    "duration": 0,
    "start_time": "2022-08-04T20:06:54.300Z"
   },
   {
    "duration": 0,
    "start_time": "2022-08-04T20:06:54.302Z"
   },
   {
    "duration": 0,
    "start_time": "2022-08-04T20:06:54.303Z"
   },
   {
    "duration": 0,
    "start_time": "2022-08-04T20:06:54.304Z"
   },
   {
    "duration": 0,
    "start_time": "2022-08-04T20:06:54.305Z"
   },
   {
    "duration": 0,
    "start_time": "2022-08-04T20:06:54.306Z"
   },
   {
    "duration": 0,
    "start_time": "2022-08-04T20:06:54.308Z"
   },
   {
    "duration": 0,
    "start_time": "2022-08-04T20:06:54.310Z"
   },
   {
    "duration": 0,
    "start_time": "2022-08-04T20:06:54.311Z"
   },
   {
    "duration": 0,
    "start_time": "2022-08-04T20:06:54.312Z"
   },
   {
    "duration": 0,
    "start_time": "2022-08-04T20:06:54.317Z"
   },
   {
    "duration": 0,
    "start_time": "2022-08-04T20:06:54.318Z"
   },
   {
    "duration": 0,
    "start_time": "2022-08-04T20:06:54.319Z"
   },
   {
    "duration": 0,
    "start_time": "2022-08-04T20:06:54.320Z"
   },
   {
    "duration": 0,
    "start_time": "2022-08-04T20:06:54.321Z"
   },
   {
    "duration": 0,
    "start_time": "2022-08-04T20:06:54.322Z"
   },
   {
    "duration": 0,
    "start_time": "2022-08-04T20:06:54.324Z"
   },
   {
    "duration": 0,
    "start_time": "2022-08-04T20:06:54.325Z"
   },
   {
    "duration": 0,
    "start_time": "2022-08-04T20:06:54.327Z"
   },
   {
    "duration": 0,
    "start_time": "2022-08-04T20:06:54.328Z"
   },
   {
    "duration": 0,
    "start_time": "2022-08-04T20:06:54.330Z"
   },
   {
    "duration": 0,
    "start_time": "2022-08-04T20:06:54.331Z"
   },
   {
    "duration": 0,
    "start_time": "2022-08-04T20:06:54.332Z"
   },
   {
    "duration": 0,
    "start_time": "2022-08-04T20:06:54.334Z"
   },
   {
    "duration": 0,
    "start_time": "2022-08-04T20:06:54.335Z"
   },
   {
    "duration": 0,
    "start_time": "2022-08-04T20:06:54.336Z"
   },
   {
    "duration": 0,
    "start_time": "2022-08-04T20:06:54.337Z"
   },
   {
    "duration": 392,
    "start_time": "2022-08-04T20:10:56.124Z"
   },
   {
    "duration": 1180,
    "start_time": "2022-08-04T20:15:32.661Z"
   },
   {
    "duration": 6,
    "start_time": "2022-08-04T20:15:33.843Z"
   },
   {
    "duration": 10,
    "start_time": "2022-08-04T20:15:33.851Z"
   },
   {
    "duration": 13584,
    "start_time": "2022-08-04T20:15:33.863Z"
   },
   {
    "duration": 4,
    "start_time": "2022-08-04T20:15:47.449Z"
   },
   {
    "duration": 20,
    "start_time": "2022-08-04T20:15:47.454Z"
   },
   {
    "duration": 20,
    "start_time": "2022-08-04T20:15:47.476Z"
   },
   {
    "duration": 40,
    "start_time": "2022-08-04T20:15:47.497Z"
   },
   {
    "duration": 8,
    "start_time": "2022-08-04T20:15:47.538Z"
   },
   {
    "duration": 33,
    "start_time": "2022-08-04T20:15:47.549Z"
   },
   {
    "duration": 47,
    "start_time": "2022-08-04T20:15:47.585Z"
   },
   {
    "duration": 15,
    "start_time": "2022-08-04T20:15:47.634Z"
   },
   {
    "duration": 17,
    "start_time": "2022-08-04T20:15:47.651Z"
   },
   {
    "duration": 14,
    "start_time": "2022-08-04T20:15:47.670Z"
   },
   {
    "duration": 44,
    "start_time": "2022-08-04T20:15:47.686Z"
   },
   {
    "duration": 81,
    "start_time": "2022-08-04T20:15:47.732Z"
   },
   {
    "duration": 14,
    "start_time": "2022-08-04T20:15:47.814Z"
   },
   {
    "duration": 11,
    "start_time": "2022-08-04T20:15:47.831Z"
   },
   {
    "duration": 12,
    "start_time": "2022-08-04T20:15:47.844Z"
   },
   {
    "duration": 22,
    "start_time": "2022-08-04T20:15:47.857Z"
   },
   {
    "duration": 31,
    "start_time": "2022-08-04T20:15:47.881Z"
   },
   {
    "duration": 11,
    "start_time": "2022-08-04T20:15:47.925Z"
   },
   {
    "duration": 15,
    "start_time": "2022-08-04T20:15:47.937Z"
   },
   {
    "duration": 235,
    "start_time": "2022-08-04T20:15:47.954Z"
   },
   {
    "duration": 107,
    "start_time": "2022-08-04T20:15:48.191Z"
   },
   {
    "duration": 43,
    "start_time": "2022-08-04T20:15:48.308Z"
   },
   {
    "duration": 52,
    "start_time": "2022-08-04T20:15:48.353Z"
   },
   {
    "duration": 17,
    "start_time": "2022-08-04T20:15:48.411Z"
   },
   {
    "duration": 15,
    "start_time": "2022-08-04T20:15:48.430Z"
   },
   {
    "duration": 34,
    "start_time": "2022-08-04T20:15:48.447Z"
   },
   {
    "duration": 9,
    "start_time": "2022-08-04T20:15:48.484Z"
   },
   {
    "duration": 36,
    "start_time": "2022-08-04T20:15:48.495Z"
   },
   {
    "duration": 20,
    "start_time": "2022-08-04T20:15:48.532Z"
   },
   {
    "duration": 23,
    "start_time": "2022-08-04T20:15:48.553Z"
   },
   {
    "duration": 6,
    "start_time": "2022-08-04T20:15:48.578Z"
   },
   {
    "duration": 86,
    "start_time": "2022-08-04T20:15:48.586Z"
   },
   {
    "duration": 56,
    "start_time": "2022-08-04T20:15:48.673Z"
   },
   {
    "duration": 10,
    "start_time": "2022-08-04T20:15:48.731Z"
   },
   {
    "duration": 188,
    "start_time": "2022-08-04T20:15:48.743Z"
   },
   {
    "duration": 3,
    "start_time": "2022-08-04T20:15:48.933Z"
   },
   {
    "duration": 12,
    "start_time": "2022-08-04T20:15:48.938Z"
   },
   {
    "duration": 33,
    "start_time": "2022-08-04T20:15:48.951Z"
   },
   {
    "duration": 18,
    "start_time": "2022-08-04T20:15:48.986Z"
   },
   {
    "duration": 39,
    "start_time": "2022-08-04T20:15:49.005Z"
   },
   {
    "duration": 8,
    "start_time": "2022-08-04T20:15:49.045Z"
   },
   {
    "duration": 9,
    "start_time": "2022-08-04T20:15:49.054Z"
   },
   {
    "duration": 20,
    "start_time": "2022-08-04T20:15:49.065Z"
   },
   {
    "duration": 10,
    "start_time": "2022-08-04T20:15:49.087Z"
   },
   {
    "duration": 26,
    "start_time": "2022-08-04T20:15:49.109Z"
   },
   {
    "duration": 6,
    "start_time": "2022-08-04T20:15:49.138Z"
   },
   {
    "duration": 12,
    "start_time": "2022-08-04T20:15:49.145Z"
   },
   {
    "duration": 4,
    "start_time": "2022-08-04T20:15:49.158Z"
   },
   {
    "duration": 15,
    "start_time": "2022-08-04T20:15:49.163Z"
   },
   {
    "duration": 44,
    "start_time": "2022-08-04T20:15:49.180Z"
   },
   {
    "duration": 13,
    "start_time": "2022-08-04T20:15:49.226Z"
   },
   {
    "duration": 5,
    "start_time": "2022-08-04T20:15:49.240Z"
   },
   {
    "duration": 24,
    "start_time": "2022-08-04T20:15:49.247Z"
   },
   {
    "duration": 5,
    "start_time": "2022-08-04T20:15:49.272Z"
   },
   {
    "duration": 96,
    "start_time": "2022-08-04T20:15:49.278Z"
   },
   {
    "duration": 9,
    "start_time": "2022-08-04T20:15:49.376Z"
   },
   {
    "duration": 12,
    "start_time": "2022-08-04T20:15:49.387Z"
   },
   {
    "duration": 27,
    "start_time": "2022-08-04T20:15:49.401Z"
   },
   {
    "duration": 17,
    "start_time": "2022-08-04T20:15:49.430Z"
   },
   {
    "duration": 329,
    "start_time": "2022-08-04T20:15:49.449Z"
   },
   {
    "duration": 12,
    "start_time": "2022-08-04T20:15:49.779Z"
   },
   {
    "duration": 58,
    "start_time": "2022-08-04T20:15:49.792Z"
   },
   {
    "duration": 3,
    "start_time": "2022-08-04T20:15:49.852Z"
   },
   {
    "duration": 14,
    "start_time": "2022-08-04T20:15:49.856Z"
   },
   {
    "duration": 19,
    "start_time": "2022-08-04T20:15:49.872Z"
   },
   {
    "duration": 18,
    "start_time": "2022-08-04T20:15:49.892Z"
   },
   {
    "duration": 24,
    "start_time": "2022-08-04T20:15:49.912Z"
   },
   {
    "duration": 11,
    "start_time": "2022-08-04T20:15:49.937Z"
   },
   {
    "duration": 19,
    "start_time": "2022-08-04T20:15:49.949Z"
   },
   {
    "duration": 14,
    "start_time": "2022-08-04T20:15:49.969Z"
   },
   {
    "duration": 290,
    "start_time": "2022-08-04T20:15:49.985Z"
   },
   {
    "duration": 2,
    "start_time": "2022-08-04T20:15:50.277Z"
   },
   {
    "duration": 8,
    "start_time": "2022-08-04T20:15:50.281Z"
   },
   {
    "duration": 24,
    "start_time": "2022-08-04T20:15:50.291Z"
   },
   {
    "duration": 23,
    "start_time": "2022-08-04T20:15:50.316Z"
   },
   {
    "duration": 7,
    "start_time": "2022-08-04T20:15:50.340Z"
   },
   {
    "duration": 21,
    "start_time": "2022-08-04T20:15:50.348Z"
   },
   {
    "duration": 10,
    "start_time": "2022-08-04T20:15:50.375Z"
   },
   {
    "duration": 40,
    "start_time": "2022-08-04T20:15:50.386Z"
   },
   {
    "duration": 388,
    "start_time": "2022-08-04T20:15:50.428Z"
   },
   {
    "duration": 395,
    "start_time": "2022-08-04T20:15:50.817Z"
   },
   {
    "duration": 24,
    "start_time": "2022-08-04T20:15:51.213Z"
   },
   {
    "duration": 34,
    "start_time": "2022-08-04T20:15:51.238Z"
   },
   {
    "duration": 20,
    "start_time": "2022-08-04T20:15:51.274Z"
   },
   {
    "duration": 55,
    "start_time": "2022-08-04T20:15:51.296Z"
   },
   {
    "duration": 89,
    "start_time": "2022-08-04T20:15:51.352Z"
   },
   {
    "duration": 4,
    "start_time": "2022-08-04T20:15:51.443Z"
   },
   {
    "duration": 26,
    "start_time": "2022-08-04T20:15:51.449Z"
   },
   {
    "duration": 501,
    "start_time": "2022-08-04T20:15:51.477Z"
   },
   {
    "duration": 21,
    "start_time": "2022-08-04T20:15:51.979Z"
   },
   {
    "duration": 318,
    "start_time": "2022-08-04T20:15:52.002Z"
   },
   {
    "duration": 3,
    "start_time": "2022-08-04T20:15:52.329Z"
   },
   {
    "duration": 78,
    "start_time": "2022-08-04T20:15:52.334Z"
   },
   {
    "duration": 10,
    "start_time": "2022-08-04T20:15:52.425Z"
   },
   {
    "duration": 4,
    "start_time": "2022-08-04T20:15:52.437Z"
   },
   {
    "duration": 18,
    "start_time": "2022-08-04T20:15:52.442Z"
   },
   {
    "duration": 10,
    "start_time": "2022-08-04T20:15:52.461Z"
   },
   {
    "duration": 281,
    "start_time": "2022-08-04T20:15:52.472Z"
   },
   {
    "duration": 158,
    "start_time": "2022-08-04T20:15:52.754Z"
   },
   {
    "duration": 10,
    "start_time": "2022-08-04T20:15:52.914Z"
   },
   {
    "duration": 47,
    "start_time": "2022-08-04T20:15:52.926Z"
   },
   {
    "duration": 45,
    "start_time": "2022-08-04T20:15:52.975Z"
   },
   {
    "duration": 15,
    "start_time": "2022-08-04T20:15:53.022Z"
   },
   {
    "duration": 12,
    "start_time": "2022-08-04T20:15:53.039Z"
   },
   {
    "duration": 22,
    "start_time": "2022-08-04T20:15:53.053Z"
   },
   {
    "duration": 64,
    "start_time": "2022-08-04T20:15:53.076Z"
   },
   {
    "duration": 12,
    "start_time": "2022-08-04T20:15:53.141Z"
   },
   {
    "duration": 13,
    "start_time": "2022-08-04T20:15:53.155Z"
   },
   {
    "duration": 26,
    "start_time": "2022-08-04T20:15:53.170Z"
   },
   {
    "duration": 49,
    "start_time": "2022-08-04T20:15:53.201Z"
   },
   {
    "duration": 18,
    "start_time": "2022-08-04T20:15:53.252Z"
   },
   {
    "duration": 9,
    "start_time": "2022-08-04T20:15:53.272Z"
   },
   {
    "duration": 7,
    "start_time": "2022-08-04T20:15:53.282Z"
   },
   {
    "duration": 6,
    "start_time": "2022-08-04T20:15:53.290Z"
   },
   {
    "duration": 38,
    "start_time": "2022-08-04T20:15:53.298Z"
   },
   {
    "duration": 18,
    "start_time": "2022-08-04T20:15:53.337Z"
   },
   {
    "duration": 52,
    "start_time": "2022-08-04T20:15:53.356Z"
   },
   {
    "duration": 16,
    "start_time": "2022-08-04T20:15:53.409Z"
   },
   {
    "duration": 29,
    "start_time": "2022-08-04T20:15:53.426Z"
   },
   {
    "duration": 4,
    "start_time": "2022-08-04T20:15:53.457Z"
   },
   {
    "duration": 15,
    "start_time": "2022-08-04T20:15:53.463Z"
   },
   {
    "duration": 36,
    "start_time": "2022-08-04T20:15:53.480Z"
   },
   {
    "duration": 10,
    "start_time": "2022-08-04T20:15:53.521Z"
   },
   {
    "duration": 16,
    "start_time": "2022-08-04T20:15:53.533Z"
   },
   {
    "duration": 12,
    "start_time": "2022-08-04T20:15:53.552Z"
   },
   {
    "duration": 26,
    "start_time": "2022-08-04T20:15:53.566Z"
   },
   {
    "duration": 30,
    "start_time": "2022-08-04T20:15:53.594Z"
   },
   {
    "duration": 15,
    "start_time": "2022-08-04T20:15:53.626Z"
   },
   {
    "duration": 14,
    "start_time": "2022-08-04T20:15:53.642Z"
   },
   {
    "duration": 6,
    "start_time": "2022-08-04T20:15:53.657Z"
   },
   {
    "duration": 8,
    "start_time": "2022-08-04T20:15:53.664Z"
   },
   {
    "duration": 6,
    "start_time": "2022-08-04T20:15:53.673Z"
   },
   {
    "duration": 6,
    "start_time": "2022-08-04T20:15:53.680Z"
   },
   {
    "duration": 208,
    "start_time": "2022-08-04T20:15:53.688Z"
   },
   {
    "duration": 231,
    "start_time": "2022-08-04T20:15:53.902Z"
   },
   {
    "duration": 1182,
    "start_time": "2022-08-04T20:21:19.152Z"
   },
   {
    "duration": 4,
    "start_time": "2022-08-04T20:21:20.336Z"
   },
   {
    "duration": 7,
    "start_time": "2022-08-04T20:21:20.342Z"
   },
   {
    "duration": 5344,
    "start_time": "2022-08-04T20:21:20.351Z"
   },
   {
    "duration": 24,
    "start_time": "2022-08-04T20:21:25.696Z"
   },
   {
    "duration": 27,
    "start_time": "2022-08-04T20:21:25.724Z"
   },
   {
    "duration": 8,
    "start_time": "2022-08-04T20:21:25.753Z"
   },
   {
    "duration": 6,
    "start_time": "2022-08-04T20:21:25.763Z"
   },
   {
    "duration": 42,
    "start_time": "2022-08-04T20:21:25.770Z"
   },
   {
    "duration": 43,
    "start_time": "2022-08-04T20:21:25.815Z"
   },
   {
    "duration": 18,
    "start_time": "2022-08-04T20:21:25.860Z"
   },
   {
    "duration": 18,
    "start_time": "2022-08-04T20:21:25.880Z"
   },
   {
    "duration": 32,
    "start_time": "2022-08-04T20:21:25.908Z"
   },
   {
    "duration": 37,
    "start_time": "2022-08-04T20:21:25.942Z"
   },
   {
    "duration": 87,
    "start_time": "2022-08-04T20:21:25.980Z"
   },
   {
    "duration": 11,
    "start_time": "2022-08-04T20:21:26.069Z"
   },
   {
    "duration": 11,
    "start_time": "2022-08-04T20:21:26.081Z"
   },
   {
    "duration": 26,
    "start_time": "2022-08-04T20:21:26.093Z"
   },
   {
    "duration": 33,
    "start_time": "2022-08-04T20:21:26.121Z"
   },
   {
    "duration": 20,
    "start_time": "2022-08-04T20:21:26.156Z"
   },
   {
    "duration": 7,
    "start_time": "2022-08-04T20:21:26.179Z"
   },
   {
    "duration": 32,
    "start_time": "2022-08-04T20:21:26.188Z"
   },
   {
    "duration": 240,
    "start_time": "2022-08-04T20:21:26.222Z"
   },
   {
    "duration": 99,
    "start_time": "2022-08-04T20:21:26.464Z"
   },
   {
    "duration": 44,
    "start_time": "2022-08-04T20:21:26.565Z"
   },
   {
    "duration": 55,
    "start_time": "2022-08-04T20:21:26.611Z"
   },
   {
    "duration": 4,
    "start_time": "2022-08-04T20:21:26.667Z"
   },
   {
    "duration": 34,
    "start_time": "2022-08-04T20:21:26.674Z"
   },
   {
    "duration": 43,
    "start_time": "2022-08-04T20:21:26.709Z"
   },
   {
    "duration": 10,
    "start_time": "2022-08-04T20:21:26.753Z"
   },
   {
    "duration": 11,
    "start_time": "2022-08-04T20:21:26.765Z"
   },
   {
    "duration": 32,
    "start_time": "2022-08-04T20:21:26.778Z"
   },
   {
    "duration": 43,
    "start_time": "2022-08-04T20:21:26.821Z"
   },
   {
    "duration": 5,
    "start_time": "2022-08-04T20:21:26.865Z"
   },
   {
    "duration": 98,
    "start_time": "2022-08-04T20:21:26.871Z"
   },
   {
    "duration": 42,
    "start_time": "2022-08-04T20:21:26.970Z"
   },
   {
    "duration": 14,
    "start_time": "2022-08-04T20:21:27.021Z"
   },
   {
    "duration": 153,
    "start_time": "2022-08-04T20:21:27.037Z"
   },
   {
    "duration": 3,
    "start_time": "2022-08-04T20:21:27.191Z"
   },
   {
    "duration": 25,
    "start_time": "2022-08-04T20:21:27.208Z"
   },
   {
    "duration": 37,
    "start_time": "2022-08-04T20:21:27.235Z"
   },
   {
    "duration": 10,
    "start_time": "2022-08-04T20:21:27.274Z"
   },
   {
    "duration": 38,
    "start_time": "2022-08-04T20:21:27.286Z"
   },
   {
    "duration": 15,
    "start_time": "2022-08-04T20:21:27.326Z"
   },
   {
    "duration": 6,
    "start_time": "2022-08-04T20:21:27.343Z"
   },
   {
    "duration": 9,
    "start_time": "2022-08-04T20:21:27.351Z"
   },
   {
    "duration": 14,
    "start_time": "2022-08-04T20:21:27.363Z"
   },
   {
    "duration": 11,
    "start_time": "2022-08-04T20:21:27.379Z"
   },
   {
    "duration": 9,
    "start_time": "2022-08-04T20:21:27.392Z"
   },
   {
    "duration": 24,
    "start_time": "2022-08-04T20:21:27.416Z"
   },
   {
    "duration": 6,
    "start_time": "2022-08-04T20:21:27.442Z"
   },
   {
    "duration": 13,
    "start_time": "2022-08-04T20:21:27.449Z"
   },
   {
    "duration": 48,
    "start_time": "2022-08-04T20:21:27.464Z"
   },
   {
    "duration": 15,
    "start_time": "2022-08-04T20:21:27.524Z"
   },
   {
    "duration": 6,
    "start_time": "2022-08-04T20:21:27.540Z"
   },
   {
    "duration": 24,
    "start_time": "2022-08-04T20:21:27.547Z"
   },
   {
    "duration": 4,
    "start_time": "2022-08-04T20:21:27.573Z"
   },
   {
    "duration": 91,
    "start_time": "2022-08-04T20:21:27.578Z"
   },
   {
    "duration": 8,
    "start_time": "2022-08-04T20:21:27.671Z"
   },
   {
    "duration": 7,
    "start_time": "2022-08-04T20:21:27.681Z"
   },
   {
    "duration": 31,
    "start_time": "2022-08-04T20:21:27.701Z"
   },
   {
    "duration": 21,
    "start_time": "2022-08-04T20:21:27.734Z"
   },
   {
    "duration": 367,
    "start_time": "2022-08-04T20:21:27.757Z"
   },
   {
    "duration": 16,
    "start_time": "2022-08-04T20:21:28.126Z"
   },
   {
    "duration": 52,
    "start_time": "2022-08-04T20:21:28.144Z"
   },
   {
    "duration": 12,
    "start_time": "2022-08-04T20:21:28.197Z"
   },
   {
    "duration": 21,
    "start_time": "2022-08-04T20:21:28.224Z"
   },
   {
    "duration": 24,
    "start_time": "2022-08-04T20:21:28.246Z"
   },
   {
    "duration": 3,
    "start_time": "2022-08-04T20:21:28.272Z"
   },
   {
    "duration": 6,
    "start_time": "2022-08-04T20:21:28.277Z"
   },
   {
    "duration": 12,
    "start_time": "2022-08-04T20:21:28.284Z"
   },
   {
    "duration": 40,
    "start_time": "2022-08-04T20:21:28.298Z"
   },
   {
    "duration": 14,
    "start_time": "2022-08-04T20:21:28.340Z"
   },
   {
    "duration": 274,
    "start_time": "2022-08-04T20:21:28.355Z"
   },
   {
    "duration": 3,
    "start_time": "2022-08-04T20:21:28.631Z"
   },
   {
    "duration": 9,
    "start_time": "2022-08-04T20:21:28.635Z"
   },
   {
    "duration": 18,
    "start_time": "2022-08-04T20:21:28.645Z"
   },
   {
    "duration": 11,
    "start_time": "2022-08-04T20:21:28.665Z"
   },
   {
    "duration": 7,
    "start_time": "2022-08-04T20:21:28.677Z"
   },
   {
    "duration": 25,
    "start_time": "2022-08-04T20:21:28.704Z"
   },
   {
    "duration": 17,
    "start_time": "2022-08-04T20:21:28.730Z"
   },
   {
    "duration": 13,
    "start_time": "2022-08-04T20:21:28.754Z"
   },
   {
    "duration": 394,
    "start_time": "2022-08-04T20:21:28.768Z"
   },
   {
    "duration": 411,
    "start_time": "2022-08-04T20:21:29.164Z"
   },
   {
    "duration": 12,
    "start_time": "2022-08-04T20:21:29.577Z"
   },
   {
    "duration": 47,
    "start_time": "2022-08-04T20:21:29.591Z"
   },
   {
    "duration": 16,
    "start_time": "2022-08-04T20:21:29.639Z"
   },
   {
    "duration": 22,
    "start_time": "2022-08-04T20:21:29.657Z"
   },
   {
    "duration": 82,
    "start_time": "2022-08-04T20:21:29.681Z"
   },
   {
    "duration": 4,
    "start_time": "2022-08-04T20:21:29.765Z"
   },
   {
    "duration": 20,
    "start_time": "2022-08-04T20:21:29.771Z"
   },
   {
    "duration": 452,
    "start_time": "2022-08-04T20:21:29.793Z"
   },
   {
    "duration": 13,
    "start_time": "2022-08-04T20:21:30.246Z"
   },
   {
    "duration": 373,
    "start_time": "2022-08-04T20:21:30.260Z"
   },
   {
    "duration": 3,
    "start_time": "2022-08-04T20:21:30.635Z"
   },
   {
    "duration": 91,
    "start_time": "2022-08-04T20:21:30.640Z"
   },
   {
    "duration": 9,
    "start_time": "2022-08-04T20:21:30.733Z"
   },
   {
    "duration": 18,
    "start_time": "2022-08-04T20:21:30.744Z"
   },
   {
    "duration": 52,
    "start_time": "2022-08-04T20:21:30.764Z"
   },
   {
    "duration": 32,
    "start_time": "2022-08-04T20:21:30.817Z"
   },
   {
    "duration": 301,
    "start_time": "2022-08-04T20:21:30.851Z"
   },
   {
    "duration": 138,
    "start_time": "2022-08-04T20:21:31.153Z"
   },
   {
    "duration": 14,
    "start_time": "2022-08-04T20:21:31.292Z"
   },
   {
    "duration": 86,
    "start_time": "2022-08-04T20:21:31.308Z"
   },
   {
    "duration": 51,
    "start_time": "2022-08-04T20:21:31.397Z"
   },
   {
    "duration": 24,
    "start_time": "2022-08-04T20:21:31.450Z"
   },
   {
    "duration": 15,
    "start_time": "2022-08-04T20:21:31.475Z"
   },
   {
    "duration": 49,
    "start_time": "2022-08-04T20:21:31.492Z"
   },
   {
    "duration": 50,
    "start_time": "2022-08-04T20:21:31.543Z"
   },
   {
    "duration": 54,
    "start_time": "2022-08-04T20:21:31.595Z"
   },
   {
    "duration": 18,
    "start_time": "2022-08-04T20:21:31.651Z"
   },
   {
    "duration": 23,
    "start_time": "2022-08-04T20:21:31.670Z"
   },
   {
    "duration": 37,
    "start_time": "2022-08-04T20:21:31.695Z"
   },
   {
    "duration": 6,
    "start_time": "2022-08-04T20:21:31.734Z"
   },
   {
    "duration": 12,
    "start_time": "2022-08-04T20:21:31.741Z"
   },
   {
    "duration": 7,
    "start_time": "2022-08-04T20:21:31.755Z"
   },
   {
    "duration": 6,
    "start_time": "2022-08-04T20:21:31.764Z"
   },
   {
    "duration": 10,
    "start_time": "2022-08-04T20:21:31.772Z"
   },
   {
    "duration": 21,
    "start_time": "2022-08-04T20:21:31.783Z"
   },
   {
    "duration": 58,
    "start_time": "2022-08-04T20:21:31.806Z"
   },
   {
    "duration": 8,
    "start_time": "2022-08-04T20:21:31.866Z"
   },
   {
    "duration": 41,
    "start_time": "2022-08-04T20:21:31.876Z"
   },
   {
    "duration": 5,
    "start_time": "2022-08-04T20:21:31.929Z"
   },
   {
    "duration": 12,
    "start_time": "2022-08-04T20:21:31.937Z"
   },
   {
    "duration": 22,
    "start_time": "2022-08-04T20:21:31.950Z"
   },
   {
    "duration": 12,
    "start_time": "2022-08-04T20:21:31.974Z"
   },
   {
    "duration": 60,
    "start_time": "2022-08-04T20:21:31.988Z"
   },
   {
    "duration": 22,
    "start_time": "2022-08-04T20:21:32.050Z"
   },
   {
    "duration": 30,
    "start_time": "2022-08-04T20:21:32.074Z"
   },
   {
    "duration": 19,
    "start_time": "2022-08-04T20:21:32.105Z"
   },
   {
    "duration": 20,
    "start_time": "2022-08-04T20:21:32.126Z"
   },
   {
    "duration": 11,
    "start_time": "2022-08-04T20:21:32.148Z"
   },
   {
    "duration": 4,
    "start_time": "2022-08-04T20:21:32.161Z"
   },
   {
    "duration": 18,
    "start_time": "2022-08-04T20:21:32.167Z"
   },
   {
    "duration": 9,
    "start_time": "2022-08-04T20:21:32.186Z"
   },
   {
    "duration": 41,
    "start_time": "2022-08-04T20:21:32.196Z"
   },
   {
    "duration": 195,
    "start_time": "2022-08-04T20:21:32.239Z"
   },
   {
    "duration": 204,
    "start_time": "2022-08-04T20:21:32.435Z"
   },
   {
    "duration": 1215,
    "start_time": "2022-08-04T20:22:42.880Z"
   },
   {
    "duration": 17,
    "start_time": "2022-08-04T20:22:44.097Z"
   },
   {
    "duration": 17,
    "start_time": "2022-08-04T20:22:44.121Z"
   },
   {
    "duration": 3030,
    "start_time": "2022-08-04T20:22:44.140Z"
   },
   {
    "duration": 53,
    "start_time": "2022-08-04T20:22:47.172Z"
   },
   {
    "duration": 60,
    "start_time": "2022-08-04T20:22:47.228Z"
   },
   {
    "duration": 133,
    "start_time": "2022-08-04T20:22:47.289Z"
   },
   {
    "duration": 0,
    "start_time": "2022-08-04T20:22:47.432Z"
   },
   {
    "duration": 0,
    "start_time": "2022-08-04T20:22:47.433Z"
   },
   {
    "duration": 0,
    "start_time": "2022-08-04T20:22:47.434Z"
   },
   {
    "duration": 0,
    "start_time": "2022-08-04T20:22:47.435Z"
   },
   {
    "duration": 0,
    "start_time": "2022-08-04T20:22:47.436Z"
   },
   {
    "duration": 0,
    "start_time": "2022-08-04T20:22:47.437Z"
   },
   {
    "duration": 0,
    "start_time": "2022-08-04T20:22:47.439Z"
   },
   {
    "duration": 0,
    "start_time": "2022-08-04T20:22:47.440Z"
   },
   {
    "duration": 0,
    "start_time": "2022-08-04T20:22:47.440Z"
   },
   {
    "duration": 0,
    "start_time": "2022-08-04T20:22:47.441Z"
   },
   {
    "duration": 0,
    "start_time": "2022-08-04T20:22:47.442Z"
   },
   {
    "duration": 0,
    "start_time": "2022-08-04T20:22:47.443Z"
   },
   {
    "duration": 0,
    "start_time": "2022-08-04T20:22:47.445Z"
   },
   {
    "duration": 0,
    "start_time": "2022-08-04T20:22:47.446Z"
   },
   {
    "duration": 0,
    "start_time": "2022-08-04T20:22:47.449Z"
   },
   {
    "duration": 0,
    "start_time": "2022-08-04T20:22:47.450Z"
   },
   {
    "duration": 0,
    "start_time": "2022-08-04T20:22:47.452Z"
   },
   {
    "duration": 0,
    "start_time": "2022-08-04T20:22:47.453Z"
   },
   {
    "duration": 0,
    "start_time": "2022-08-04T20:22:47.454Z"
   },
   {
    "duration": 0,
    "start_time": "2022-08-04T20:22:47.456Z"
   },
   {
    "duration": 0,
    "start_time": "2022-08-04T20:22:47.458Z"
   },
   {
    "duration": 0,
    "start_time": "2022-08-04T20:22:47.498Z"
   },
   {
    "duration": 0,
    "start_time": "2022-08-04T20:22:47.499Z"
   },
   {
    "duration": 0,
    "start_time": "2022-08-04T20:22:47.500Z"
   },
   {
    "duration": 0,
    "start_time": "2022-08-04T20:22:47.501Z"
   },
   {
    "duration": 0,
    "start_time": "2022-08-04T20:22:47.501Z"
   },
   {
    "duration": 0,
    "start_time": "2022-08-04T20:22:47.502Z"
   },
   {
    "duration": 0,
    "start_time": "2022-08-04T20:22:47.513Z"
   },
   {
    "duration": 0,
    "start_time": "2022-08-04T20:22:47.514Z"
   },
   {
    "duration": 0,
    "start_time": "2022-08-04T20:22:47.515Z"
   },
   {
    "duration": 0,
    "start_time": "2022-08-04T20:22:47.516Z"
   },
   {
    "duration": 0,
    "start_time": "2022-08-04T20:22:47.517Z"
   },
   {
    "duration": 0,
    "start_time": "2022-08-04T20:22:47.518Z"
   },
   {
    "duration": 0,
    "start_time": "2022-08-04T20:22:47.521Z"
   },
   {
    "duration": 0,
    "start_time": "2022-08-04T20:22:47.521Z"
   },
   {
    "duration": 0,
    "start_time": "2022-08-04T20:22:47.522Z"
   },
   {
    "duration": 0,
    "start_time": "2022-08-04T20:22:47.523Z"
   },
   {
    "duration": 0,
    "start_time": "2022-08-04T20:22:47.524Z"
   },
   {
    "duration": 0,
    "start_time": "2022-08-04T20:22:47.526Z"
   },
   {
    "duration": 0,
    "start_time": "2022-08-04T20:22:47.528Z"
   },
   {
    "duration": 0,
    "start_time": "2022-08-04T20:22:47.532Z"
   },
   {
    "duration": 0,
    "start_time": "2022-08-04T20:22:47.534Z"
   },
   {
    "duration": 0,
    "start_time": "2022-08-04T20:22:47.535Z"
   },
   {
    "duration": 0,
    "start_time": "2022-08-04T20:22:47.536Z"
   },
   {
    "duration": 0,
    "start_time": "2022-08-04T20:22:47.537Z"
   },
   {
    "duration": 0,
    "start_time": "2022-08-04T20:22:47.538Z"
   },
   {
    "duration": 0,
    "start_time": "2022-08-04T20:22:47.539Z"
   },
   {
    "duration": 0,
    "start_time": "2022-08-04T20:22:47.541Z"
   },
   {
    "duration": 0,
    "start_time": "2022-08-04T20:22:47.542Z"
   },
   {
    "duration": 0,
    "start_time": "2022-08-04T20:22:47.543Z"
   },
   {
    "duration": 0,
    "start_time": "2022-08-04T20:22:47.545Z"
   },
   {
    "duration": 0,
    "start_time": "2022-08-04T20:22:47.545Z"
   },
   {
    "duration": 0,
    "start_time": "2022-08-04T20:22:47.546Z"
   },
   {
    "duration": 0,
    "start_time": "2022-08-04T20:22:47.547Z"
   },
   {
    "duration": 0,
    "start_time": "2022-08-04T20:22:47.548Z"
   },
   {
    "duration": 0,
    "start_time": "2022-08-04T20:22:47.549Z"
   },
   {
    "duration": 0,
    "start_time": "2022-08-04T20:22:47.550Z"
   },
   {
    "duration": 0,
    "start_time": "2022-08-04T20:22:47.551Z"
   },
   {
    "duration": 0,
    "start_time": "2022-08-04T20:22:47.552Z"
   },
   {
    "duration": 0,
    "start_time": "2022-08-04T20:22:47.553Z"
   },
   {
    "duration": 0,
    "start_time": "2022-08-04T20:22:47.554Z"
   },
   {
    "duration": 0,
    "start_time": "2022-08-04T20:22:47.555Z"
   },
   {
    "duration": 0,
    "start_time": "2022-08-04T20:22:47.555Z"
   },
   {
    "duration": 0,
    "start_time": "2022-08-04T20:22:47.598Z"
   },
   {
    "duration": 0,
    "start_time": "2022-08-04T20:22:47.599Z"
   },
   {
    "duration": 0,
    "start_time": "2022-08-04T20:22:47.599Z"
   },
   {
    "duration": 0,
    "start_time": "2022-08-04T20:22:47.600Z"
   },
   {
    "duration": 0,
    "start_time": "2022-08-04T20:22:47.605Z"
   },
   {
    "duration": 0,
    "start_time": "2022-08-04T20:22:47.605Z"
   },
   {
    "duration": 0,
    "start_time": "2022-08-04T20:22:47.606Z"
   },
   {
    "duration": 0,
    "start_time": "2022-08-04T20:22:47.607Z"
   },
   {
    "duration": 0,
    "start_time": "2022-08-04T20:22:47.608Z"
   },
   {
    "duration": 0,
    "start_time": "2022-08-04T20:22:47.609Z"
   },
   {
    "duration": 0,
    "start_time": "2022-08-04T20:22:47.610Z"
   },
   {
    "duration": 0,
    "start_time": "2022-08-04T20:22:47.610Z"
   },
   {
    "duration": 0,
    "start_time": "2022-08-04T20:22:47.611Z"
   },
   {
    "duration": 0,
    "start_time": "2022-08-04T20:22:47.611Z"
   },
   {
    "duration": 0,
    "start_time": "2022-08-04T20:22:47.612Z"
   },
   {
    "duration": 0,
    "start_time": "2022-08-04T20:22:47.614Z"
   },
   {
    "duration": 0,
    "start_time": "2022-08-04T20:22:47.615Z"
   },
   {
    "duration": 0,
    "start_time": "2022-08-04T20:22:47.615Z"
   },
   {
    "duration": 0,
    "start_time": "2022-08-04T20:22:47.616Z"
   },
   {
    "duration": 0,
    "start_time": "2022-08-04T20:22:47.617Z"
   },
   {
    "duration": 0,
    "start_time": "2022-08-04T20:22:47.618Z"
   },
   {
    "duration": 0,
    "start_time": "2022-08-04T20:22:47.619Z"
   },
   {
    "duration": 0,
    "start_time": "2022-08-04T20:22:47.619Z"
   },
   {
    "duration": 0,
    "start_time": "2022-08-04T20:22:47.620Z"
   },
   {
    "duration": 0,
    "start_time": "2022-08-04T20:22:47.621Z"
   },
   {
    "duration": 0,
    "start_time": "2022-08-04T20:22:47.622Z"
   },
   {
    "duration": 0,
    "start_time": "2022-08-04T20:22:47.623Z"
   },
   {
    "duration": 0,
    "start_time": "2022-08-04T20:22:47.624Z"
   },
   {
    "duration": 0,
    "start_time": "2022-08-04T20:22:47.624Z"
   },
   {
    "duration": 0,
    "start_time": "2022-08-04T20:22:47.625Z"
   },
   {
    "duration": 0,
    "start_time": "2022-08-04T20:22:47.626Z"
   },
   {
    "duration": 0,
    "start_time": "2022-08-04T20:22:47.627Z"
   },
   {
    "duration": 0,
    "start_time": "2022-08-04T20:22:47.627Z"
   },
   {
    "duration": 0,
    "start_time": "2022-08-04T20:22:47.628Z"
   },
   {
    "duration": 0,
    "start_time": "2022-08-04T20:22:47.629Z"
   },
   {
    "duration": 0,
    "start_time": "2022-08-04T20:22:47.632Z"
   },
   {
    "duration": 0,
    "start_time": "2022-08-04T20:22:47.633Z"
   },
   {
    "duration": 0,
    "start_time": "2022-08-04T20:22:47.635Z"
   },
   {
    "duration": 0,
    "start_time": "2022-08-04T20:22:47.636Z"
   },
   {
    "duration": 0,
    "start_time": "2022-08-04T20:22:47.638Z"
   },
   {
    "duration": 0,
    "start_time": "2022-08-04T20:22:47.639Z"
   },
   {
    "duration": 0,
    "start_time": "2022-08-04T20:22:47.641Z"
   },
   {
    "duration": 0,
    "start_time": "2022-08-04T20:22:47.642Z"
   },
   {
    "duration": 0,
    "start_time": "2022-08-04T20:22:47.643Z"
   },
   {
    "duration": 0,
    "start_time": "2022-08-04T20:22:47.645Z"
   },
   {
    "duration": 0,
    "start_time": "2022-08-04T20:22:47.646Z"
   },
   {
    "duration": 0,
    "start_time": "2022-08-04T20:22:47.647Z"
   },
   {
    "duration": 0,
    "start_time": "2022-08-04T20:22:47.649Z"
   },
   {
    "duration": 0,
    "start_time": "2022-08-04T20:22:47.650Z"
   },
   {
    "duration": 0,
    "start_time": "2022-08-04T20:22:47.652Z"
   },
   {
    "duration": 0,
    "start_time": "2022-08-04T20:22:47.713Z"
   },
   {
    "duration": 0,
    "start_time": "2022-08-04T20:22:47.714Z"
   },
   {
    "duration": 0,
    "start_time": "2022-08-04T20:22:47.715Z"
   },
   {
    "duration": 0,
    "start_time": "2022-08-04T20:22:47.716Z"
   },
   {
    "duration": 0,
    "start_time": "2022-08-04T20:22:47.721Z"
   },
   {
    "duration": 0,
    "start_time": "2022-08-04T20:22:47.722Z"
   },
   {
    "duration": 0,
    "start_time": "2022-08-04T20:22:47.723Z"
   },
   {
    "duration": 0,
    "start_time": "2022-08-04T20:22:47.725Z"
   },
   {
    "duration": 0,
    "start_time": "2022-08-04T20:22:47.726Z"
   },
   {
    "duration": 0,
    "start_time": "2022-08-04T20:22:47.727Z"
   },
   {
    "duration": 0,
    "start_time": "2022-08-04T20:22:47.734Z"
   },
   {
    "duration": 0,
    "start_time": "2022-08-04T20:22:47.735Z"
   },
   {
    "duration": 0,
    "start_time": "2022-08-04T20:22:47.736Z"
   },
   {
    "duration": 0,
    "start_time": "2022-08-04T20:22:47.737Z"
   },
   {
    "duration": 0,
    "start_time": "2022-08-04T20:22:47.738Z"
   },
   {
    "duration": 0,
    "start_time": "2022-08-04T20:22:47.739Z"
   },
   {
    "duration": 0,
    "start_time": "2022-08-04T20:22:47.740Z"
   },
   {
    "duration": 0,
    "start_time": "2022-08-04T20:22:47.741Z"
   },
   {
    "duration": 1190,
    "start_time": "2022-08-04T20:23:56.144Z"
   },
   {
    "duration": 3,
    "start_time": "2022-08-04T20:23:57.336Z"
   },
   {
    "duration": 10,
    "start_time": "2022-08-04T20:23:57.340Z"
   },
   {
    "duration": 1572,
    "start_time": "2022-08-04T20:23:57.352Z"
   },
   {
    "duration": 39,
    "start_time": "2022-08-04T20:23:58.926Z"
   },
   {
    "duration": 63,
    "start_time": "2022-08-04T20:23:58.967Z"
   },
   {
    "duration": 126,
    "start_time": "2022-08-04T20:23:59.032Z"
   },
   {
    "duration": 0,
    "start_time": "2022-08-04T20:23:59.163Z"
   },
   {
    "duration": 0,
    "start_time": "2022-08-04T20:23:59.164Z"
   },
   {
    "duration": 0,
    "start_time": "2022-08-04T20:23:59.166Z"
   },
   {
    "duration": 0,
    "start_time": "2022-08-04T20:23:59.169Z"
   },
   {
    "duration": 0,
    "start_time": "2022-08-04T20:23:59.169Z"
   },
   {
    "duration": 0,
    "start_time": "2022-08-04T20:23:59.171Z"
   },
   {
    "duration": 0,
    "start_time": "2022-08-04T20:23:59.172Z"
   },
   {
    "duration": 0,
    "start_time": "2022-08-04T20:23:59.172Z"
   },
   {
    "duration": 0,
    "start_time": "2022-08-04T20:23:59.173Z"
   },
   {
    "duration": 0,
    "start_time": "2022-08-04T20:23:59.174Z"
   },
   {
    "duration": 0,
    "start_time": "2022-08-04T20:23:59.175Z"
   },
   {
    "duration": 0,
    "start_time": "2022-08-04T20:23:59.176Z"
   },
   {
    "duration": 0,
    "start_time": "2022-08-04T20:23:59.177Z"
   },
   {
    "duration": 0,
    "start_time": "2022-08-04T20:23:59.200Z"
   },
   {
    "duration": 0,
    "start_time": "2022-08-04T20:23:59.201Z"
   },
   {
    "duration": 0,
    "start_time": "2022-08-04T20:23:59.202Z"
   },
   {
    "duration": 0,
    "start_time": "2022-08-04T20:23:59.202Z"
   },
   {
    "duration": 0,
    "start_time": "2022-08-04T20:23:59.203Z"
   },
   {
    "duration": 0,
    "start_time": "2022-08-04T20:23:59.203Z"
   },
   {
    "duration": 0,
    "start_time": "2022-08-04T20:23:59.204Z"
   },
   {
    "duration": 0,
    "start_time": "2022-08-04T20:23:59.204Z"
   },
   {
    "duration": 0,
    "start_time": "2022-08-04T20:23:59.205Z"
   },
   {
    "duration": 0,
    "start_time": "2022-08-04T20:23:59.205Z"
   },
   {
    "duration": 0,
    "start_time": "2022-08-04T20:23:59.206Z"
   },
   {
    "duration": 0,
    "start_time": "2022-08-04T20:23:59.206Z"
   },
   {
    "duration": 0,
    "start_time": "2022-08-04T20:23:59.213Z"
   },
   {
    "duration": 0,
    "start_time": "2022-08-04T20:23:59.214Z"
   },
   {
    "duration": 0,
    "start_time": "2022-08-04T20:23:59.215Z"
   },
   {
    "duration": 0,
    "start_time": "2022-08-04T20:23:59.216Z"
   },
   {
    "duration": 0,
    "start_time": "2022-08-04T20:23:59.216Z"
   },
   {
    "duration": 0,
    "start_time": "2022-08-04T20:23:59.217Z"
   },
   {
    "duration": 0,
    "start_time": "2022-08-04T20:23:59.218Z"
   },
   {
    "duration": 0,
    "start_time": "2022-08-04T20:23:59.219Z"
   },
   {
    "duration": 0,
    "start_time": "2022-08-04T20:23:59.220Z"
   },
   {
    "duration": 0,
    "start_time": "2022-08-04T20:23:59.220Z"
   },
   {
    "duration": 0,
    "start_time": "2022-08-04T20:23:59.221Z"
   },
   {
    "duration": 0,
    "start_time": "2022-08-04T20:23:59.222Z"
   },
   {
    "duration": 0,
    "start_time": "2022-08-04T20:23:59.223Z"
   },
   {
    "duration": 1,
    "start_time": "2022-08-04T20:23:59.223Z"
   },
   {
    "duration": 0,
    "start_time": "2022-08-04T20:23:59.224Z"
   },
   {
    "duration": 0,
    "start_time": "2022-08-04T20:23:59.225Z"
   },
   {
    "duration": 0,
    "start_time": "2022-08-04T20:23:59.226Z"
   },
   {
    "duration": 0,
    "start_time": "2022-08-04T20:23:59.227Z"
   },
   {
    "duration": 0,
    "start_time": "2022-08-04T20:23:59.227Z"
   },
   {
    "duration": 0,
    "start_time": "2022-08-04T20:23:59.228Z"
   },
   {
    "duration": 0,
    "start_time": "2022-08-04T20:23:59.229Z"
   },
   {
    "duration": 0,
    "start_time": "2022-08-04T20:23:59.230Z"
   },
   {
    "duration": 0,
    "start_time": "2022-08-04T20:23:59.230Z"
   },
   {
    "duration": 0,
    "start_time": "2022-08-04T20:23:59.231Z"
   },
   {
    "duration": 0,
    "start_time": "2022-08-04T20:23:59.232Z"
   },
   {
    "duration": 0,
    "start_time": "2022-08-04T20:23:59.236Z"
   },
   {
    "duration": 0,
    "start_time": "2022-08-04T20:23:59.237Z"
   },
   {
    "duration": 0,
    "start_time": "2022-08-04T20:23:59.238Z"
   },
   {
    "duration": 0,
    "start_time": "2022-08-04T20:23:59.240Z"
   },
   {
    "duration": 0,
    "start_time": "2022-08-04T20:23:59.241Z"
   },
   {
    "duration": 0,
    "start_time": "2022-08-04T20:23:59.242Z"
   },
   {
    "duration": 0,
    "start_time": "2022-08-04T20:23:59.312Z"
   },
   {
    "duration": 0,
    "start_time": "2022-08-04T20:23:59.320Z"
   },
   {
    "duration": 0,
    "start_time": "2022-08-04T20:23:59.321Z"
   },
   {
    "duration": 0,
    "start_time": "2022-08-04T20:23:59.321Z"
   },
   {
    "duration": 0,
    "start_time": "2022-08-04T20:23:59.322Z"
   },
   {
    "duration": 0,
    "start_time": "2022-08-04T20:23:59.323Z"
   },
   {
    "duration": 0,
    "start_time": "2022-08-04T20:23:59.323Z"
   },
   {
    "duration": 0,
    "start_time": "2022-08-04T20:23:59.324Z"
   },
   {
    "duration": 0,
    "start_time": "2022-08-04T20:23:59.334Z"
   },
   {
    "duration": 0,
    "start_time": "2022-08-04T20:23:59.336Z"
   },
   {
    "duration": 0,
    "start_time": "2022-08-04T20:23:59.337Z"
   },
   {
    "duration": 0,
    "start_time": "2022-08-04T20:23:59.339Z"
   },
   {
    "duration": 0,
    "start_time": "2022-08-04T20:23:59.340Z"
   },
   {
    "duration": 0,
    "start_time": "2022-08-04T20:23:59.340Z"
   },
   {
    "duration": 0,
    "start_time": "2022-08-04T20:23:59.342Z"
   },
   {
    "duration": 0,
    "start_time": "2022-08-04T20:23:59.344Z"
   },
   {
    "duration": 0,
    "start_time": "2022-08-04T20:23:59.345Z"
   },
   {
    "duration": 0,
    "start_time": "2022-08-04T20:23:59.346Z"
   },
   {
    "duration": 0,
    "start_time": "2022-08-04T20:23:59.347Z"
   },
   {
    "duration": 0,
    "start_time": "2022-08-04T20:23:59.349Z"
   },
   {
    "duration": 0,
    "start_time": "2022-08-04T20:23:59.352Z"
   },
   {
    "duration": 0,
    "start_time": "2022-08-04T20:23:59.353Z"
   },
   {
    "duration": 0,
    "start_time": "2022-08-04T20:23:59.354Z"
   },
   {
    "duration": 0,
    "start_time": "2022-08-04T20:23:59.355Z"
   },
   {
    "duration": 0,
    "start_time": "2022-08-04T20:23:59.356Z"
   },
   {
    "duration": 0,
    "start_time": "2022-08-04T20:23:59.405Z"
   },
   {
    "duration": 0,
    "start_time": "2022-08-04T20:23:59.406Z"
   },
   {
    "duration": 0,
    "start_time": "2022-08-04T20:23:59.412Z"
   },
   {
    "duration": 0,
    "start_time": "2022-08-04T20:23:59.414Z"
   },
   {
    "duration": 0,
    "start_time": "2022-08-04T20:23:59.415Z"
   },
   {
    "duration": 0,
    "start_time": "2022-08-04T20:23:59.416Z"
   },
   {
    "duration": 0,
    "start_time": "2022-08-04T20:23:59.417Z"
   },
   {
    "duration": 0,
    "start_time": "2022-08-04T20:23:59.418Z"
   },
   {
    "duration": 0,
    "start_time": "2022-08-04T20:23:59.418Z"
   },
   {
    "duration": 0,
    "start_time": "2022-08-04T20:23:59.419Z"
   },
   {
    "duration": 0,
    "start_time": "2022-08-04T20:23:59.420Z"
   },
   {
    "duration": 0,
    "start_time": "2022-08-04T20:23:59.421Z"
   },
   {
    "duration": 0,
    "start_time": "2022-08-04T20:23:59.425Z"
   },
   {
    "duration": 0,
    "start_time": "2022-08-04T20:23:59.425Z"
   },
   {
    "duration": 0,
    "start_time": "2022-08-04T20:23:59.426Z"
   },
   {
    "duration": 0,
    "start_time": "2022-08-04T20:23:59.427Z"
   },
   {
    "duration": 0,
    "start_time": "2022-08-04T20:23:59.428Z"
   },
   {
    "duration": 0,
    "start_time": "2022-08-04T20:23:59.429Z"
   },
   {
    "duration": 0,
    "start_time": "2022-08-04T20:23:59.429Z"
   },
   {
    "duration": 0,
    "start_time": "2022-08-04T20:23:59.430Z"
   },
   {
    "duration": 0,
    "start_time": "2022-08-04T20:23:59.431Z"
   },
   {
    "duration": 0,
    "start_time": "2022-08-04T20:23:59.432Z"
   },
   {
    "duration": 0,
    "start_time": "2022-08-04T20:23:59.433Z"
   },
   {
    "duration": 0,
    "start_time": "2022-08-04T20:23:59.433Z"
   },
   {
    "duration": 0,
    "start_time": "2022-08-04T20:23:59.434Z"
   },
   {
    "duration": 0,
    "start_time": "2022-08-04T20:23:59.435Z"
   },
   {
    "duration": 0,
    "start_time": "2022-08-04T20:23:59.440Z"
   },
   {
    "duration": 0,
    "start_time": "2022-08-04T20:23:59.441Z"
   },
   {
    "duration": 0,
    "start_time": "2022-08-04T20:23:59.442Z"
   },
   {
    "duration": 0,
    "start_time": "2022-08-04T20:23:59.445Z"
   },
   {
    "duration": 0,
    "start_time": "2022-08-04T20:23:59.446Z"
   },
   {
    "duration": 0,
    "start_time": "2022-08-04T20:23:59.447Z"
   },
   {
    "duration": 0,
    "start_time": "2022-08-04T20:23:59.448Z"
   },
   {
    "duration": 0,
    "start_time": "2022-08-04T20:23:59.449Z"
   },
   {
    "duration": 0,
    "start_time": "2022-08-04T20:23:59.450Z"
   },
   {
    "duration": 0,
    "start_time": "2022-08-04T20:23:59.452Z"
   },
   {
    "duration": 0,
    "start_time": "2022-08-04T20:23:59.455Z"
   },
   {
    "duration": 0,
    "start_time": "2022-08-04T20:23:59.456Z"
   },
   {
    "duration": 0,
    "start_time": "2022-08-04T20:23:59.457Z"
   },
   {
    "duration": 0,
    "start_time": "2022-08-04T20:23:59.457Z"
   },
   {
    "duration": 1,
    "start_time": "2022-08-04T20:23:59.457Z"
   },
   {
    "duration": 0,
    "start_time": "2022-08-04T20:23:59.458Z"
   },
   {
    "duration": 0,
    "start_time": "2022-08-04T20:23:59.458Z"
   },
   {
    "duration": 0,
    "start_time": "2022-08-04T20:23:59.459Z"
   },
   {
    "duration": 0,
    "start_time": "2022-08-04T20:23:59.459Z"
   },
   {
    "duration": 0,
    "start_time": "2022-08-04T20:23:59.504Z"
   },
   {
    "duration": 0,
    "start_time": "2022-08-04T20:23:59.505Z"
   },
   {
    "duration": 0,
    "start_time": "2022-08-04T20:23:59.506Z"
   },
   {
    "duration": 0,
    "start_time": "2022-08-04T20:23:59.506Z"
   },
   {
    "duration": 0,
    "start_time": "2022-08-04T20:23:59.507Z"
   },
   {
    "duration": 1147,
    "start_time": "2022-08-04T20:24:51.745Z"
   },
   {
    "duration": 21,
    "start_time": "2022-08-04T20:24:52.895Z"
   },
   {
    "duration": 15,
    "start_time": "2022-08-04T20:24:52.925Z"
   },
   {
    "duration": 594,
    "start_time": "2022-08-04T20:24:52.942Z"
   },
   {
    "duration": 60,
    "start_time": "2022-08-04T20:24:53.538Z"
   },
   {
    "duration": 94,
    "start_time": "2022-08-04T20:24:53.599Z"
   },
   {
    "duration": 124,
    "start_time": "2022-08-04T20:24:53.695Z"
   },
   {
    "duration": 0,
    "start_time": "2022-08-04T20:24:53.825Z"
   },
   {
    "duration": 0,
    "start_time": "2022-08-04T20:24:53.826Z"
   },
   {
    "duration": 0,
    "start_time": "2022-08-04T20:24:53.827Z"
   },
   {
    "duration": 0,
    "start_time": "2022-08-04T20:24:53.828Z"
   },
   {
    "duration": 0,
    "start_time": "2022-08-04T20:24:53.829Z"
   },
   {
    "duration": 0,
    "start_time": "2022-08-04T20:24:53.830Z"
   },
   {
    "duration": 0,
    "start_time": "2022-08-04T20:24:53.831Z"
   },
   {
    "duration": 0,
    "start_time": "2022-08-04T20:24:53.832Z"
   },
   {
    "duration": 0,
    "start_time": "2022-08-04T20:24:53.833Z"
   },
   {
    "duration": 0,
    "start_time": "2022-08-04T20:24:53.835Z"
   },
   {
    "duration": 0,
    "start_time": "2022-08-04T20:24:53.835Z"
   },
   {
    "duration": 0,
    "start_time": "2022-08-04T20:24:53.836Z"
   },
   {
    "duration": 0,
    "start_time": "2022-08-04T20:24:53.837Z"
   },
   {
    "duration": 0,
    "start_time": "2022-08-04T20:24:53.838Z"
   },
   {
    "duration": 0,
    "start_time": "2022-08-04T20:24:53.839Z"
   },
   {
    "duration": 0,
    "start_time": "2022-08-04T20:24:53.840Z"
   },
   {
    "duration": 0,
    "start_time": "2022-08-04T20:24:53.841Z"
   },
   {
    "duration": 0,
    "start_time": "2022-08-04T20:24:53.842Z"
   },
   {
    "duration": 0,
    "start_time": "2022-08-04T20:24:53.843Z"
   },
   {
    "duration": 0,
    "start_time": "2022-08-04T20:24:53.844Z"
   },
   {
    "duration": 0,
    "start_time": "2022-08-04T20:24:53.845Z"
   },
   {
    "duration": 0,
    "start_time": "2022-08-04T20:24:53.846Z"
   },
   {
    "duration": 0,
    "start_time": "2022-08-04T20:24:53.847Z"
   },
   {
    "duration": 0,
    "start_time": "2022-08-04T20:24:53.848Z"
   },
   {
    "duration": 0,
    "start_time": "2022-08-04T20:24:53.849Z"
   },
   {
    "duration": 0,
    "start_time": "2022-08-04T20:24:53.850Z"
   },
   {
    "duration": 0,
    "start_time": "2022-08-04T20:24:53.851Z"
   },
   {
    "duration": 0,
    "start_time": "2022-08-04T20:24:53.852Z"
   },
   {
    "duration": 0,
    "start_time": "2022-08-04T20:24:53.853Z"
   },
   {
    "duration": 0,
    "start_time": "2022-08-04T20:24:53.854Z"
   },
   {
    "duration": 0,
    "start_time": "2022-08-04T20:24:53.906Z"
   },
   {
    "duration": 0,
    "start_time": "2022-08-04T20:24:53.906Z"
   },
   {
    "duration": 0,
    "start_time": "2022-08-04T20:24:53.907Z"
   },
   {
    "duration": 0,
    "start_time": "2022-08-04T20:24:53.908Z"
   },
   {
    "duration": 0,
    "start_time": "2022-08-04T20:24:53.915Z"
   },
   {
    "duration": 0,
    "start_time": "2022-08-04T20:24:53.916Z"
   },
   {
    "duration": 0,
    "start_time": "2022-08-04T20:24:53.917Z"
   },
   {
    "duration": 0,
    "start_time": "2022-08-04T20:24:53.917Z"
   },
   {
    "duration": 0,
    "start_time": "2022-08-04T20:24:53.918Z"
   },
   {
    "duration": 0,
    "start_time": "2022-08-04T20:24:53.918Z"
   },
   {
    "duration": 0,
    "start_time": "2022-08-04T20:24:53.919Z"
   },
   {
    "duration": 0,
    "start_time": "2022-08-04T20:24:53.919Z"
   },
   {
    "duration": 0,
    "start_time": "2022-08-04T20:24:53.929Z"
   },
   {
    "duration": 0,
    "start_time": "2022-08-04T20:24:53.932Z"
   },
   {
    "duration": 0,
    "start_time": "2022-08-04T20:24:53.933Z"
   },
   {
    "duration": 0,
    "start_time": "2022-08-04T20:24:53.935Z"
   },
   {
    "duration": 0,
    "start_time": "2022-08-04T20:24:53.937Z"
   },
   {
    "duration": 0,
    "start_time": "2022-08-04T20:24:53.938Z"
   },
   {
    "duration": 0,
    "start_time": "2022-08-04T20:24:53.939Z"
   },
   {
    "duration": 0,
    "start_time": "2022-08-04T20:24:53.941Z"
   },
   {
    "duration": 0,
    "start_time": "2022-08-04T20:24:53.942Z"
   },
   {
    "duration": 0,
    "start_time": "2022-08-04T20:24:53.950Z"
   },
   {
    "duration": 0,
    "start_time": "2022-08-04T20:24:53.951Z"
   },
   {
    "duration": 0,
    "start_time": "2022-08-04T20:24:53.951Z"
   },
   {
    "duration": 0,
    "start_time": "2022-08-04T20:24:53.953Z"
   },
   {
    "duration": 0,
    "start_time": "2022-08-04T20:24:53.954Z"
   },
   {
    "duration": 0,
    "start_time": "2022-08-04T20:24:53.955Z"
   },
   {
    "duration": 0,
    "start_time": "2022-08-04T20:24:53.956Z"
   },
   {
    "duration": 0,
    "start_time": "2022-08-04T20:24:53.958Z"
   },
   {
    "duration": 0,
    "start_time": "2022-08-04T20:24:53.959Z"
   },
   {
    "duration": 0,
    "start_time": "2022-08-04T20:24:53.960Z"
   },
   {
    "duration": 0,
    "start_time": "2022-08-04T20:24:53.961Z"
   },
   {
    "duration": 0,
    "start_time": "2022-08-04T20:24:54.009Z"
   },
   {
    "duration": 0,
    "start_time": "2022-08-04T20:24:54.009Z"
   },
   {
    "duration": 0,
    "start_time": "2022-08-04T20:24:54.010Z"
   },
   {
    "duration": 0,
    "start_time": "2022-08-04T20:24:54.010Z"
   },
   {
    "duration": 0,
    "start_time": "2022-08-04T20:24:54.011Z"
   },
   {
    "duration": 0,
    "start_time": "2022-08-04T20:24:54.016Z"
   },
   {
    "duration": 0,
    "start_time": "2022-08-04T20:24:54.017Z"
   },
   {
    "duration": 0,
    "start_time": "2022-08-04T20:24:54.017Z"
   },
   {
    "duration": 0,
    "start_time": "2022-08-04T20:24:54.018Z"
   },
   {
    "duration": 0,
    "start_time": "2022-08-04T20:24:54.018Z"
   },
   {
    "duration": 0,
    "start_time": "2022-08-04T20:24:54.019Z"
   },
   {
    "duration": 0,
    "start_time": "2022-08-04T20:24:54.019Z"
   },
   {
    "duration": 0,
    "start_time": "2022-08-04T20:24:54.020Z"
   },
   {
    "duration": 0,
    "start_time": "2022-08-04T20:24:54.021Z"
   },
   {
    "duration": 0,
    "start_time": "2022-08-04T20:24:54.021Z"
   },
   {
    "duration": 0,
    "start_time": "2022-08-04T20:24:54.022Z"
   },
   {
    "duration": 0,
    "start_time": "2022-08-04T20:24:54.022Z"
   },
   {
    "duration": 0,
    "start_time": "2022-08-04T20:24:54.023Z"
   },
   {
    "duration": 0,
    "start_time": "2022-08-04T20:24:54.023Z"
   },
   {
    "duration": 0,
    "start_time": "2022-08-04T20:24:54.024Z"
   },
   {
    "duration": 0,
    "start_time": "2022-08-04T20:24:54.024Z"
   },
   {
    "duration": 0,
    "start_time": "2022-08-04T20:24:54.025Z"
   },
   {
    "duration": 0,
    "start_time": "2022-08-04T20:24:54.025Z"
   },
   {
    "duration": 0,
    "start_time": "2022-08-04T20:24:54.026Z"
   },
   {
    "duration": 0,
    "start_time": "2022-08-04T20:24:54.026Z"
   },
   {
    "duration": 0,
    "start_time": "2022-08-04T20:24:54.027Z"
   },
   {
    "duration": 0,
    "start_time": "2022-08-04T20:24:54.027Z"
   },
   {
    "duration": 0,
    "start_time": "2022-08-04T20:24:54.029Z"
   },
   {
    "duration": 0,
    "start_time": "2022-08-04T20:24:54.030Z"
   },
   {
    "duration": 0,
    "start_time": "2022-08-04T20:24:54.030Z"
   },
   {
    "duration": 0,
    "start_time": "2022-08-04T20:24:54.031Z"
   },
   {
    "duration": 0,
    "start_time": "2022-08-04T20:24:54.033Z"
   },
   {
    "duration": 0,
    "start_time": "2022-08-04T20:24:54.034Z"
   },
   {
    "duration": 0,
    "start_time": "2022-08-04T20:24:54.035Z"
   },
   {
    "duration": 0,
    "start_time": "2022-08-04T20:24:54.036Z"
   },
   {
    "duration": 0,
    "start_time": "2022-08-04T20:24:54.037Z"
   },
   {
    "duration": 0,
    "start_time": "2022-08-04T20:24:54.037Z"
   },
   {
    "duration": 0,
    "start_time": "2022-08-04T20:24:54.038Z"
   },
   {
    "duration": 0,
    "start_time": "2022-08-04T20:24:54.039Z"
   },
   {
    "duration": 0,
    "start_time": "2022-08-04T20:24:54.040Z"
   },
   {
    "duration": 0,
    "start_time": "2022-08-04T20:24:54.041Z"
   },
   {
    "duration": 0,
    "start_time": "2022-08-04T20:24:54.042Z"
   },
   {
    "duration": 0,
    "start_time": "2022-08-04T20:24:54.043Z"
   },
   {
    "duration": 0,
    "start_time": "2022-08-04T20:24:54.043Z"
   },
   {
    "duration": 0,
    "start_time": "2022-08-04T20:24:54.044Z"
   },
   {
    "duration": 0,
    "start_time": "2022-08-04T20:24:54.045Z"
   },
   {
    "duration": 0,
    "start_time": "2022-08-04T20:24:54.046Z"
   },
   {
    "duration": 0,
    "start_time": "2022-08-04T20:24:54.047Z"
   },
   {
    "duration": 0,
    "start_time": "2022-08-04T20:24:54.048Z"
   },
   {
    "duration": 0,
    "start_time": "2022-08-04T20:24:54.048Z"
   },
   {
    "duration": 0,
    "start_time": "2022-08-04T20:24:54.049Z"
   },
   {
    "duration": 0,
    "start_time": "2022-08-04T20:24:54.051Z"
   },
   {
    "duration": 0,
    "start_time": "2022-08-04T20:24:54.052Z"
   },
   {
    "duration": 0,
    "start_time": "2022-08-04T20:24:54.108Z"
   },
   {
    "duration": 0,
    "start_time": "2022-08-04T20:24:54.112Z"
   },
   {
    "duration": 0,
    "start_time": "2022-08-04T20:24:54.113Z"
   },
   {
    "duration": 0,
    "start_time": "2022-08-04T20:24:54.114Z"
   },
   {
    "duration": 0,
    "start_time": "2022-08-04T20:24:54.114Z"
   },
   {
    "duration": 1,
    "start_time": "2022-08-04T20:24:54.114Z"
   },
   {
    "duration": 0,
    "start_time": "2022-08-04T20:24:54.115Z"
   },
   {
    "duration": 0,
    "start_time": "2022-08-04T20:24:54.115Z"
   },
   {
    "duration": 0,
    "start_time": "2022-08-04T20:24:54.116Z"
   },
   {
    "duration": 0,
    "start_time": "2022-08-04T20:24:54.117Z"
   },
   {
    "duration": 0,
    "start_time": "2022-08-04T20:24:54.117Z"
   },
   {
    "duration": 1,
    "start_time": "2022-08-04T20:24:54.117Z"
   },
   {
    "duration": 0,
    "start_time": "2022-08-04T20:24:54.118Z"
   },
   {
    "duration": 0,
    "start_time": "2022-08-04T20:24:54.118Z"
   },
   {
    "duration": 0,
    "start_time": "2022-08-04T20:24:54.119Z"
   },
   {
    "duration": 0,
    "start_time": "2022-08-04T20:24:54.120Z"
   },
   {
    "duration": 371,
    "start_time": "2022-08-04T20:25:07.925Z"
   },
   {
    "duration": 1998,
    "start_time": "2022-08-04T20:25:28.128Z"
   },
   {
    "duration": 553,
    "start_time": "2022-08-04T20:25:37.374Z"
   },
   {
    "duration": 1261,
    "start_time": "2022-08-04T20:25:46.419Z"
   },
   {
    "duration": 7,
    "start_time": "2022-08-04T20:25:47.682Z"
   },
   {
    "duration": 27,
    "start_time": "2022-08-04T20:25:47.691Z"
   },
   {
    "duration": 4938,
    "start_time": "2022-08-04T20:25:47.726Z"
   },
   {
    "duration": 54,
    "start_time": "2022-08-04T20:25:52.666Z"
   },
   {
    "duration": 60,
    "start_time": "2022-08-04T20:25:52.728Z"
   },
   {
    "duration": 136,
    "start_time": "2022-08-04T20:25:52.790Z"
   },
   {
    "duration": 0,
    "start_time": "2022-08-04T20:25:52.933Z"
   },
   {
    "duration": 0,
    "start_time": "2022-08-04T20:25:52.934Z"
   },
   {
    "duration": 0,
    "start_time": "2022-08-04T20:25:52.935Z"
   },
   {
    "duration": 0,
    "start_time": "2022-08-04T20:25:52.936Z"
   },
   {
    "duration": 0,
    "start_time": "2022-08-04T20:25:52.938Z"
   },
   {
    "duration": 0,
    "start_time": "2022-08-04T20:25:52.939Z"
   },
   {
    "duration": 0,
    "start_time": "2022-08-04T20:25:52.940Z"
   },
   {
    "duration": 0,
    "start_time": "2022-08-04T20:25:52.941Z"
   },
   {
    "duration": 0,
    "start_time": "2022-08-04T20:25:52.942Z"
   },
   {
    "duration": 0,
    "start_time": "2022-08-04T20:25:52.943Z"
   },
   {
    "duration": 0,
    "start_time": "2022-08-04T20:25:52.944Z"
   },
   {
    "duration": 0,
    "start_time": "2022-08-04T20:25:52.945Z"
   },
   {
    "duration": 0,
    "start_time": "2022-08-04T20:25:52.946Z"
   },
   {
    "duration": 0,
    "start_time": "2022-08-04T20:25:52.947Z"
   },
   {
    "duration": 0,
    "start_time": "2022-08-04T20:25:52.948Z"
   },
   {
    "duration": 0,
    "start_time": "2022-08-04T20:25:52.948Z"
   },
   {
    "duration": 0,
    "start_time": "2022-08-04T20:25:52.949Z"
   },
   {
    "duration": 0,
    "start_time": "2022-08-04T20:25:52.950Z"
   },
   {
    "duration": 0,
    "start_time": "2022-08-04T20:25:52.951Z"
   },
   {
    "duration": 0,
    "start_time": "2022-08-04T20:25:52.952Z"
   },
   {
    "duration": 0,
    "start_time": "2022-08-04T20:25:52.952Z"
   },
   {
    "duration": 0,
    "start_time": "2022-08-04T20:25:52.953Z"
   },
   {
    "duration": 0,
    "start_time": "2022-08-04T20:25:52.954Z"
   },
   {
    "duration": 0,
    "start_time": "2022-08-04T20:25:52.955Z"
   },
   {
    "duration": 0,
    "start_time": "2022-08-04T20:25:52.956Z"
   },
   {
    "duration": 0,
    "start_time": "2022-08-04T20:25:52.956Z"
   },
   {
    "duration": 0,
    "start_time": "2022-08-04T20:25:52.957Z"
   },
   {
    "duration": 0,
    "start_time": "2022-08-04T20:25:52.958Z"
   },
   {
    "duration": 0,
    "start_time": "2022-08-04T20:25:52.959Z"
   },
   {
    "duration": 0,
    "start_time": "2022-08-04T20:25:52.960Z"
   },
   {
    "duration": 0,
    "start_time": "2022-08-04T20:25:52.961Z"
   },
   {
    "duration": 0,
    "start_time": "2022-08-04T20:25:52.961Z"
   },
   {
    "duration": 0,
    "start_time": "2022-08-04T20:25:52.962Z"
   },
   {
    "duration": 0,
    "start_time": "2022-08-04T20:25:52.963Z"
   },
   {
    "duration": 0,
    "start_time": "2022-08-04T20:25:52.964Z"
   },
   {
    "duration": 0,
    "start_time": "2022-08-04T20:25:52.965Z"
   },
   {
    "duration": 0,
    "start_time": "2022-08-04T20:25:53.009Z"
   },
   {
    "duration": 0,
    "start_time": "2022-08-04T20:25:53.009Z"
   },
   {
    "duration": 0,
    "start_time": "2022-08-04T20:25:53.010Z"
   },
   {
    "duration": 0,
    "start_time": "2022-08-04T20:25:53.011Z"
   },
   {
    "duration": 0,
    "start_time": "2022-08-04T20:25:53.016Z"
   },
   {
    "duration": 0,
    "start_time": "2022-08-04T20:25:53.017Z"
   },
   {
    "duration": 0,
    "start_time": "2022-08-04T20:25:53.018Z"
   },
   {
    "duration": 0,
    "start_time": "2022-08-04T20:25:53.018Z"
   },
   {
    "duration": 0,
    "start_time": "2022-08-04T20:25:53.019Z"
   },
   {
    "duration": 0,
    "start_time": "2022-08-04T20:25:53.022Z"
   },
   {
    "duration": 0,
    "start_time": "2022-08-04T20:25:53.023Z"
   },
   {
    "duration": 0,
    "start_time": "2022-08-04T20:25:53.028Z"
   },
   {
    "duration": 0,
    "start_time": "2022-08-04T20:25:53.029Z"
   },
   {
    "duration": 0,
    "start_time": "2022-08-04T20:25:53.032Z"
   },
   {
    "duration": 0,
    "start_time": "2022-08-04T20:25:53.033Z"
   },
   {
    "duration": 0,
    "start_time": "2022-08-04T20:25:53.034Z"
   },
   {
    "duration": 0,
    "start_time": "2022-08-04T20:25:53.035Z"
   },
   {
    "duration": 0,
    "start_time": "2022-08-04T20:25:53.036Z"
   },
   {
    "duration": 0,
    "start_time": "2022-08-04T20:25:53.037Z"
   },
   {
    "duration": 0,
    "start_time": "2022-08-04T20:25:53.038Z"
   },
   {
    "duration": 0,
    "start_time": "2022-08-04T20:25:53.039Z"
   },
   {
    "duration": 1,
    "start_time": "2022-08-04T20:25:53.041Z"
   },
   {
    "duration": 0,
    "start_time": "2022-08-04T20:25:53.043Z"
   },
   {
    "duration": 0,
    "start_time": "2022-08-04T20:25:53.044Z"
   },
   {
    "duration": 0,
    "start_time": "2022-08-04T20:25:53.044Z"
   },
   {
    "duration": 0,
    "start_time": "2022-08-04T20:25:53.045Z"
   },
   {
    "duration": 0,
    "start_time": "2022-08-04T20:25:53.046Z"
   },
   {
    "duration": 0,
    "start_time": "2022-08-04T20:25:53.047Z"
   },
   {
    "duration": 0,
    "start_time": "2022-08-04T20:25:53.048Z"
   },
   {
    "duration": 0,
    "start_time": "2022-08-04T20:25:53.049Z"
   },
   {
    "duration": 0,
    "start_time": "2022-08-04T20:25:53.050Z"
   },
   {
    "duration": 0,
    "start_time": "2022-08-04T20:25:53.051Z"
   },
   {
    "duration": 0,
    "start_time": "2022-08-04T20:25:53.052Z"
   },
   {
    "duration": 0,
    "start_time": "2022-08-04T20:25:53.101Z"
   },
   {
    "duration": 0,
    "start_time": "2022-08-04T20:25:53.101Z"
   },
   {
    "duration": 0,
    "start_time": "2022-08-04T20:25:53.102Z"
   },
   {
    "duration": 0,
    "start_time": "2022-08-04T20:25:53.102Z"
   },
   {
    "duration": 0,
    "start_time": "2022-08-04T20:25:53.103Z"
   },
   {
    "duration": 0,
    "start_time": "2022-08-04T20:25:53.103Z"
   },
   {
    "duration": 0,
    "start_time": "2022-08-04T20:25:53.117Z"
   },
   {
    "duration": 0,
    "start_time": "2022-08-04T20:25:53.118Z"
   },
   {
    "duration": 0,
    "start_time": "2022-08-04T20:25:53.118Z"
   },
   {
    "duration": 0,
    "start_time": "2022-08-04T20:25:53.119Z"
   },
   {
    "duration": 0,
    "start_time": "2022-08-04T20:25:53.120Z"
   },
   {
    "duration": 0,
    "start_time": "2022-08-04T20:25:53.121Z"
   },
   {
    "duration": 0,
    "start_time": "2022-08-04T20:25:53.123Z"
   },
   {
    "duration": 0,
    "start_time": "2022-08-04T20:25:53.124Z"
   },
   {
    "duration": 0,
    "start_time": "2022-08-04T20:25:53.125Z"
   },
   {
    "duration": 0,
    "start_time": "2022-08-04T20:25:53.126Z"
   },
   {
    "duration": 0,
    "start_time": "2022-08-04T20:25:53.127Z"
   },
   {
    "duration": 0,
    "start_time": "2022-08-04T20:25:53.128Z"
   },
   {
    "duration": 0,
    "start_time": "2022-08-04T20:25:53.129Z"
   },
   {
    "duration": 0,
    "start_time": "2022-08-04T20:25:53.132Z"
   },
   {
    "duration": 0,
    "start_time": "2022-08-04T20:25:53.133Z"
   },
   {
    "duration": 0,
    "start_time": "2022-08-04T20:25:53.134Z"
   },
   {
    "duration": 0,
    "start_time": "2022-08-04T20:25:53.136Z"
   },
   {
    "duration": 0,
    "start_time": "2022-08-04T20:25:53.138Z"
   },
   {
    "duration": 0,
    "start_time": "2022-08-04T20:25:53.139Z"
   },
   {
    "duration": 0,
    "start_time": "2022-08-04T20:25:53.141Z"
   },
   {
    "duration": 0,
    "start_time": "2022-08-04T20:25:53.141Z"
   },
   {
    "duration": 0,
    "start_time": "2022-08-04T20:25:53.142Z"
   },
   {
    "duration": 0,
    "start_time": "2022-08-04T20:25:53.143Z"
   },
   {
    "duration": 0,
    "start_time": "2022-08-04T20:25:53.144Z"
   },
   {
    "duration": 0,
    "start_time": "2022-08-04T20:25:53.145Z"
   },
   {
    "duration": 0,
    "start_time": "2022-08-04T20:25:53.146Z"
   },
   {
    "duration": 0,
    "start_time": "2022-08-04T20:25:53.147Z"
   },
   {
    "duration": 0,
    "start_time": "2022-08-04T20:25:53.148Z"
   },
   {
    "duration": 0,
    "start_time": "2022-08-04T20:25:53.149Z"
   },
   {
    "duration": 0,
    "start_time": "2022-08-04T20:25:53.150Z"
   },
   {
    "duration": 0,
    "start_time": "2022-08-04T20:25:53.205Z"
   },
   {
    "duration": 0,
    "start_time": "2022-08-04T20:25:53.205Z"
   },
   {
    "duration": 0,
    "start_time": "2022-08-04T20:25:53.206Z"
   },
   {
    "duration": 0,
    "start_time": "2022-08-04T20:25:53.206Z"
   },
   {
    "duration": 0,
    "start_time": "2022-08-04T20:25:53.207Z"
   },
   {
    "duration": 0,
    "start_time": "2022-08-04T20:25:53.208Z"
   },
   {
    "duration": 0,
    "start_time": "2022-08-04T20:25:53.213Z"
   },
   {
    "duration": 0,
    "start_time": "2022-08-04T20:25:53.213Z"
   },
   {
    "duration": 0,
    "start_time": "2022-08-04T20:25:53.214Z"
   },
   {
    "duration": 0,
    "start_time": "2022-08-04T20:25:53.215Z"
   },
   {
    "duration": 0,
    "start_time": "2022-08-04T20:25:53.215Z"
   },
   {
    "duration": 0,
    "start_time": "2022-08-04T20:25:53.220Z"
   },
   {
    "duration": 0,
    "start_time": "2022-08-04T20:25:53.221Z"
   },
   {
    "duration": 0,
    "start_time": "2022-08-04T20:25:53.223Z"
   },
   {
    "duration": 0,
    "start_time": "2022-08-04T20:25:53.224Z"
   },
   {
    "duration": 0,
    "start_time": "2022-08-04T20:25:53.225Z"
   },
   {
    "duration": 0,
    "start_time": "2022-08-04T20:25:53.226Z"
   },
   {
    "duration": 0,
    "start_time": "2022-08-04T20:25:53.227Z"
   },
   {
    "duration": 0,
    "start_time": "2022-08-04T20:25:53.232Z"
   },
   {
    "duration": 0,
    "start_time": "2022-08-04T20:25:53.233Z"
   },
   {
    "duration": 0,
    "start_time": "2022-08-04T20:25:53.233Z"
   },
   {
    "duration": 0,
    "start_time": "2022-08-04T20:25:53.234Z"
   },
   {
    "duration": 0,
    "start_time": "2022-08-04T20:25:53.234Z"
   },
   {
    "duration": 0,
    "start_time": "2022-08-04T20:25:53.235Z"
   },
   {
    "duration": 0,
    "start_time": "2022-08-04T20:25:53.235Z"
   },
   {
    "duration": 0,
    "start_time": "2022-08-04T20:25:53.236Z"
   },
   {
    "duration": 2196,
    "start_time": "2022-08-04T20:26:00.128Z"
   },
   {
    "duration": 1897,
    "start_time": "2022-08-04T20:26:04.862Z"
   },
   {
    "duration": 446,
    "start_time": "2022-08-04T20:26:09.191Z"
   },
   {
    "duration": 1959,
    "start_time": "2022-08-04T20:26:13.892Z"
   },
   {
    "duration": 534,
    "start_time": "2022-08-04T20:26:25.796Z"
   },
   {
    "duration": 1166,
    "start_time": "2022-08-04T20:26:36.425Z"
   },
   {
    "duration": 3,
    "start_time": "2022-08-04T20:26:37.593Z"
   },
   {
    "duration": 33,
    "start_time": "2022-08-04T20:26:37.605Z"
   },
   {
    "duration": 3008,
    "start_time": "2022-08-04T20:26:37.640Z"
   },
   {
    "duration": 13,
    "start_time": "2022-08-04T20:26:40.651Z"
   },
   {
    "duration": 65,
    "start_time": "2022-08-04T20:26:40.694Z"
   },
   {
    "duration": 130,
    "start_time": "2022-08-04T20:26:40.761Z"
   },
   {
    "duration": 0,
    "start_time": "2022-08-04T20:26:40.904Z"
   },
   {
    "duration": 0,
    "start_time": "2022-08-04T20:26:40.905Z"
   },
   {
    "duration": 0,
    "start_time": "2022-08-04T20:26:40.905Z"
   },
   {
    "duration": 0,
    "start_time": "2022-08-04T20:26:40.906Z"
   },
   {
    "duration": 0,
    "start_time": "2022-08-04T20:26:40.907Z"
   },
   {
    "duration": 0,
    "start_time": "2022-08-04T20:26:40.907Z"
   },
   {
    "duration": 0,
    "start_time": "2022-08-04T20:26:40.908Z"
   },
   {
    "duration": 0,
    "start_time": "2022-08-04T20:26:40.909Z"
   },
   {
    "duration": 0,
    "start_time": "2022-08-04T20:26:40.910Z"
   },
   {
    "duration": 0,
    "start_time": "2022-08-04T20:26:40.910Z"
   },
   {
    "duration": 0,
    "start_time": "2022-08-04T20:26:40.911Z"
   },
   {
    "duration": 0,
    "start_time": "2022-08-04T20:26:40.912Z"
   },
   {
    "duration": 0,
    "start_time": "2022-08-04T20:26:40.912Z"
   },
   {
    "duration": 0,
    "start_time": "2022-08-04T20:26:40.913Z"
   },
   {
    "duration": 0,
    "start_time": "2022-08-04T20:26:40.914Z"
   },
   {
    "duration": 0,
    "start_time": "2022-08-04T20:26:40.914Z"
   },
   {
    "duration": 0,
    "start_time": "2022-08-04T20:26:40.915Z"
   },
   {
    "duration": 0,
    "start_time": "2022-08-04T20:26:40.916Z"
   },
   {
    "duration": 0,
    "start_time": "2022-08-04T20:26:40.916Z"
   },
   {
    "duration": 0,
    "start_time": "2022-08-04T20:26:40.917Z"
   },
   {
    "duration": 0,
    "start_time": "2022-08-04T20:26:40.918Z"
   },
   {
    "duration": 0,
    "start_time": "2022-08-04T20:26:40.918Z"
   },
   {
    "duration": 0,
    "start_time": "2022-08-04T20:26:40.919Z"
   },
   {
    "duration": 0,
    "start_time": "2022-08-04T20:26:40.919Z"
   },
   {
    "duration": 0,
    "start_time": "2022-08-04T20:26:40.920Z"
   },
   {
    "duration": 0,
    "start_time": "2022-08-04T20:26:40.921Z"
   },
   {
    "duration": 0,
    "start_time": "2022-08-04T20:26:40.922Z"
   },
   {
    "duration": 0,
    "start_time": "2022-08-04T20:26:40.922Z"
   },
   {
    "duration": 0,
    "start_time": "2022-08-04T20:26:40.923Z"
   },
   {
    "duration": 0,
    "start_time": "2022-08-04T20:26:40.925Z"
   },
   {
    "duration": 0,
    "start_time": "2022-08-04T20:26:40.925Z"
   },
   {
    "duration": 0,
    "start_time": "2022-08-04T20:26:40.926Z"
   },
   {
    "duration": 0,
    "start_time": "2022-08-04T20:26:40.927Z"
   },
   {
    "duration": 0,
    "start_time": "2022-08-04T20:26:40.928Z"
   },
   {
    "duration": 0,
    "start_time": "2022-08-04T20:26:40.928Z"
   },
   {
    "duration": 0,
    "start_time": "2022-08-04T20:26:40.929Z"
   },
   {
    "duration": 0,
    "start_time": "2022-08-04T20:26:40.930Z"
   },
   {
    "duration": 1,
    "start_time": "2022-08-04T20:26:40.931Z"
   },
   {
    "duration": 0,
    "start_time": "2022-08-04T20:26:40.932Z"
   },
   {
    "duration": 0,
    "start_time": "2022-08-04T20:26:40.934Z"
   },
   {
    "duration": 0,
    "start_time": "2022-08-04T20:26:40.937Z"
   },
   {
    "duration": 0,
    "start_time": "2022-08-04T20:26:40.938Z"
   },
   {
    "duration": 0,
    "start_time": "2022-08-04T20:26:40.939Z"
   },
   {
    "duration": 0,
    "start_time": "2022-08-04T20:26:40.941Z"
   },
   {
    "duration": 0,
    "start_time": "2022-08-04T20:26:40.942Z"
   },
   {
    "duration": 0,
    "start_time": "2022-08-04T20:26:40.943Z"
   },
   {
    "duration": 0,
    "start_time": "2022-08-04T20:26:40.944Z"
   },
   {
    "duration": 0,
    "start_time": "2022-08-04T20:26:40.946Z"
   },
   {
    "duration": 0,
    "start_time": "2022-08-04T20:26:40.947Z"
   },
   {
    "duration": 1,
    "start_time": "2022-08-04T20:26:40.948Z"
   },
   {
    "duration": 0,
    "start_time": "2022-08-04T20:26:40.950Z"
   },
   {
    "duration": 1,
    "start_time": "2022-08-04T20:26:40.951Z"
   },
   {
    "duration": 0,
    "start_time": "2022-08-04T20:26:40.953Z"
   },
   {
    "duration": 0,
    "start_time": "2022-08-04T20:26:40.955Z"
   },
   {
    "duration": 0,
    "start_time": "2022-08-04T20:26:40.956Z"
   },
   {
    "duration": 0,
    "start_time": "2022-08-04T20:26:40.999Z"
   },
   {
    "duration": 0,
    "start_time": "2022-08-04T20:26:41.000Z"
   },
   {
    "duration": 0,
    "start_time": "2022-08-04T20:26:41.001Z"
   },
   {
    "duration": 0,
    "start_time": "2022-08-04T20:26:41.002Z"
   },
   {
    "duration": 0,
    "start_time": "2022-08-04T20:26:41.003Z"
   },
   {
    "duration": 0,
    "start_time": "2022-08-04T20:26:41.016Z"
   },
   {
    "duration": 0,
    "start_time": "2022-08-04T20:26:41.017Z"
   },
   {
    "duration": 0,
    "start_time": "2022-08-04T20:26:41.019Z"
   },
   {
    "duration": 0,
    "start_time": "2022-08-04T20:26:41.020Z"
   },
   {
    "duration": 0,
    "start_time": "2022-08-04T20:26:41.031Z"
   },
   {
    "duration": 0,
    "start_time": "2022-08-04T20:26:41.031Z"
   },
   {
    "duration": 0,
    "start_time": "2022-08-04T20:26:41.032Z"
   },
   {
    "duration": 0,
    "start_time": "2022-08-04T20:26:41.033Z"
   },
   {
    "duration": 0,
    "start_time": "2022-08-04T20:26:41.034Z"
   },
   {
    "duration": 0,
    "start_time": "2022-08-04T20:26:41.035Z"
   },
   {
    "duration": 0,
    "start_time": "2022-08-04T20:26:41.036Z"
   },
   {
    "duration": 0,
    "start_time": "2022-08-04T20:26:41.038Z"
   },
   {
    "duration": 0,
    "start_time": "2022-08-04T20:26:41.038Z"
   },
   {
    "duration": 0,
    "start_time": "2022-08-04T20:26:41.040Z"
   },
   {
    "duration": 0,
    "start_time": "2022-08-04T20:26:41.041Z"
   },
   {
    "duration": 0,
    "start_time": "2022-08-04T20:26:41.042Z"
   },
   {
    "duration": 0,
    "start_time": "2022-08-04T20:26:41.043Z"
   },
   {
    "duration": 0,
    "start_time": "2022-08-04T20:26:41.044Z"
   },
   {
    "duration": 0,
    "start_time": "2022-08-04T20:26:41.045Z"
   },
   {
    "duration": 0,
    "start_time": "2022-08-04T20:26:41.046Z"
   },
   {
    "duration": 0,
    "start_time": "2022-08-04T20:26:41.047Z"
   },
   {
    "duration": 0,
    "start_time": "2022-08-04T20:26:41.048Z"
   },
   {
    "duration": 0,
    "start_time": "2022-08-04T20:26:41.049Z"
   },
   {
    "duration": 0,
    "start_time": "2022-08-04T20:26:41.050Z"
   },
   {
    "duration": 0,
    "start_time": "2022-08-04T20:26:41.051Z"
   },
   {
    "duration": 0,
    "start_time": "2022-08-04T20:26:41.052Z"
   },
   {
    "duration": 0,
    "start_time": "2022-08-04T20:26:41.053Z"
   },
   {
    "duration": 0,
    "start_time": "2022-08-04T20:26:41.054Z"
   },
   {
    "duration": 0,
    "start_time": "2022-08-04T20:26:41.055Z"
   },
   {
    "duration": 0,
    "start_time": "2022-08-04T20:26:41.101Z"
   },
   {
    "duration": 0,
    "start_time": "2022-08-04T20:26:41.102Z"
   },
   {
    "duration": 0,
    "start_time": "2022-08-04T20:26:41.102Z"
   },
   {
    "duration": 0,
    "start_time": "2022-08-04T20:26:41.103Z"
   },
   {
    "duration": 0,
    "start_time": "2022-08-04T20:26:41.112Z"
   },
   {
    "duration": 0,
    "start_time": "2022-08-04T20:26:41.113Z"
   },
   {
    "duration": 0,
    "start_time": "2022-08-04T20:26:41.114Z"
   },
   {
    "duration": 0,
    "start_time": "2022-08-04T20:26:41.115Z"
   },
   {
    "duration": 0,
    "start_time": "2022-08-04T20:26:41.116Z"
   },
   {
    "duration": 0,
    "start_time": "2022-08-04T20:26:41.123Z"
   },
   {
    "duration": 0,
    "start_time": "2022-08-04T20:26:41.124Z"
   },
   {
    "duration": 0,
    "start_time": "2022-08-04T20:26:41.125Z"
   },
   {
    "duration": 0,
    "start_time": "2022-08-04T20:26:41.126Z"
   },
   {
    "duration": 0,
    "start_time": "2022-08-04T20:26:41.126Z"
   },
   {
    "duration": 0,
    "start_time": "2022-08-04T20:26:41.127Z"
   },
   {
    "duration": 0,
    "start_time": "2022-08-04T20:26:41.128Z"
   },
   {
    "duration": 0,
    "start_time": "2022-08-04T20:26:41.129Z"
   },
   {
    "duration": 0,
    "start_time": "2022-08-04T20:26:41.133Z"
   },
   {
    "duration": 0,
    "start_time": "2022-08-04T20:26:41.134Z"
   },
   {
    "duration": 0,
    "start_time": "2022-08-04T20:26:41.136Z"
   },
   {
    "duration": 0,
    "start_time": "2022-08-04T20:26:41.137Z"
   },
   {
    "duration": 0,
    "start_time": "2022-08-04T20:26:41.138Z"
   },
   {
    "duration": 0,
    "start_time": "2022-08-04T20:26:41.139Z"
   },
   {
    "duration": 0,
    "start_time": "2022-08-04T20:26:41.141Z"
   },
   {
    "duration": 0,
    "start_time": "2022-08-04T20:26:41.142Z"
   },
   {
    "duration": 0,
    "start_time": "2022-08-04T20:26:41.143Z"
   },
   {
    "duration": 0,
    "start_time": "2022-08-04T20:26:41.144Z"
   },
   {
    "duration": 0,
    "start_time": "2022-08-04T20:26:41.145Z"
   },
   {
    "duration": 0,
    "start_time": "2022-08-04T20:26:41.147Z"
   },
   {
    "duration": 0,
    "start_time": "2022-08-04T20:26:41.148Z"
   },
   {
    "duration": 0,
    "start_time": "2022-08-04T20:26:41.149Z"
   },
   {
    "duration": 0,
    "start_time": "2022-08-04T20:26:41.150Z"
   },
   {
    "duration": 0,
    "start_time": "2022-08-04T20:26:41.152Z"
   },
   {
    "duration": 0,
    "start_time": "2022-08-04T20:26:41.153Z"
   },
   {
    "duration": 0,
    "start_time": "2022-08-04T20:26:41.154Z"
   },
   {
    "duration": 0,
    "start_time": "2022-08-04T20:26:41.205Z"
   },
   {
    "duration": 0,
    "start_time": "2022-08-04T20:26:41.206Z"
   },
   {
    "duration": 1,
    "start_time": "2022-08-04T20:26:41.206Z"
   },
   {
    "duration": 0,
    "start_time": "2022-08-04T20:26:41.207Z"
   },
   {
    "duration": 0,
    "start_time": "2022-08-04T20:26:41.208Z"
   },
   {
    "duration": 0,
    "start_time": "2022-08-04T20:26:41.209Z"
   },
   {
    "duration": 0,
    "start_time": "2022-08-04T20:26:41.210Z"
   },
   {
    "duration": 1889,
    "start_time": "2022-08-04T20:27:37.658Z"
   },
   {
    "duration": 2294,
    "start_time": "2022-08-04T20:27:49.988Z"
   },
   {
    "duration": 2861,
    "start_time": "2022-08-04T20:27:56.683Z"
   },
   {
    "duration": 1211,
    "start_time": "2022-08-04T20:28:48.568Z"
   },
   {
    "duration": 3,
    "start_time": "2022-08-04T20:28:49.781Z"
   },
   {
    "duration": 33,
    "start_time": "2022-08-04T20:28:49.786Z"
   },
   {
    "duration": 431,
    "start_time": "2022-08-04T20:28:49.830Z"
   },
   {
    "duration": 52,
    "start_time": "2022-08-04T20:28:50.264Z"
   },
   {
    "duration": 66,
    "start_time": "2022-08-04T20:28:50.322Z"
   },
   {
    "duration": 131,
    "start_time": "2022-08-04T20:28:50.389Z"
   },
   {
    "duration": 0,
    "start_time": "2022-08-04T20:28:50.529Z"
   },
   {
    "duration": 0,
    "start_time": "2022-08-04T20:28:50.531Z"
   },
   {
    "duration": 0,
    "start_time": "2022-08-04T20:28:50.532Z"
   },
   {
    "duration": 0,
    "start_time": "2022-08-04T20:28:50.533Z"
   },
   {
    "duration": 0,
    "start_time": "2022-08-04T20:28:50.535Z"
   },
   {
    "duration": 0,
    "start_time": "2022-08-04T20:28:50.536Z"
   },
   {
    "duration": 0,
    "start_time": "2022-08-04T20:28:50.537Z"
   },
   {
    "duration": 0,
    "start_time": "2022-08-04T20:28:50.538Z"
   },
   {
    "duration": 0,
    "start_time": "2022-08-04T20:28:50.539Z"
   },
   {
    "duration": 0,
    "start_time": "2022-08-04T20:28:50.540Z"
   },
   {
    "duration": 0,
    "start_time": "2022-08-04T20:28:50.541Z"
   },
   {
    "duration": 0,
    "start_time": "2022-08-04T20:28:50.542Z"
   },
   {
    "duration": 0,
    "start_time": "2022-08-04T20:28:50.543Z"
   },
   {
    "duration": 0,
    "start_time": "2022-08-04T20:28:50.543Z"
   },
   {
    "duration": 0,
    "start_time": "2022-08-04T20:28:50.545Z"
   },
   {
    "duration": 0,
    "start_time": "2022-08-04T20:28:50.546Z"
   },
   {
    "duration": 0,
    "start_time": "2022-08-04T20:28:50.547Z"
   },
   {
    "duration": 0,
    "start_time": "2022-08-04T20:28:50.548Z"
   },
   {
    "duration": 0,
    "start_time": "2022-08-04T20:28:50.549Z"
   },
   {
    "duration": 0,
    "start_time": "2022-08-04T20:28:50.551Z"
   },
   {
    "duration": 0,
    "start_time": "2022-08-04T20:28:50.552Z"
   },
   {
    "duration": 0,
    "start_time": "2022-08-04T20:28:50.553Z"
   },
   {
    "duration": 0,
    "start_time": "2022-08-04T20:28:50.554Z"
   },
   {
    "duration": 0,
    "start_time": "2022-08-04T20:28:50.555Z"
   },
   {
    "duration": 0,
    "start_time": "2022-08-04T20:28:50.556Z"
   },
   {
    "duration": 0,
    "start_time": "2022-08-04T20:28:50.606Z"
   },
   {
    "duration": 0,
    "start_time": "2022-08-04T20:28:50.612Z"
   },
   {
    "duration": 0,
    "start_time": "2022-08-04T20:28:50.613Z"
   },
   {
    "duration": 0,
    "start_time": "2022-08-04T20:28:50.615Z"
   },
   {
    "duration": 0,
    "start_time": "2022-08-04T20:28:50.616Z"
   },
   {
    "duration": 0,
    "start_time": "2022-08-04T20:28:50.617Z"
   },
   {
    "duration": 0,
    "start_time": "2022-08-04T20:28:50.618Z"
   },
   {
    "duration": 0,
    "start_time": "2022-08-04T20:28:50.620Z"
   },
   {
    "duration": 0,
    "start_time": "2022-08-04T20:28:50.621Z"
   },
   {
    "duration": 0,
    "start_time": "2022-08-04T20:28:50.622Z"
   },
   {
    "duration": 0,
    "start_time": "2022-08-04T20:28:50.624Z"
   },
   {
    "duration": 0,
    "start_time": "2022-08-04T20:28:50.625Z"
   },
   {
    "duration": 0,
    "start_time": "2022-08-04T20:28:50.626Z"
   },
   {
    "duration": 0,
    "start_time": "2022-08-04T20:28:50.627Z"
   },
   {
    "duration": 0,
    "start_time": "2022-08-04T20:28:50.628Z"
   },
   {
    "duration": 0,
    "start_time": "2022-08-04T20:28:50.630Z"
   },
   {
    "duration": 0,
    "start_time": "2022-08-04T20:28:50.631Z"
   },
   {
    "duration": 0,
    "start_time": "2022-08-04T20:28:50.632Z"
   },
   {
    "duration": 0,
    "start_time": "2022-08-04T20:28:50.633Z"
   },
   {
    "duration": 0,
    "start_time": "2022-08-04T20:28:50.635Z"
   },
   {
    "duration": 0,
    "start_time": "2022-08-04T20:28:50.636Z"
   },
   {
    "duration": 0,
    "start_time": "2022-08-04T20:28:50.637Z"
   },
   {
    "duration": 0,
    "start_time": "2022-08-04T20:28:50.638Z"
   },
   {
    "duration": 0,
    "start_time": "2022-08-04T20:28:50.639Z"
   },
   {
    "duration": 0,
    "start_time": "2022-08-04T20:28:50.641Z"
   },
   {
    "duration": 0,
    "start_time": "2022-08-04T20:28:50.642Z"
   },
   {
    "duration": 0,
    "start_time": "2022-08-04T20:28:50.643Z"
   },
   {
    "duration": 0,
    "start_time": "2022-08-04T20:28:50.644Z"
   },
   {
    "duration": 0,
    "start_time": "2022-08-04T20:28:50.645Z"
   },
   {
    "duration": 0,
    "start_time": "2022-08-04T20:28:50.646Z"
   },
   {
    "duration": 0,
    "start_time": "2022-08-04T20:28:50.648Z"
   },
   {
    "duration": 0,
    "start_time": "2022-08-04T20:28:50.649Z"
   },
   {
    "duration": 0,
    "start_time": "2022-08-04T20:28:50.651Z"
   },
   {
    "duration": 0,
    "start_time": "2022-08-04T20:28:50.652Z"
   },
   {
    "duration": 0,
    "start_time": "2022-08-04T20:28:50.706Z"
   },
   {
    "duration": 0,
    "start_time": "2022-08-04T20:28:50.707Z"
   },
   {
    "duration": 0,
    "start_time": "2022-08-04T20:28:50.707Z"
   },
   {
    "duration": 0,
    "start_time": "2022-08-04T20:28:50.713Z"
   },
   {
    "duration": 0,
    "start_time": "2022-08-04T20:28:50.714Z"
   },
   {
    "duration": 0,
    "start_time": "2022-08-04T20:28:50.715Z"
   },
   {
    "duration": 0,
    "start_time": "2022-08-04T20:28:50.716Z"
   },
   {
    "duration": 0,
    "start_time": "2022-08-04T20:28:50.716Z"
   },
   {
    "duration": 0,
    "start_time": "2022-08-04T20:28:50.717Z"
   },
   {
    "duration": 0,
    "start_time": "2022-08-04T20:28:50.718Z"
   },
   {
    "duration": 0,
    "start_time": "2022-08-04T20:28:50.719Z"
   },
   {
    "duration": 0,
    "start_time": "2022-08-04T20:28:50.725Z"
   },
   {
    "duration": 1,
    "start_time": "2022-08-04T20:28:50.725Z"
   },
   {
    "duration": 0,
    "start_time": "2022-08-04T20:28:50.726Z"
   },
   {
    "duration": 0,
    "start_time": "2022-08-04T20:28:50.728Z"
   },
   {
    "duration": 0,
    "start_time": "2022-08-04T20:28:50.728Z"
   },
   {
    "duration": 0,
    "start_time": "2022-08-04T20:28:50.730Z"
   },
   {
    "duration": 0,
    "start_time": "2022-08-04T20:28:50.731Z"
   },
   {
    "duration": 0,
    "start_time": "2022-08-04T20:28:50.732Z"
   },
   {
    "duration": 0,
    "start_time": "2022-08-04T20:28:50.733Z"
   },
   {
    "duration": 0,
    "start_time": "2022-08-04T20:28:50.734Z"
   },
   {
    "duration": 0,
    "start_time": "2022-08-04T20:28:50.734Z"
   },
   {
    "duration": 0,
    "start_time": "2022-08-04T20:28:50.735Z"
   },
   {
    "duration": 0,
    "start_time": "2022-08-04T20:28:50.736Z"
   },
   {
    "duration": 0,
    "start_time": "2022-08-04T20:28:50.738Z"
   },
   {
    "duration": 0,
    "start_time": "2022-08-04T20:28:50.740Z"
   },
   {
    "duration": 0,
    "start_time": "2022-08-04T20:28:50.741Z"
   },
   {
    "duration": 0,
    "start_time": "2022-08-04T20:28:50.742Z"
   },
   {
    "duration": 0,
    "start_time": "2022-08-04T20:28:50.745Z"
   },
   {
    "duration": 0,
    "start_time": "2022-08-04T20:28:50.745Z"
   },
   {
    "duration": 0,
    "start_time": "2022-08-04T20:28:50.747Z"
   },
   {
    "duration": 0,
    "start_time": "2022-08-04T20:28:50.747Z"
   },
   {
    "duration": 0,
    "start_time": "2022-08-04T20:28:50.749Z"
   },
   {
    "duration": 0,
    "start_time": "2022-08-04T20:28:50.803Z"
   },
   {
    "duration": 0,
    "start_time": "2022-08-04T20:28:50.803Z"
   },
   {
    "duration": 0,
    "start_time": "2022-08-04T20:28:50.804Z"
   },
   {
    "duration": 0,
    "start_time": "2022-08-04T20:28:50.805Z"
   },
   {
    "duration": 0,
    "start_time": "2022-08-04T20:28:50.806Z"
   },
   {
    "duration": 0,
    "start_time": "2022-08-04T20:28:50.806Z"
   },
   {
    "duration": 0,
    "start_time": "2022-08-04T20:28:50.807Z"
   },
   {
    "duration": 0,
    "start_time": "2022-08-04T20:28:50.808Z"
   },
   {
    "duration": 0,
    "start_time": "2022-08-04T20:28:50.808Z"
   },
   {
    "duration": 0,
    "start_time": "2022-08-04T20:28:50.809Z"
   },
   {
    "duration": 0,
    "start_time": "2022-08-04T20:28:50.810Z"
   },
   {
    "duration": 0,
    "start_time": "2022-08-04T20:28:50.810Z"
   },
   {
    "duration": 0,
    "start_time": "2022-08-04T20:28:50.811Z"
   },
   {
    "duration": 0,
    "start_time": "2022-08-04T20:28:50.812Z"
   },
   {
    "duration": 0,
    "start_time": "2022-08-04T20:28:50.812Z"
   },
   {
    "duration": 0,
    "start_time": "2022-08-04T20:28:50.813Z"
   },
   {
    "duration": 0,
    "start_time": "2022-08-04T20:28:50.815Z"
   },
   {
    "duration": 0,
    "start_time": "2022-08-04T20:28:50.816Z"
   },
   {
    "duration": 0,
    "start_time": "2022-08-04T20:28:50.821Z"
   },
   {
    "duration": 0,
    "start_time": "2022-08-04T20:28:50.821Z"
   },
   {
    "duration": 0,
    "start_time": "2022-08-04T20:28:50.822Z"
   },
   {
    "duration": 0,
    "start_time": "2022-08-04T20:28:50.828Z"
   },
   {
    "duration": 0,
    "start_time": "2022-08-04T20:28:50.829Z"
   },
   {
    "duration": 0,
    "start_time": "2022-08-04T20:28:50.829Z"
   },
   {
    "duration": 0,
    "start_time": "2022-08-04T20:28:50.830Z"
   },
   {
    "duration": 0,
    "start_time": "2022-08-04T20:28:50.831Z"
   },
   {
    "duration": 0,
    "start_time": "2022-08-04T20:28:50.831Z"
   },
   {
    "duration": 0,
    "start_time": "2022-08-04T20:28:50.832Z"
   },
   {
    "duration": 0,
    "start_time": "2022-08-04T20:28:50.836Z"
   },
   {
    "duration": 0,
    "start_time": "2022-08-04T20:28:50.837Z"
   },
   {
    "duration": 0,
    "start_time": "2022-08-04T20:28:50.839Z"
   },
   {
    "duration": 0,
    "start_time": "2022-08-04T20:28:50.841Z"
   },
   {
    "duration": 0,
    "start_time": "2022-08-04T20:28:50.842Z"
   },
   {
    "duration": 0,
    "start_time": "2022-08-04T20:28:50.843Z"
   },
   {
    "duration": 0,
    "start_time": "2022-08-04T20:28:50.844Z"
   },
   {
    "duration": 0,
    "start_time": "2022-08-04T20:28:50.845Z"
   },
   {
    "duration": 0,
    "start_time": "2022-08-04T20:28:50.845Z"
   },
   {
    "duration": 0,
    "start_time": "2022-08-04T20:28:50.846Z"
   },
   {
    "duration": 0,
    "start_time": "2022-08-04T20:28:50.847Z"
   },
   {
    "duration": 5116,
    "start_time": "2022-08-04T20:29:03.926Z"
   },
   {
    "duration": 11,
    "start_time": "2022-08-04T20:29:11.724Z"
   },
   {
    "duration": 15,
    "start_time": "2022-08-04T20:29:11.923Z"
   },
   {
    "duration": 7,
    "start_time": "2022-08-04T20:29:12.127Z"
   },
   {
    "duration": 6,
    "start_time": "2022-08-04T20:29:18.386Z"
   },
   {
    "duration": 34,
    "start_time": "2022-08-04T20:29:19.125Z"
   },
   {
    "duration": 28,
    "start_time": "2022-08-04T20:29:19.327Z"
   },
   {
    "duration": 14,
    "start_time": "2022-08-04T20:29:19.535Z"
   },
   {
    "duration": 13,
    "start_time": "2022-08-04T20:29:19.726Z"
   },
   {
    "duration": 16,
    "start_time": "2022-08-04T20:29:19.892Z"
   },
   {
    "duration": 26,
    "start_time": "2022-08-04T20:29:20.069Z"
   },
   {
    "duration": 81,
    "start_time": "2022-08-04T20:29:20.260Z"
   },
   {
    "duration": 11,
    "start_time": "2022-08-04T20:29:20.660Z"
   },
   {
    "duration": 6,
    "start_time": "2022-08-04T20:29:21.159Z"
   },
   {
    "duration": 10,
    "start_time": "2022-08-04T20:29:21.226Z"
   },
   {
    "duration": 22,
    "start_time": "2022-08-04T20:29:21.354Z"
   },
   {
    "duration": 20,
    "start_time": "2022-08-04T20:29:21.452Z"
   },
   {
    "duration": 5,
    "start_time": "2022-08-04T20:29:21.659Z"
   },
   {
    "duration": 10,
    "start_time": "2022-08-04T20:29:21.725Z"
   },
   {
    "duration": 234,
    "start_time": "2022-08-04T20:29:21.827Z"
   },
   {
    "duration": 108,
    "start_time": "2022-08-04T20:29:22.063Z"
   },
   {
    "duration": 56,
    "start_time": "2022-08-04T20:29:22.173Z"
   },
   {
    "duration": 45,
    "start_time": "2022-08-04T20:29:22.231Z"
   },
   {
    "duration": 4,
    "start_time": "2022-08-04T20:29:22.277Z"
   },
   {
    "duration": 24,
    "start_time": "2022-08-04T20:29:22.283Z"
   },
   {
    "duration": 50,
    "start_time": "2022-08-04T20:29:22.317Z"
   },
   {
    "duration": 8,
    "start_time": "2022-08-04T20:29:22.369Z"
   },
   {
    "duration": 8,
    "start_time": "2022-08-04T20:29:22.382Z"
   },
   {
    "duration": 19,
    "start_time": "2022-08-04T20:29:22.444Z"
   },
   {
    "duration": 25,
    "start_time": "2022-08-04T20:29:22.546Z"
   },
   {
    "duration": 12,
    "start_time": "2022-08-04T20:29:22.609Z"
   },
   {
    "duration": 90,
    "start_time": "2022-08-04T20:29:22.666Z"
   },
   {
    "duration": 33,
    "start_time": "2022-08-04T20:29:25.041Z"
   },
   {
    "duration": 13,
    "start_time": "2022-08-04T20:29:25.232Z"
   },
   {
    "duration": 162,
    "start_time": "2022-08-04T20:29:25.635Z"
   },
   {
    "duration": 3,
    "start_time": "2022-08-04T20:29:25.840Z"
   },
   {
    "duration": 9,
    "start_time": "2022-08-04T20:29:26.056Z"
   },
   {
    "duration": 55,
    "start_time": "2022-08-04T20:29:26.269Z"
   },
   {
    "duration": 10,
    "start_time": "2022-08-04T20:29:26.482Z"
   },
   {
    "duration": 24,
    "start_time": "2022-08-04T20:29:26.684Z"
   },
   {
    "duration": 15,
    "start_time": "2022-08-04T20:29:26.922Z"
   },
   {
    "duration": 5,
    "start_time": "2022-08-04T20:29:27.530Z"
   },
   {
    "duration": 8,
    "start_time": "2022-08-04T20:29:27.726Z"
   },
   {
    "duration": 11,
    "start_time": "2022-08-04T20:29:27.932Z"
   },
   {
    "duration": 7,
    "start_time": "2022-08-04T20:29:28.155Z"
   },
   {
    "duration": 4,
    "start_time": "2022-08-04T20:29:28.374Z"
   },
   {
    "duration": 14,
    "start_time": "2022-08-04T20:29:28.592Z"
   },
   {
    "duration": 4,
    "start_time": "2022-08-04T20:29:28.778Z"
   },
   {
    "duration": 16,
    "start_time": "2022-08-04T20:29:28.989Z"
   },
   {
    "duration": 34,
    "start_time": "2022-08-04T20:29:29.223Z"
   },
   {
    "duration": 11,
    "start_time": "2022-08-04T20:29:29.424Z"
   },
   {
    "duration": 4,
    "start_time": "2022-08-04T20:29:29.635Z"
   },
   {
    "duration": 43,
    "start_time": "2022-08-04T20:29:30.495Z"
   },
   {
    "duration": 6,
    "start_time": "2022-08-04T20:29:30.721Z"
   },
   {
    "duration": 98,
    "start_time": "2022-08-04T20:29:30.930Z"
   },
   {
    "duration": 9,
    "start_time": "2022-08-04T20:29:31.157Z"
   },
   {
    "duration": 4,
    "start_time": "2022-08-04T20:29:31.376Z"
   },
   {
    "duration": 9,
    "start_time": "2022-08-04T20:29:31.570Z"
   },
   {
    "duration": 41,
    "start_time": "2022-08-04T20:29:31.785Z"
   },
   {
    "duration": 320,
    "start_time": "2022-08-04T20:29:32.632Z"
   },
   {
    "duration": 10,
    "start_time": "2022-08-04T20:29:33.526Z"
   },
   {
    "duration": 37,
    "start_time": "2022-08-04T20:29:33.725Z"
   },
   {
    "duration": 4,
    "start_time": "2022-08-04T20:29:33.939Z"
   },
   {
    "duration": 17,
    "start_time": "2022-08-04T20:29:34.150Z"
   },
   {
    "duration": 27,
    "start_time": "2022-08-04T20:29:34.358Z"
   },
   {
    "duration": 5,
    "start_time": "2022-08-04T20:29:34.563Z"
   },
   {
    "duration": 5,
    "start_time": "2022-08-04T20:29:34.772Z"
   },
   {
    "duration": 5,
    "start_time": "2022-08-04T20:29:34.986Z"
   },
   {
    "duration": 13,
    "start_time": "2022-08-04T20:29:35.222Z"
   },
   {
    "duration": 13,
    "start_time": "2022-08-04T20:29:35.428Z"
   },
   {
    "duration": 280,
    "start_time": "2022-08-04T20:29:35.648Z"
   },
   {
    "duration": 3,
    "start_time": "2022-08-04T20:29:36.076Z"
   },
   {
    "duration": 6,
    "start_time": "2022-08-04T20:29:36.272Z"
   },
   {
    "duration": 10,
    "start_time": "2022-08-04T20:29:36.477Z"
   },
   {
    "duration": 10,
    "start_time": "2022-08-04T20:29:36.925Z"
   },
   {
    "duration": 8,
    "start_time": "2022-08-04T20:29:37.126Z"
   },
   {
    "duration": 17,
    "start_time": "2022-08-04T20:29:37.336Z"
   },
   {
    "duration": 12,
    "start_time": "2022-08-04T20:29:37.556Z"
   },
   {
    "duration": 16,
    "start_time": "2022-08-04T20:29:37.773Z"
   },
   {
    "duration": 379,
    "start_time": "2022-08-04T20:29:38.029Z"
   },
   {
    "duration": 428,
    "start_time": "2022-08-04T20:29:38.421Z"
   },
   {
    "duration": 13,
    "start_time": "2022-08-04T20:29:38.851Z"
   },
   {
    "duration": 10,
    "start_time": "2022-08-04T20:29:38.876Z"
   },
   {
    "duration": 30,
    "start_time": "2022-08-04T20:29:39.596Z"
   },
   {
    "duration": 22,
    "start_time": "2022-08-04T20:29:39.833Z"
   },
   {
    "duration": 93,
    "start_time": "2022-08-04T20:29:40.057Z"
   },
   {
    "duration": 4,
    "start_time": "2022-08-04T20:29:40.258Z"
   },
   {
    "duration": 14,
    "start_time": "2022-08-04T20:29:40.525Z"
   },
   {
    "duration": 457,
    "start_time": "2022-08-04T20:29:40.731Z"
   },
   {
    "duration": 11,
    "start_time": "2022-08-04T20:29:41.393Z"
   },
   {
    "duration": 339,
    "start_time": "2022-08-04T20:29:41.628Z"
   },
   {
    "duration": 3,
    "start_time": "2022-08-04T20:29:42.542Z"
   },
   {
    "duration": 77,
    "start_time": "2022-08-04T20:29:42.739Z"
   },
   {
    "duration": 19,
    "start_time": "2022-08-04T20:29:42.994Z"
   },
   {
    "duration": 5,
    "start_time": "2022-08-04T20:29:43.188Z"
   },
   {
    "duration": 14,
    "start_time": "2022-08-04T20:29:43.425Z"
   },
   {
    "duration": 8,
    "start_time": "2022-08-04T20:29:43.637Z"
   },
   {
    "duration": 285,
    "start_time": "2022-08-04T20:29:43.869Z"
   },
   {
    "duration": 143,
    "start_time": "2022-08-04T20:29:45.500Z"
   },
   {
    "duration": 8,
    "start_time": "2022-08-04T20:29:45.741Z"
   },
   {
    "duration": 54,
    "start_time": "2022-08-04T20:29:45.993Z"
   },
   {
    "duration": 35,
    "start_time": "2022-08-04T20:29:46.161Z"
   },
   {
    "duration": 10,
    "start_time": "2022-08-04T20:29:46.383Z"
   },
   {
    "duration": 11,
    "start_time": "2022-08-04T20:29:46.626Z"
   },
   {
    "duration": 15,
    "start_time": "2022-08-04T20:29:46.838Z"
   },
   {
    "duration": 43,
    "start_time": "2022-08-04T20:29:47.049Z"
   },
   {
    "duration": 12,
    "start_time": "2022-08-04T20:29:47.261Z"
   },
   {
    "duration": 11,
    "start_time": "2022-08-04T20:29:47.479Z"
   },
   {
    "duration": 6,
    "start_time": "2022-08-04T20:29:47.727Z"
   },
   {
    "duration": 9,
    "start_time": "2022-08-04T20:29:47.951Z"
   },
   {
    "duration": 4,
    "start_time": "2022-08-04T20:29:48.155Z"
   },
   {
    "duration": 6,
    "start_time": "2022-08-04T20:29:48.586Z"
   },
   {
    "duration": 3,
    "start_time": "2022-08-04T20:29:49.030Z"
   },
   {
    "duration": 3,
    "start_time": "2022-08-04T20:29:49.255Z"
   },
   {
    "duration": 3,
    "start_time": "2022-08-04T20:29:49.478Z"
   },
   {
    "duration": 3,
    "start_time": "2022-08-04T20:29:49.694Z"
   },
   {
    "duration": 37,
    "start_time": "2022-08-04T20:29:51.460Z"
   },
   {
    "duration": 8,
    "start_time": "2022-08-04T20:29:51.686Z"
   },
   {
    "duration": 18,
    "start_time": "2022-08-04T20:29:51.924Z"
   },
   {
    "duration": 4,
    "start_time": "2022-08-04T20:29:52.147Z"
   },
   {
    "duration": 7,
    "start_time": "2022-08-04T20:29:52.385Z"
   },
   {
    "duration": 15,
    "start_time": "2022-08-04T20:29:52.625Z"
   },
   {
    "duration": 12,
    "start_time": "2022-08-04T20:29:52.840Z"
   },
   {
    "duration": 12,
    "start_time": "2022-08-04T20:29:53.063Z"
   },
   {
    "duration": 11,
    "start_time": "2022-08-04T20:29:53.275Z"
   },
   {
    "duration": 21,
    "start_time": "2022-08-04T20:29:53.528Z"
   },
   {
    "duration": 16,
    "start_time": "2022-08-04T20:29:53.749Z"
   },
   {
    "duration": 9,
    "start_time": "2022-08-04T20:29:53.968Z"
   },
   {
    "duration": 29,
    "start_time": "2022-08-04T20:29:54.391Z"
   },
   {
    "duration": 2,
    "start_time": "2022-08-04T20:29:54.837Z"
   },
   {
    "duration": 3,
    "start_time": "2022-08-04T20:29:55.065Z"
   },
   {
    "duration": 4,
    "start_time": "2022-08-04T20:29:55.291Z"
   },
   {
    "duration": 4,
    "start_time": "2022-08-04T20:29:55.529Z"
   },
   {
    "duration": 192,
    "start_time": "2022-08-04T20:29:55.982Z"
   },
   {
    "duration": 228,
    "start_time": "2022-08-04T20:29:56.200Z"
   },
   {
    "duration": 1489,
    "start_time": "2022-08-05T14:56:47.021Z"
   },
   {
    "duration": 2,
    "start_time": "2022-08-05T14:56:48.512Z"
   },
   {
    "duration": 8,
    "start_time": "2022-08-05T14:56:48.516Z"
   },
   {
    "duration": 6696,
    "start_time": "2022-08-05T14:56:48.525Z"
   },
   {
    "duration": 10,
    "start_time": "2022-08-05T14:56:55.223Z"
   },
   {
    "duration": 15,
    "start_time": "2022-08-05T14:56:55.234Z"
   },
   {
    "duration": 6,
    "start_time": "2022-08-05T14:56:55.250Z"
   },
   {
    "duration": 6,
    "start_time": "2022-08-05T14:56:55.257Z"
   },
   {
    "duration": 29,
    "start_time": "2022-08-05T14:56:55.264Z"
   },
   {
    "duration": 24,
    "start_time": "2022-08-05T14:56:55.295Z"
   },
   {
    "duration": 11,
    "start_time": "2022-08-05T14:56:55.320Z"
   },
   {
    "duration": 28,
    "start_time": "2022-08-05T14:56:55.332Z"
   },
   {
    "duration": 12,
    "start_time": "2022-08-05T14:56:55.362Z"
   },
   {
    "duration": 27,
    "start_time": "2022-08-05T14:56:55.375Z"
   },
   {
    "duration": 69,
    "start_time": "2022-08-05T14:56:55.403Z"
   },
   {
    "duration": 9,
    "start_time": "2022-08-05T14:56:55.474Z"
   },
   {
    "duration": 7,
    "start_time": "2022-08-05T14:56:55.485Z"
   },
   {
    "duration": 15,
    "start_time": "2022-08-05T14:56:55.493Z"
   },
   {
    "duration": 19,
    "start_time": "2022-08-05T14:56:55.509Z"
   },
   {
    "duration": 35,
    "start_time": "2022-08-05T14:56:55.530Z"
   },
   {
    "duration": 5,
    "start_time": "2022-08-05T14:56:55.566Z"
   },
   {
    "duration": 12,
    "start_time": "2022-08-05T14:56:55.573Z"
   },
   {
    "duration": 185,
    "start_time": "2022-08-05T14:56:55.587Z"
   },
   {
    "duration": 73,
    "start_time": "2022-08-05T14:56:55.774Z"
   },
   {
    "duration": 28,
    "start_time": "2022-08-05T14:56:55.855Z"
   },
   {
    "duration": 32,
    "start_time": "2022-08-05T14:56:55.885Z"
   },
   {
    "duration": 4,
    "start_time": "2022-08-05T14:56:55.918Z"
   },
   {
    "duration": 32,
    "start_time": "2022-08-05T14:56:55.926Z"
   },
   {
    "duration": 30,
    "start_time": "2022-08-05T14:56:55.960Z"
   },
   {
    "duration": 8,
    "start_time": "2022-08-05T14:56:55.991Z"
   },
   {
    "duration": 8,
    "start_time": "2022-08-05T14:56:56.000Z"
   },
   {
    "duration": 18,
    "start_time": "2022-08-05T14:56:56.009Z"
   },
   {
    "duration": 35,
    "start_time": "2022-08-05T14:56:56.028Z"
   },
   {
    "duration": 2,
    "start_time": "2022-08-05T14:56:56.065Z"
   },
   {
    "duration": 70,
    "start_time": "2022-08-05T14:56:56.069Z"
   },
   {
    "duration": 46,
    "start_time": "2022-08-05T14:56:56.140Z"
   },
   {
    "duration": 9,
    "start_time": "2022-08-05T14:56:56.188Z"
   },
   {
    "duration": 137,
    "start_time": "2022-08-05T14:56:56.198Z"
   },
   {
    "duration": 2,
    "start_time": "2022-08-05T14:56:56.337Z"
   },
   {
    "duration": 16,
    "start_time": "2022-08-05T14:56:56.341Z"
   },
   {
    "duration": 37,
    "start_time": "2022-08-05T14:56:56.359Z"
   },
   {
    "duration": 10,
    "start_time": "2022-08-05T14:56:56.397Z"
   },
   {
    "duration": 19,
    "start_time": "2022-08-05T14:56:56.409Z"
   },
   {
    "duration": 5,
    "start_time": "2022-08-05T14:56:56.430Z"
   },
   {
    "duration": 6,
    "start_time": "2022-08-05T14:56:56.436Z"
   },
   {
    "duration": 6,
    "start_time": "2022-08-05T14:56:56.455Z"
   },
   {
    "duration": 13,
    "start_time": "2022-08-05T14:56:56.462Z"
   },
   {
    "duration": 8,
    "start_time": "2022-08-05T14:56:56.476Z"
   },
   {
    "duration": 7,
    "start_time": "2022-08-05T14:56:56.486Z"
   },
   {
    "duration": 11,
    "start_time": "2022-08-05T14:56:56.494Z"
   },
   {
    "duration": 5,
    "start_time": "2022-08-05T14:56:56.506Z"
   },
   {
    "duration": 9,
    "start_time": "2022-08-05T14:56:56.512Z"
   },
   {
    "duration": 44,
    "start_time": "2022-08-05T14:56:56.523Z"
   },
   {
    "duration": 11,
    "start_time": "2022-08-05T14:56:56.569Z"
   },
   {
    "duration": 5,
    "start_time": "2022-08-05T14:56:56.581Z"
   },
   {
    "duration": 31,
    "start_time": "2022-08-05T14:56:56.588Z"
   },
   {
    "duration": 3,
    "start_time": "2022-08-05T14:56:56.621Z"
   },
   {
    "duration": 76,
    "start_time": "2022-08-05T14:56:56.626Z"
   },
   {
    "duration": 8,
    "start_time": "2022-08-05T14:56:56.703Z"
   },
   {
    "duration": 4,
    "start_time": "2022-08-05T14:56:56.713Z"
   },
   {
    "duration": 10,
    "start_time": "2022-08-05T14:56:56.718Z"
   },
   {
    "duration": 26,
    "start_time": "2022-08-05T14:56:56.730Z"
   },
   {
    "duration": 356,
    "start_time": "2022-08-05T14:56:56.757Z"
   },
   {
    "duration": 10,
    "start_time": "2022-08-05T14:56:57.114Z"
   },
   {
    "duration": 36,
    "start_time": "2022-08-05T14:56:57.126Z"
   },
   {
    "duration": 3,
    "start_time": "2022-08-05T14:56:57.164Z"
   },
   {
    "duration": 23,
    "start_time": "2022-08-05T14:56:57.168Z"
   },
   {
    "duration": 18,
    "start_time": "2022-08-05T14:56:57.192Z"
   },
   {
    "duration": 4,
    "start_time": "2022-08-05T14:56:57.211Z"
   },
   {
    "duration": 5,
    "start_time": "2022-08-05T14:56:57.217Z"
   },
   {
    "duration": 7,
    "start_time": "2022-08-05T14:56:57.224Z"
   },
   {
    "duration": 25,
    "start_time": "2022-08-05T14:56:57.233Z"
   },
   {
    "duration": 22,
    "start_time": "2022-08-05T14:56:57.259Z"
   },
   {
    "duration": 357,
    "start_time": "2022-08-05T14:56:57.283Z"
   },
   {
    "duration": 12,
    "start_time": "2022-08-05T14:56:57.642Z"
   },
   {
    "duration": 5,
    "start_time": "2022-08-05T14:56:57.656Z"
   },
   {
    "duration": 9,
    "start_time": "2022-08-05T14:56:57.663Z"
   },
   {
    "duration": 12,
    "start_time": "2022-08-05T14:56:57.673Z"
   },
   {
    "duration": 12,
    "start_time": "2022-08-05T14:56:57.686Z"
   },
   {
    "duration": 7,
    "start_time": "2022-08-05T14:56:57.700Z"
   },
   {
    "duration": 12,
    "start_time": "2022-08-05T14:56:57.709Z"
   },
   {
    "duration": 332,
    "start_time": "2022-08-05T14:56:57.726Z"
   },
   {
    "duration": 298,
    "start_time": "2022-08-05T14:56:58.059Z"
   },
   {
    "duration": 11,
    "start_time": "2022-08-05T14:56:58.359Z"
   },
   {
    "duration": 9,
    "start_time": "2022-08-05T14:56:58.371Z"
   },
   {
    "duration": 15,
    "start_time": "2022-08-05T14:56:58.382Z"
   },
   {
    "duration": 20,
    "start_time": "2022-08-05T14:56:58.399Z"
   },
   {
    "duration": 89,
    "start_time": "2022-08-05T14:56:58.421Z"
   },
   {
    "duration": 4,
    "start_time": "2022-08-05T14:56:58.511Z"
   },
   {
    "duration": 14,
    "start_time": "2022-08-05T14:56:58.516Z"
   },
   {
    "duration": 391,
    "start_time": "2022-08-05T14:56:58.531Z"
   },
   {
    "duration": 9,
    "start_time": "2022-08-05T14:56:58.924Z"
   },
   {
    "duration": 393,
    "start_time": "2022-08-05T14:56:58.934Z"
   },
   {
    "duration": 3,
    "start_time": "2022-08-05T14:56:59.328Z"
   },
   {
    "duration": 68,
    "start_time": "2022-08-05T14:56:59.333Z"
   },
   {
    "duration": 8,
    "start_time": "2022-08-05T14:56:59.403Z"
   },
   {
    "duration": 14,
    "start_time": "2022-08-05T14:56:59.413Z"
   },
   {
    "duration": 36,
    "start_time": "2022-08-05T14:56:59.428Z"
   },
   {
    "duration": 18,
    "start_time": "2022-08-05T14:56:59.465Z"
   },
   {
    "duration": 313,
    "start_time": "2022-08-05T14:56:59.484Z"
   },
   {
    "duration": 102,
    "start_time": "2022-08-05T14:56:59.798Z"
   },
   {
    "duration": 7,
    "start_time": "2022-08-05T14:56:59.901Z"
   },
   {
    "duration": 38,
    "start_time": "2022-08-05T14:56:59.909Z"
   },
   {
    "duration": 37,
    "start_time": "2022-08-05T14:56:59.949Z"
   },
   {
    "duration": 11,
    "start_time": "2022-08-05T14:56:59.987Z"
   },
   {
    "duration": 26,
    "start_time": "2022-08-05T14:57:00.000Z"
   },
   {
    "duration": 30,
    "start_time": "2022-08-05T14:57:00.027Z"
   },
   {
    "duration": 46,
    "start_time": "2022-08-05T14:57:00.058Z"
   },
   {
    "duration": 24,
    "start_time": "2022-08-05T14:57:00.106Z"
   },
   {
    "duration": 21,
    "start_time": "2022-08-05T14:57:00.132Z"
   },
   {
    "duration": 13,
    "start_time": "2022-08-05T14:57:00.155Z"
   },
   {
    "duration": 22,
    "start_time": "2022-08-05T14:57:00.170Z"
   },
   {
    "duration": 7,
    "start_time": "2022-08-05T14:57:00.194Z"
   },
   {
    "duration": 17,
    "start_time": "2022-08-05T14:57:00.203Z"
   },
   {
    "duration": 10,
    "start_time": "2022-08-05T14:57:00.221Z"
   },
   {
    "duration": 12,
    "start_time": "2022-08-05T14:57:00.233Z"
   },
   {
    "duration": 16,
    "start_time": "2022-08-05T14:57:00.246Z"
   },
   {
    "duration": 9,
    "start_time": "2022-08-05T14:57:00.264Z"
   },
   {
    "duration": 38,
    "start_time": "2022-08-05T14:57:00.274Z"
   },
   {
    "duration": 6,
    "start_time": "2022-08-05T14:57:00.314Z"
   },
   {
    "duration": 27,
    "start_time": "2022-08-05T14:57:00.322Z"
   },
   {
    "duration": 3,
    "start_time": "2022-08-05T14:57:00.350Z"
   },
   {
    "duration": 13,
    "start_time": "2022-08-05T14:57:00.354Z"
   },
   {
    "duration": 24,
    "start_time": "2022-08-05T14:57:00.368Z"
   },
   {
    "duration": 9,
    "start_time": "2022-08-05T14:57:00.393Z"
   },
   {
    "duration": 14,
    "start_time": "2022-08-05T14:57:00.403Z"
   },
   {
    "duration": 17,
    "start_time": "2022-08-05T14:57:00.419Z"
   },
   {
    "duration": 25,
    "start_time": "2022-08-05T14:57:00.438Z"
   },
   {
    "duration": 17,
    "start_time": "2022-08-05T14:57:00.464Z"
   },
   {
    "duration": 11,
    "start_time": "2022-08-05T14:57:00.483Z"
   },
   {
    "duration": 18,
    "start_time": "2022-08-05T14:57:00.495Z"
   },
   {
    "duration": 19,
    "start_time": "2022-08-05T14:57:00.515Z"
   },
   {
    "duration": 22,
    "start_time": "2022-08-05T14:57:00.536Z"
   },
   {
    "duration": 10,
    "start_time": "2022-08-05T14:57:00.560Z"
   },
   {
    "duration": 25,
    "start_time": "2022-08-05T14:57:00.572Z"
   },
   {
    "duration": 223,
    "start_time": "2022-08-05T14:57:00.599Z"
   },
   {
    "duration": 302,
    "start_time": "2022-08-05T14:57:00.824Z"
   },
   {
    "duration": 13,
    "start_time": "2022-08-05T14:57:17.358Z"
   },
   {
    "duration": 4,
    "start_time": "2022-08-05T14:57:26.564Z"
   },
   {
    "duration": 6,
    "start_time": "2022-08-05T14:57:36.757Z"
   },
   {
    "duration": 5,
    "start_time": "2022-08-05T14:57:46.297Z"
   },
   {
    "duration": 9,
    "start_time": "2022-08-05T14:58:26.177Z"
   },
   {
    "duration": 6,
    "start_time": "2022-08-05T14:59:03.675Z"
   },
   {
    "duration": 8,
    "start_time": "2022-08-05T14:59:24.335Z"
   },
   {
    "duration": 8,
    "start_time": "2022-08-05T14:59:26.298Z"
   }
  ],
  "colab": {
   "collapsed_sections": [],
   "name": "Cosmic_brothers_Advertising_sources_analysis_Petrov_A_step1_rev.1.0.ipynb",
   "provenance": [],
   "toc_visible": true
  },
  "kernelspec": {
   "display_name": "Python 3 (ipykernel)",
   "language": "python",
   "name": "python3"
  },
  "language_info": {
   "codemirror_mode": {
    "name": "ipython",
    "version": 3
   },
   "file_extension": ".py",
   "mimetype": "text/x-python",
   "name": "python",
   "nbconvert_exporter": "python",
   "pygments_lexer": "ipython3",
   "version": "3.9.12"
  },
  "toc": {
   "base_numbering": 1,
   "nav_menu": {},
   "number_sections": true,
   "sideBar": true,
   "skip_h1_title": true,
   "title_cell": "Table of Contents",
   "title_sidebar": "Contents",
   "toc_cell": false,
   "toc_position": {
    "height": "calc(100% - 180px)",
    "left": "10px",
    "top": "150px",
    "width": "349.091px"
   },
   "toc_section_display": true,
   "toc_window_display": false
  }
 },
 "nbformat": 4,
 "nbformat_minor": 5
}
